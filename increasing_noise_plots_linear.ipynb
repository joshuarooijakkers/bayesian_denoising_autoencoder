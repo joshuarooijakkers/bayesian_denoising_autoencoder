{
  "nbformat": 4,
  "nbformat_minor": 0,
  "metadata": {
    "colab": {
      "provenance": [],
      "gpuType": "T4"
    },
    "kernelspec": {
      "name": "python3",
      "display_name": "Python 3"
    },
    "language_info": {
      "name": "python"
    },
    "accelerator": "GPU"
  },
  "cells": [
    {
      "cell_type": "markdown",
      "source": [
        "# Increasing noise BDAE (Linear)\n"
      ],
      "metadata": {
        "id": "PlZSSNIGYzet"
      }
    },
    {
      "cell_type": "markdown",
      "source": [
        "## Data loading and processing"
      ],
      "metadata": {
        "id": "cF9oEeO_0iA3"
      }
    },
    {
      "cell_type": "code",
      "source": [
        "import torch\n",
        "import torch.nn as nn\n",
        "import torch.nn.functional as F\n",
        "import torchvision.transforms.functional as TF\n",
        "from torchvision import datasets\n",
        "import torchvision.transforms as transforms\n",
        "from torch.utils.data import random_split, DataLoader\n",
        "from torch.utils.tensorboard import SummaryWriter\n",
        "from tqdm import tqdm\n",
        "!pip install -q tensorflow\n",
        "%load_ext tensorboard\n",
        "\n",
        "import matplotlib.pyplot as plt\n",
        "import seaborn as sns\n",
        "import numpy as np"
      ],
      "metadata": {
        "id": "ZlhMeo9KNqcI"
      },
      "execution_count": 2,
      "outputs": []
    },
    {
      "cell_type": "code",
      "source": [
        "device = torch.device('cuda' if torch.cuda.is_available() else 'cpu')\n",
        "device"
      ],
      "metadata": {
        "colab": {
          "base_uri": "https://localhost:8080/"
        },
        "id": "e45FnUe8STwL",
        "outputId": "38b888ed-ac25-494f-8e73-dc5356f89671"
      },
      "execution_count": 3,
      "outputs": [
        {
          "output_type": "execute_result",
          "data": {
            "text/plain": [
              "device(type='cpu')"
            ]
          },
          "metadata": {},
          "execution_count": 3
        }
      ]
    },
    {
      "cell_type": "code",
      "source": [
        "# convert data to torch.FloatTensor\n",
        "transform = transforms.ToTensor()\n",
        "\n",
        "# load the training and test datasets\n",
        "trainval_data = datasets.MNIST(root='~/.pytorch/MNIST_data/', train=True,\n",
        "                                   download=True, transform=transform)\n",
        "test_data = datasets.MNIST(root='~/.pytorch/MNIST_data/', train=False,\n",
        "                                  download=True, transform=transform)"
      ],
      "metadata": {
        "id": "6kgioEV_N5as",
        "colab": {
          "base_uri": "https://localhost:8080/"
        },
        "outputId": "265d11ed-849a-48b0-a601-f9ce7595f650"
      },
      "execution_count": 4,
      "outputs": [
        {
          "output_type": "stream",
          "name": "stdout",
          "text": [
            "Downloading http://yann.lecun.com/exdb/mnist/train-images-idx3-ubyte.gz\n",
            "Failed to download (trying next):\n",
            "HTTP Error 403: Forbidden\n",
            "\n",
            "Downloading https://ossci-datasets.s3.amazonaws.com/mnist/train-images-idx3-ubyte.gz\n",
            "Downloading https://ossci-datasets.s3.amazonaws.com/mnist/train-images-idx3-ubyte.gz to /root/.pytorch/MNIST_data/MNIST/raw/train-images-idx3-ubyte.gz\n"
          ]
        },
        {
          "output_type": "stream",
          "name": "stderr",
          "text": [
            "100%|██████████| 9912422/9912422 [00:00<00:00, 17789239.20it/s]\n"
          ]
        },
        {
          "output_type": "stream",
          "name": "stdout",
          "text": [
            "Extracting /root/.pytorch/MNIST_data/MNIST/raw/train-images-idx3-ubyte.gz to /root/.pytorch/MNIST_data/MNIST/raw\n",
            "\n",
            "Downloading http://yann.lecun.com/exdb/mnist/train-labels-idx1-ubyte.gz\n",
            "Failed to download (trying next):\n",
            "HTTP Error 403: Forbidden\n",
            "\n",
            "Downloading https://ossci-datasets.s3.amazonaws.com/mnist/train-labels-idx1-ubyte.gz\n",
            "Downloading https://ossci-datasets.s3.amazonaws.com/mnist/train-labels-idx1-ubyte.gz to /root/.pytorch/MNIST_data/MNIST/raw/train-labels-idx1-ubyte.gz\n"
          ]
        },
        {
          "output_type": "stream",
          "name": "stderr",
          "text": [
            "100%|██████████| 28881/28881 [00:00<00:00, 499763.57it/s]\n"
          ]
        },
        {
          "output_type": "stream",
          "name": "stdout",
          "text": [
            "Extracting /root/.pytorch/MNIST_data/MNIST/raw/train-labels-idx1-ubyte.gz to /root/.pytorch/MNIST_data/MNIST/raw\n",
            "\n",
            "Downloading http://yann.lecun.com/exdb/mnist/t10k-images-idx3-ubyte.gz\n",
            "Failed to download (trying next):\n",
            "HTTP Error 403: Forbidden\n",
            "\n",
            "Downloading https://ossci-datasets.s3.amazonaws.com/mnist/t10k-images-idx3-ubyte.gz\n",
            "Downloading https://ossci-datasets.s3.amazonaws.com/mnist/t10k-images-idx3-ubyte.gz to /root/.pytorch/MNIST_data/MNIST/raw/t10k-images-idx3-ubyte.gz\n"
          ]
        },
        {
          "output_type": "stream",
          "name": "stderr",
          "text": [
            "100%|██████████| 1648877/1648877 [00:00<00:00, 4471616.43it/s]\n"
          ]
        },
        {
          "output_type": "stream",
          "name": "stdout",
          "text": [
            "Extracting /root/.pytorch/MNIST_data/MNIST/raw/t10k-images-idx3-ubyte.gz to /root/.pytorch/MNIST_data/MNIST/raw\n",
            "\n",
            "Downloading http://yann.lecun.com/exdb/mnist/t10k-labels-idx1-ubyte.gz\n",
            "Failed to download (trying next):\n",
            "HTTP Error 403: Forbidden\n",
            "\n",
            "Downloading https://ossci-datasets.s3.amazonaws.com/mnist/t10k-labels-idx1-ubyte.gz\n",
            "Downloading https://ossci-datasets.s3.amazonaws.com/mnist/t10k-labels-idx1-ubyte.gz to /root/.pytorch/MNIST_data/MNIST/raw/t10k-labels-idx1-ubyte.gz\n"
          ]
        },
        {
          "output_type": "stream",
          "name": "stderr",
          "text": [
            "100%|██████████| 4542/4542 [00:00<00:00, 3677708.26it/s]"
          ]
        },
        {
          "output_type": "stream",
          "name": "stdout",
          "text": [
            "Extracting /root/.pytorch/MNIST_data/MNIST/raw/t10k-labels-idx1-ubyte.gz to /root/.pytorch/MNIST_data/MNIST/raw\n",
            "\n"
          ]
        },
        {
          "output_type": "stream",
          "name": "stderr",
          "text": [
            "\n"
          ]
        }
      ]
    },
    {
      "cell_type": "code",
      "source": [
        "train_data, val_data = random_split(trainval_data, [50_000, 10_000])\n",
        "\n",
        "# how many samples per batch to load\n",
        "batch_size = 64\n",
        "\n",
        "# prepare data loaders\n",
        "train_loader = torch.utils.data.DataLoader(train_data, batch_size=batch_size, shuffle=True)\n",
        "val_loader = torch.utils.data.DataLoader(val_data, batch_size=batch_size, shuffle=False)\n",
        "test_loader = torch.utils.data.DataLoader(test_data, batch_size=batch_size, shuffle=False)"
      ],
      "metadata": {
        "id": "l8ynxzkkdt1p"
      },
      "execution_count": 5,
      "outputs": []
    },
    {
      "cell_type": "code",
      "source": [
        "# Get a batch of training data\n",
        "data_iter = iter(train_loader)\n",
        "images, labels = next(data_iter)\n",
        "\n",
        "# Plot the first 10 images\n",
        "fig, axes = plt.subplots(1, 10, figsize=(15, 1.5))\n",
        "for i in range(10):\n",
        "    ax = axes[i]\n",
        "    ax.imshow(images[i].numpy().squeeze(), cmap='gray')\n",
        "    ax.axis('off')\n",
        "\n",
        "plt.show()"
      ],
      "metadata": {
        "colab": {
          "base_uri": "https://localhost:8080/",
          "height": 132
        },
        "id": "9gDobDSefgSe",
        "outputId": "244e953d-c283-4c5b-8776-e4bc6bdcb372"
      },
      "execution_count": 6,
      "outputs": [
        {
          "output_type": "display_data",
          "data": {
            "text/plain": [
              "<Figure size 1500x150 with 10 Axes>"
            ],
            "image/png": "[encoded data removed]"
          },
          "metadata": {}
        }
      ]
    },
    {
      "cell_type": "markdown",
      "source": [
        "## Autoencoder Architectures"
      ],
      "metadata": {
        "id": "_ZwS1LxU0qtB"
      }
    },
    {
      "cell_type": "code",
      "source": [
        "dropout_rate = 0.3\n",
        "\n",
        "def MC_dropout(act_vec, p=0.5, mask=True):\n",
        "  return F.dropout(act_vec, p=p, training=mask, inplace=False)\n",
        "\n",
        "class LinearBDAE(nn.Module):\n",
        "    def __init__(self):\n",
        "        super().__init__()\n",
        "        # Encoder layers\n",
        "        self.enc_fc1 = nn.Linear(28*28, 512)\n",
        "        self.enc_fc2 = nn.Linear(512, 256)\n",
        "        self.enc_fc3 = nn.Linear(256, 128)\n",
        "\n",
        "        # Decoder layers\n",
        "        self.dec_fc1 = nn.Linear(128, 256)\n",
        "        self.dec_fc2 = nn.Linear(256, 512)\n",
        "        self.dec_fc3 = nn.Linear(512, 28*28)\n",
        "\n",
        "    def forward(self, x, dropout_p=dropout_rate, apply_dropout=True):\n",
        "        # Encoder forward pass\n",
        "        x = F.relu(self.enc_fc1(x))\n",
        "        x = F.relu(self.enc_fc2(x))\n",
        "        x = F.relu(self.enc_fc3(x))\n",
        "\n",
        "        # Decoder forward pass with MC Dropout\n",
        "        x = F.relu(self.dec_fc1(x))\n",
        "        x = MC_dropout(x, p=dropout_p, mask=apply_dropout)\n",
        "        x = F.relu(self.dec_fc2(x))\n",
        "        x = MC_dropout(x, p=dropout_p, mask=apply_dropout)\n",
        "        x = torch.sigmoid(self.dec_fc3(x))\n",
        "        return x\n",
        "\n",
        "    def sample_predict(self, x, Nsamples):\n",
        "      predictions = x.data.new(Nsamples, x.shape[0], 28*28)\n",
        "      for i in range(Nsamples):\n",
        "        y = self.forward(x)\n",
        "        predictions[i] = y\n",
        "\n",
        "      predictions_mean = torch.mean(predictions, dim=0)\n",
        "      predictions_var = torch.var(predictions, dim=0)\n",
        "\n",
        "      return predictions, predictions_mean, predictions_var"
      ],
      "metadata": {
        "id": "ysrc2_7-8U__"
      },
      "execution_count": 7,
      "outputs": []
    },
    {
      "cell_type": "markdown",
      "source": [
        "## Noise schemes"
      ],
      "metadata": {
        "id": "i-uvFRQO5dNT"
      }
    },
    {
      "cell_type": "code",
      "source": [
        "def add_gaussian_noise(images, noise_factor=0.5):\n",
        "  corrupted_images = images + noise_factor * torch.randn(*images.shape)\n",
        "  corrupted_images = np.clip(corrupted_images, 0., 1.)\n",
        "  return corrupted_images"
      ],
      "metadata": {
        "id": "klWJaaZ35gIN"
      },
      "execution_count": 8,
      "outputs": []
    },
    {
      "cell_type": "markdown",
      "source": [
        "## Training Process"
      ],
      "metadata": {
        "id": "PMQHrE8y0uZK"
      }
    },
    {
      "cell_type": "markdown",
      "source": [
        "### Training functions"
      ],
      "metadata": {
        "id": "Om1oPzEDrIMa"
      }
    },
    {
      "cell_type": "code",
      "source": [
        "def train(train_loader, net, optimizer, criterion, noise_factor):\n",
        "  total_loss = 0\n",
        "\n",
        "  for i, data in enumerate(train_loader):\n",
        "\n",
        "        images, _ = data\n",
        "        images = images.view(images.size(0), -1)\n",
        "\n",
        "        # ADD NOISE PROCESS\n",
        "        corrupted_images = add_gaussian_noise(images, noise_factor=noise_factor)\n",
        "\n",
        "        images = images.to(device)\n",
        "        corrupted_images = corrupted_images.to(device)\n",
        "\n",
        "        # zero the parameter gradients\n",
        "        optimizer.zero_grad()\n",
        "\n",
        "        # forward + backward + optimize\n",
        "        outputs = net.forward(corrupted_images)\n",
        "\n",
        "        loss = criterion(outputs, images)\n",
        "\n",
        "        loss.backward()\n",
        "        optimizer.step()\n",
        "\n",
        "        # keep track of loss and accuracy\n",
        "        total_loss += loss.item() * images.size(0)\n",
        "\n",
        "  avg_loss = total_loss/len(train_loader.dataset)  # Compute average loss\n",
        "\n",
        "  return avg_loss"
      ],
      "metadata": {
        "id": "tnpFp5G7ho7l"
      },
      "execution_count": 9,
      "outputs": []
    },
    {
      "cell_type": "code",
      "source": [
        "def validation(val_loader, net, criterion, Nsamples, noise_factor):\n",
        "  total_loss = 0\n",
        "\n",
        "  # Use torch.no_grad to skip gradient calculation, not needed for evaluation\n",
        "  with torch.no_grad():\n",
        "      # iterate through batches\n",
        "        for data in val_loader:\n",
        "            # get the inputs; data is a list of [inputs, labels]\n",
        "            images, _ = data\n",
        "            # images = images.to(device)\n",
        "            images = images.view(images.size(0), -1)\n",
        "\n",
        "            corrupted_images = add_gaussian_noise(images, noise_factor=noise_factor)\n",
        "\n",
        "            images = images.to(device)\n",
        "            corrupted_images = corrupted_images.to(device)\n",
        "\n",
        "            # forward pass\n",
        "            predictions, predictions_mean, predictions_var = net.sample_predict(corrupted_images, Nsamples)\n",
        "            loss = criterion(predictions_mean, images)\n",
        "\n",
        "            # keep track of loss and accuracy\n",
        "            total_loss += loss.item() * images.size(0)\n",
        "\n",
        "  return total_loss/len(val_loader.dataset)"
      ],
      "metadata": {
        "id": "sNDtUJu_jF_l"
      },
      "execution_count": 10,
      "outputs": []
    },
    {
      "cell_type": "markdown",
      "source": [
        "### Training Procedure"
      ],
      "metadata": {
        "id": "A0ntVTJIrJ-Z"
      }
    },
    {
      "cell_type": "markdown",
      "source": [
        "##### Noise factor = 0 (no noise)"
      ],
      "metadata": {
        "id": "YuxuDJhy5tUt"
      }
    },
    {
      "cell_type": "code",
      "source": [
        "#Set random seed\n",
        "torch.manual_seed(42)\n",
        "\n",
        "linear_model_00 = LinearBDAE().to(device)\n",
        "criterion = nn.MSELoss()\n",
        "learning_rate = 1e-3\n",
        "optimizer = torch.optim.Adam(linear_model_00.parameters(), lr=learning_rate)\n",
        "\n",
        "noise_factor = 0\n",
        "\n",
        "num_epochs = 25\n",
        "\n",
        "Nsamples = 10\n",
        "\n",
        "for epoch in tqdm(range(num_epochs)):  # loop over the dataset multiple times\n",
        "    # Train on data\n",
        "    train_loss = train(train_loader, linear_model_00, optimizer, criterion, noise_factor)\n",
        "\n",
        "print('Finished Training')"
      ],
      "metadata": {
        "colab": {
          "base_uri": "https://localhost:8080/"
        },
        "id": "OtDpd4G451o6",
        "outputId": "f120fe98-045c-4ec2-d5cd-a7b0857ddbf9"
      },
      "execution_count": 12,
      "outputs": [
        {
          "output_type": "stream",
          "name": "stderr",
          "text": [
            "100%|██████████| 25/25 [03:32<00:00,  8.51s/it]"
          ]
        },
        {
          "output_type": "stream",
          "name": "stdout",
          "text": [
            "Finished Training\n"
          ]
        },
        {
          "output_type": "stream",
          "name": "stderr",
          "text": [
            "\n"
          ]
        }
      ]
    },
    {
      "cell_type": "markdown",
      "source": [
        "##### Noise factor = 0.2"
      ],
      "metadata": {
        "id": "1BnTStEhOBgG"
      }
    },
    {
      "cell_type": "code",
      "source": [
        "linear_model_02 = LinearBDAE().to(device)\n",
        "criterion = nn.MSELoss()\n",
        "# learning_rate = 1e-3\n",
        "optimizer = torch.optim.Adam(linear_model_02.parameters(), lr=learning_rate)\n",
        "\n",
        "noise_factor = 0.2\n",
        "\n",
        "# num_epochs = 1\n",
        "\n",
        "# Nsamples = 10\n",
        "\n",
        "for epoch in tqdm(range(num_epochs)):  # loop over the dataset multiple times\n",
        "    # Train on data\n",
        "    train_loss = train(train_loader, linear_model_02, optimizer, criterion, noise_factor)\n",
        "\n",
        "print('Finished Training')\n"
      ],
      "metadata": {
        "colab": {
          "base_uri": "https://localhost:8080/"
        },
        "id": "Z4_UPu_VODVb",
        "outputId": "4152b3c3-e13e-486a-9d0a-f0d6a168606e"
      },
      "execution_count": 13,
      "outputs": [
        {
          "output_type": "stream",
          "name": "stderr",
          "text": [
            "100%|██████████| 25/25 [03:23<00:00,  8.15s/it]"
          ]
        },
        {
          "output_type": "stream",
          "name": "stdout",
          "text": [
            "Finished Training\n"
          ]
        },
        {
          "output_type": "stream",
          "name": "stderr",
          "text": [
            "\n"
          ]
        }
      ]
    },
    {
      "cell_type": "markdown",
      "source": [
        "##### Noise factor = 0.4"
      ],
      "metadata": {
        "id": "4RIUSecVN7hg"
      }
    },
    {
      "cell_type": "code",
      "source": [
        "linear_model_04 = LinearBDAE().to(device)\n",
        "criterion = nn.MSELoss()\n",
        "# learning_rate = 1e-3\n",
        "optimizer = torch.optim.Adam(linear_model_04.parameters(), lr=learning_rate)\n",
        "\n",
        "noise_factor = 0.4\n",
        "\n",
        "# num_epochs = 1\n",
        "\n",
        "# Nsamples = 10\n",
        "\n",
        "for epoch in tqdm(range(num_epochs)):  # loop over the dataset multiple times\n",
        "    # Train on data\n",
        "    train_loss = train(train_loader, linear_model_04, optimizer, criterion, noise_factor)\n",
        "\n",
        "print('Finished Training')"
      ],
      "metadata": {
        "colab": {
          "base_uri": "https://localhost:8080/"
        },
        "id": "qIvQiQYYnNHS",
        "outputId": "b42043ff-72cf-40ce-ee68-9cb7ab099ad3"
      },
      "execution_count": 14,
      "outputs": [
        {
          "output_type": "stream",
          "name": "stderr",
          "text": [
            "100%|██████████| 25/25 [03:23<00:00,  8.16s/it]"
          ]
        },
        {
          "output_type": "stream",
          "name": "stdout",
          "text": [
            "Finished Training\n"
          ]
        },
        {
          "output_type": "stream",
          "name": "stderr",
          "text": [
            "\n"
          ]
        }
      ]
    },
    {
      "cell_type": "markdown",
      "source": [
        "##### Noise factor = 0.6"
      ],
      "metadata": {
        "id": "QTDicF1z4rIb"
      }
    },
    {
      "cell_type": "code",
      "source": [
        "linear_model_06 = LinearBDAE().to(device)\n",
        "criterion = nn.MSELoss()\n",
        "# learning_rate = 1e-3\n",
        "optimizer = torch.optim.Adam(linear_model_06.parameters(), lr=learning_rate)\n",
        "\n",
        "noise_factor = 0.6\n",
        "\n",
        "# num_epochs = 1\n",
        "\n",
        "# Nsamples = 10\n",
        "\n",
        "for epoch in tqdm(range(num_epochs)):  # loop over the dataset multiple times\n",
        "    # Train on data\n",
        "    train_loss = train(train_loader, linear_model_06, optimizer, criterion, noise_factor)\n",
        "\n",
        "print('Finished Training')"
      ],
      "metadata": {
        "colab": {
          "base_uri": "https://localhost:8080/"
        },
        "id": "Kvq6-MCr4q4S",
        "outputId": "bc68fe86-1b19-4dc2-e759-bbb7f1279a2d"
      },
      "execution_count": 15,
      "outputs": [
        {
          "output_type": "stream",
          "name": "stderr",
          "text": [
            "100%|██████████| 25/25 [03:24<00:00,  8.17s/it]"
          ]
        },
        {
          "output_type": "stream",
          "name": "stdout",
          "text": [
            "Finished Training\n"
          ]
        },
        {
          "output_type": "stream",
          "name": "stderr",
          "text": [
            "\n"
          ]
        }
      ]
    },
    {
      "cell_type": "markdown",
      "source": [
        "##### Noise factor = 0.5"
      ],
      "metadata": {
        "id": "cBvDP4H44vUE"
      }
    },
    {
      "cell_type": "code",
      "source": [
        "linear_model_05 = LinearBDAE().to(device)\n",
        "criterion = nn.MSELoss()\n",
        "learning_rate = 1e-3\n",
        "optimizer = torch.optim.Adam(linear_model_05.parameters(), lr=learning_rate)\n",
        "\n",
        "noise_factor = 0.5\n",
        "\n",
        "num_epochs = 5\n",
        "\n",
        "Nsamples = 10\n",
        "\n",
        "for epoch in tqdm(range(num_epochs)):  # loop over the dataset multiple times\n",
        "    # Train on data\n",
        "    train_loss = train(train_loader, linear_model_05, optimizer, criterion, noise_factor)\n",
        "\n",
        "print('Finished Training')"
      ],
      "metadata": {
        "colab": {
          "base_uri": "https://localhost:8080/"
        },
        "id": "9nU5U51I44U5",
        "outputId": "1800d5bd-4b71-4798-e7d9-d80b754e21f2"
      },
      "execution_count": 13,
      "outputs": [
        {
          "output_type": "stream",
          "name": "stderr",
          "text": [
            "100%|██████████| 5/5 [02:06<00:00, 25.36s/it]"
          ]
        },
        {
          "output_type": "stream",
          "name": "stdout",
          "text": [
            "Finished Training\n"
          ]
        },
        {
          "output_type": "stream",
          "name": "stderr",
          "text": [
            "\n"
          ]
        }
      ]
    },
    {
      "cell_type": "markdown",
      "source": [
        "## Visualizations Linear"
      ],
      "metadata": {
        "id": "eFzIyAjr04kk"
      }
    },
    {
      "cell_type": "markdown",
      "source": [
        "### Clean images"
      ],
      "metadata": {
        "id": "J_M7GrgkObu9"
      }
    },
    {
      "cell_type": "code",
      "source": [
        "# Specify the index of the image you want to retrieve\n",
        "i = 120  # Change this index to get a different image\n",
        "\n",
        "# Retrieve the i-th image and its label\n",
        "image, _ = test_data[i]\n",
        "\n",
        "plt.imshow(image.squeeze(), cmap='gray')\n",
        "plt.axis('off')\n",
        "plt.show()"
      ],
      "metadata": {
        "colab": {
          "base_uri": "https://localhost:8080/",
          "height": 406
        },
        "id": "_90jotry6aJ_",
        "outputId": "bb156d55-817e-4e8b-de2c-efe0c74d5dc2"
      },
      "execution_count": 14,
      "outputs": [
        {
          "output_type": "display_data",
          "data": {
            "text/plain": [
              "<Figure size 640x480 with 1 Axes>"
            ],
            "image/png": "[encoded data removed]"
          },
          "metadata": {}
        }
      ]
    },
    {
      "cell_type": "code",
      "source": [
        "# Define the noise levels\n",
        "noise_levels = [0.0, 0.2, 0.4, 0.5]\n",
        "# noise_levels = [0.0, 0.2, 0.4, 0.6]\n",
        "\n",
        "# Create a plot of 4 rows by 1 column\n",
        "fig, axs = plt.subplots(4, 1, figsize=(5, 10))\n",
        "\n",
        "noisy_images = []\n",
        "\n",
        "# Plot the images with different levels of Gaussian noise\n",
        "for idx, noise_level in enumerate(noise_levels):\n",
        "    noisy_image = add_gaussian_noise(image, noise_factor=noise_level)\n",
        "    noisy_images.append(noisy_image)\n",
        "\n",
        "    axs[idx].imshow(noisy_image.squeeze(), cmap='gray')\n",
        "    axs[idx].set_title(f\"σ = {noise_level}\", y=-0.12)\n",
        "    axs[idx].axis('off')\n",
        "\n",
        "# Show the plot\n",
        "plt.tight_layout()\n",
        "plt.show()"
      ],
      "metadata": {
        "colab": {
          "base_uri": "https://localhost:8080/",
          "height": 1000
        },
        "id": "zJaaRIt37Pfk",
        "outputId": "f8fbda44-2efd-4b5b-d823-2e86e5faedf3"
      },
      "execution_count": 48,
      "outputs": [
        {
          "output_type": "display_data",
          "data": {
            "text/plain": [
              "<Figure size 500x1000 with 4 Axes>"
            ],
            "image/png": "[encoded data removed]"
          },
          "metadata": {}
        }
      ]
    },
    {
      "cell_type": "code",
      "source": [
        "# Define the noise levels and corresponding models\n",
        "models = [linear_model_05, linear_model_05, linear_model_05, linear_model_05]  # Replace with your actual models\n",
        "# models = [linear_model_00, linear_model_02, linear_model_04, linear_model_06]\n",
        "\n",
        "# Apply noise and denoise images\n",
        "denoised_means = []\n",
        "denoised_vars = []\n",
        "\n",
        "\n",
        "for corrupted_image, model in zip(noisy_images, models):\n",
        "    model.eval()\n",
        "    predictions, predictions_mean, predictions_var = model.sample_predict(corrupted_image.view(-1, 28*28).to(device), 100)  # Assuming model takes a batch of images\n",
        "    denoised_means.append(predictions_mean.view(28,28).cpu().detach().numpy())\n",
        "    denoised_vars.append(predictions_var.view(28,28).cpu().detach().numpy())\n",
        "\n",
        "# Create a plot of 4 rows by 1 column for denoised images\n",
        "fig, axs = plt.subplots(4, 1, figsize=(5, 10))\n",
        "\n",
        "# Plot the denoised images\n",
        "for idx, denoised_image in enumerate(denoised_means):\n",
        "    axs[idx].imshow(denoised_image, cmap='gray', vmax=1)\n",
        "    axs[idx].set_title(f\"   \", y=-0.12)\n",
        "    axs[idx].axis('off')\n",
        "\n",
        "# Show the plot\n",
        "plt.tight_layout()\n",
        "plt.show()"
      ],
      "metadata": {
        "colab": {
          "base_uri": "https://localhost:8080/",
          "height": 1000
        },
        "id": "-ViO0nRU8m-d",
        "outputId": "3e7e0087-3524-4aa2-b549-ca58369472b0"
      },
      "execution_count": 49,
      "outputs": [
        {
          "output_type": "display_data",
          "data": {
            "text/plain": [
              "<Figure size 500x1000 with 4 Axes>"
            ],
            "image/png": "[encoded data removed]"
          },
          "metadata": {}
        }
      ]
    },
    {
      "cell_type": "code",
      "source": [
        "# Create a plot of 4 rows by 1 column for denoised images\n",
        "fig, axs = plt.subplots(4, 1, figsize=(5, 10))\n",
        "\n",
        "# Plot the denoised images\n",
        "for idx, denoised_image in enumerate(denoised_vars):\n",
        "\n",
        "    print(np.max(denoised_image))\n",
        "\n",
        "    mean_variance = np.mean(denoised_image)/np.max(denoised_image)\n",
        "\n",
        "    axs[idx].imshow(denoised_image, cmap='viridis', vmax=0.083)\n",
        "    axs[idx].text(0.95, 0.05, f'{mean_variance:.4f}', size=10, ha='right', va='bottom', color='white', transform=axs[idx].transAxes)\n",
        "    axs[idx].set_title(f\"   \", y=-0.12)\n",
        "    axs[idx].axis('off')\n",
        "\n",
        "# Show the plot\n",
        "plt.tight_layout()\n",
        "plt.show()"
      ],
      "metadata": {
        "colab": {
          "base_uri": "https://localhost:8080/",
          "height": 1000
        },
        "id": "B-R7yFPr_g8h",
        "outputId": "07776d0d-9444-4443-a20d-c50403b8e73b"
      },
      "execution_count": 51,
      "outputs": [
        {
          "output_type": "stream",
          "name": "stdout",
          "text": [
            "0.08271138\n",
            "0.059058703\n",
            "0.035255842\n",
            "0.026684625\n"
          ]
        },
        {
          "output_type": "display_data",
          "data": {
            "text/plain": [
              "<Figure size 500x1000 with 4 Axes>"
            ],
            "image/png": "[encoded data removed]"
          },
          "metadata": {}
        }
      ]
    },
    {
      "cell_type": "code",
      "source": [
        "\n",
        "\n",
        "# Apply noise and denoise images\n",
        "denoised_means = []\n",
        "denoised_vars = []\n",
        "\n",
        "\n",
        "for corrupted_image, model in zip(noisy_images, models):\n",
        "    model.eval()\n",
        "    predictions = model(corrupted_image.view(-1, 28*28).to(device))  # Assuming model takes a batch of images\n",
        "    denoised_means.append(predictions.view(28,28).cpu().detach().numpy())\n",
        "    # denoised_vars.append(predictions_var.view(28,28).cpu().detach().numpy())\n",
        "\n",
        "# Create a plot of 4 rows by 1 column for denoised images\n",
        "fig, axs = plt.subplots(4, 1, figsize=(5, 10))\n",
        "\n",
        "# Plot the denoised images\n",
        "for idx, denoised_image in enumerate(denoised_means):\n",
        "    axs[idx].imshow(denoised_image, cmap='gray', vmax=1)\n",
        "    axs[idx].set_title(f\"   \", y=-0.12)\n",
        "    axs[idx].axis('off')\n",
        "\n",
        "# Show the plot\n",
        "plt.tight_layout()\n",
        "plt.show()"
      ],
      "metadata": {
        "colab": {
          "base_uri": "https://localhost:8080/",
          "height": 1000
        },
        "id": "TKVgD5QMQFow",
        "outputId": "e3661915-0910-46fb-bb4f-929b2b746dd0"
      },
      "execution_count": 52,
      "outputs": [
        {
          "output_type": "display_data",
          "data": {
            "text/plain": [
              "<Figure size 500x1000 with 4 Axes>"
            ],
            "image/png": "[encoded data removed]"
          },
          "metadata": {}
        }
      ]
    },
    {
      "cell_type": "code",
      "source": [
        "# Initialize figure and axes\n",
        "fig, axs = plt.subplots(4, 2, figsize=(10, 20))\n",
        "\n",
        "# Plot denoised images and histograms\n",
        "for idx, (denoised_image, noisy_image) in enumerate(zip(denoised_means, noisy_images)):\n",
        "    # Plot denoised image\n",
        "    axs[idx, 0].imshow(denoised_image, cmap='gray', vmax=1)\n",
        "    axs[idx, 0].set_title(f\"Denoised Image {idx+1}\")\n",
        "    axs[idx, 0].axis('off')\n",
        "\n",
        "    # Plot histogram\n",
        "    axs[idx, 1].hist(denoised_image.flatten(), bins=50, color='blue', alpha=0.7, label='Denoised Image')\n",
        "    # axs[idx, 1].hist(noisy_image.cpu().detach().numpy().flatten(), bins=50, color='red', alpha=0.5, label='Noisy Image')\n",
        "    axs[idx, 1].set_title(\"Histogram\")\n",
        "    axs[idx, 1].set_yscale('log')  # Set logarithmic scale\n",
        "    axs[idx, 1].legend()\n",
        "\n",
        "# Show the plot\n",
        "plt.tight_layout()\n",
        "plt.show()"
      ],
      "metadata": {
        "colab": {
          "base_uri": "https://localhost:8080/",
          "height": 1000
        },
        "id": "v-Gb-UTHSPvZ",
        "outputId": "069d2b04-ff9b-4e44-b8db-f465616dfebe"
      },
      "execution_count": 53,
      "outputs": [
        {
          "output_type": "display_data",
          "data": {
            "text/plain": [
              "<Figure size 1000x2000 with 8 Axes>"
            ],
            "image/png": "[encoded data removed]"
          },
          "metadata": {}
        }
      ]
    }
  ]
}