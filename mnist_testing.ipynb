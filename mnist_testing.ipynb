{
  "nbformat": 4,
  "nbformat_minor": 0,
  "metadata": {
    "colab": {
      "provenance": [],
      "gpuType": "T4"
    },
    "kernelspec": {
      "name": "python3",
      "display_name": "Python 3"
    },
    "language_info": {
      "name": "python"
    },
    "accelerator": "GPU"
  },
  "cells": [
    {
      "cell_type": "markdown",
      "source": [
        "# Evaluating Bayesian Denoising Autoencoder on MNIST, EMNIST and Fashion-MNIST dataset\n"
      ],
      "metadata": {
        "id": "PlZSSNIGYzet"
      }
    },
    {
      "cell_type": "markdown",
      "source": [
        "## Data loading and processing"
      ],
      "metadata": {
        "id": "cF9oEeO_0iA3"
      }
    },
    {
      "cell_type": "markdown",
      "source": [
        "Installing packages"
      ],
      "metadata": {
        "id": "Xr2ele5SOcI3"
      }
    },
    {
      "cell_type": "code",
      "source": [
        "import torch\n",
        "import torch.nn as nn\n",
        "import torch.nn.functional as F\n",
        "import torchvision.transforms.functional as TF\n",
        "from torchvision import datasets\n",
        "import torchvision.transforms as transforms\n",
        "from torch.utils.data import random_split, DataLoader\n",
        "from torch.utils.tensorboard import SummaryWriter\n",
        "from tqdm import tqdm\n",
        "!pip install -q tensorflow\n",
        "%load_ext tensorboard\n",
        "\n",
        "from skimage.metrics import structural_similarity as ssim\n",
        "\n",
        "import matplotlib.pyplot as plt\n",
        "import seaborn as sns\n",
        "import numpy as np\n",
        "\n",
        "random_seed = 42\n",
        "torch.manual_seed(random_seed)\n",
        "np.random.seed(random_seed)"
      ],
      "metadata": {
        "id": "ZlhMeo9KNqcI"
      },
      "execution_count": null,
      "outputs": []
    },
    {
      "cell_type": "markdown",
      "source": [
        "Switch to GPU if needed"
      ],
      "metadata": {
        "id": "MaQIu-R9OeMC"
      }
    },
    {
      "cell_type": "code",
      "source": [
        "device = torch.device('cuda' if torch.cuda.is_available() else 'cpu')\n",
        "device"
      ],
      "metadata": {
        "id": "e45FnUe8STwL",
        "colab": {
          "base_uri": "https://localhost:8080/"
        },
        "outputId": "bbae90c5-18d6-4029-bd34-414932cbaf7a"
      },
      "execution_count": null,
      "outputs": [
        {
          "output_type": "execute_result",
          "data": {
            "text/plain": [
              "device(type='cuda')"
            ]
          },
          "metadata": {},
          "execution_count": 9
        }
      ]
    },
    {
      "cell_type": "markdown",
      "source": [
        "Load data"
      ],
      "metadata": {
        "id": "jdgZxfLfOgPP"
      }
    },
    {
      "cell_type": "code",
      "source": [
        "transform = transforms.ToTensor()\n",
        "\n",
        "test_data_mnist = datasets.MNIST(root='~/.pytorch/MNIST_data/', train=False,\n",
        "                                  download=True, transform=transform)\n",
        "test_data_emnist = datasets.EMNIST(\n",
        "                root='./data',\n",
        "                download=True,\n",
        "                split='letters',\n",
        "                train=False,\n",
        "                transform=transforms.Compose([\n",
        "                    lambda img: transforms.functional.rotate(img, -90),\n",
        "                    lambda img: transforms.functional.hflip(img),\n",
        "                    transforms.ToTensor()\n",
        "                ])\n",
        "            )\n",
        "\n",
        "test_data_fashion = datasets.FashionMNIST(root='data', train=False,\n",
        "                                     download=True, transform=transform)"
      ],
      "metadata": {
        "id": "6kgioEV_N5as",
        "colab": {
          "base_uri": "https://localhost:8080/"
        },
        "outputId": "dc893bb7-d669-4c66-c11e-0f8b9df864c6"
      },
      "execution_count": null,
      "outputs": [
        {
          "output_type": "stream",
          "name": "stdout",
          "text": [
            "Downloading http://yann.lecun.com/exdb/mnist/train-images-idx3-ubyte.gz\n",
            "Failed to download (trying next):\n",
            "HTTP Error 403: Forbidden\n",
            "\n",
            "Downloading https://ossci-datasets.s3.amazonaws.com/mnist/train-images-idx3-ubyte.gz\n",
            "Downloading https://ossci-datasets.s3.amazonaws.com/mnist/train-images-idx3-ubyte.gz to /root/.pytorch/MNIST_data/MNIST/raw/train-images-idx3-ubyte.gz\n"
          ]
        },
        {
          "output_type": "stream",
          "name": "stderr",
          "text": [
            "100%|██████████| 9912422/9912422 [00:02<00:00, 4593967.74it/s]\n"
          ]
        },
        {
          "output_type": "stream",
          "name": "stdout",
          "text": [
            "Extracting /root/.pytorch/MNIST_data/MNIST/raw/train-images-idx3-ubyte.gz to /root/.pytorch/MNIST_data/MNIST/raw\n",
            "\n",
            "Downloading http://yann.lecun.com/exdb/mnist/train-labels-idx1-ubyte.gz\n",
            "Failed to download (trying next):\n",
            "HTTP Error 403: Forbidden\n",
            "\n",
            "Downloading https://ossci-datasets.s3.amazonaws.com/mnist/train-labels-idx1-ubyte.gz\n",
            "Downloading https://ossci-datasets.s3.amazonaws.com/mnist/train-labels-idx1-ubyte.gz to /root/.pytorch/MNIST_data/MNIST/raw/train-labels-idx1-ubyte.gz\n"
          ]
        },
        {
          "output_type": "stream",
          "name": "stderr",
          "text": [
            "100%|██████████| 28881/28881 [00:00<00:00, 135176.17it/s]\n"
          ]
        },
        {
          "output_type": "stream",
          "name": "stdout",
          "text": [
            "Extracting /root/.pytorch/MNIST_data/MNIST/raw/train-labels-idx1-ubyte.gz to /root/.pytorch/MNIST_data/MNIST/raw\n",
            "\n",
            "Downloading http://yann.lecun.com/exdb/mnist/t10k-images-idx3-ubyte.gz\n",
            "Failed to download (trying next):\n",
            "HTTP Error 403: Forbidden\n",
            "\n",
            "Downloading https://ossci-datasets.s3.amazonaws.com/mnist/t10k-images-idx3-ubyte.gz\n",
            "Downloading https://ossci-datasets.s3.amazonaws.com/mnist/t10k-images-idx3-ubyte.gz to /root/.pytorch/MNIST_data/MNIST/raw/t10k-images-idx3-ubyte.gz\n"
          ]
        },
        {
          "output_type": "stream",
          "name": "stderr",
          "text": [
            "100%|██████████| 1648877/1648877 [00:01<00:00, 1252447.55it/s]\n"
          ]
        },
        {
          "output_type": "stream",
          "name": "stdout",
          "text": [
            "Extracting /root/.pytorch/MNIST_data/MNIST/raw/t10k-images-idx3-ubyte.gz to /root/.pytorch/MNIST_data/MNIST/raw\n",
            "\n",
            "Downloading http://yann.lecun.com/exdb/mnist/t10k-labels-idx1-ubyte.gz\n",
            "Failed to download (trying next):\n",
            "HTTP Error 403: Forbidden\n",
            "\n",
            "Downloading https://ossci-datasets.s3.amazonaws.com/mnist/t10k-labels-idx1-ubyte.gz\n",
            "Downloading https://ossci-datasets.s3.amazonaws.com/mnist/t10k-labels-idx1-ubyte.gz to /root/.pytorch/MNIST_data/MNIST/raw/t10k-labels-idx1-ubyte.gz\n"
          ]
        },
        {
          "output_type": "stream",
          "name": "stderr",
          "text": [
            "100%|██████████| 4542/4542 [00:00<00:00, 4087219.22it/s]\n"
          ]
        },
        {
          "output_type": "stream",
          "name": "stdout",
          "text": [
            "Extracting /root/.pytorch/MNIST_data/MNIST/raw/t10k-labels-idx1-ubyte.gz to /root/.pytorch/MNIST_data/MNIST/raw\n",
            "\n",
            "Downloading https://biometrics.nist.gov/cs_links/EMNIST/gzip.zip to ./data/EMNIST/raw/gzip.zip\n"
          ]
        },
        {
          "output_type": "stream",
          "name": "stderr",
          "text": [
            "100%|██████████| 561753746/561753746 [00:29<00:00, 19136622.31it/s]\n"
          ]
        },
        {
          "output_type": "stream",
          "name": "stdout",
          "text": [
            "Extracting ./data/EMNIST/raw/gzip.zip to ./data/EMNIST/raw\n",
            "Downloading http://fashion-mnist.s3-website.eu-central-1.amazonaws.com/train-images-idx3-ubyte.gz\n",
            "Downloading http://fashion-mnist.s3-website.eu-central-1.amazonaws.com/train-images-idx3-ubyte.gz to data/FashionMNIST/raw/train-images-idx3-ubyte.gz\n"
          ]
        },
        {
          "output_type": "stream",
          "name": "stderr",
          "text": [
            "100%|██████████| 26421880/26421880 [00:02<00:00, 9552764.13it/s] \n"
          ]
        },
        {
          "output_type": "stream",
          "name": "stdout",
          "text": [
            "Extracting data/FashionMNIST/raw/train-images-idx3-ubyte.gz to data/FashionMNIST/raw\n",
            "\n",
            "Downloading http://fashion-mnist.s3-website.eu-central-1.amazonaws.com/train-labels-idx1-ubyte.gz\n",
            "Downloading http://fashion-mnist.s3-website.eu-central-1.amazonaws.com/train-labels-idx1-ubyte.gz to data/FashionMNIST/raw/train-labels-idx1-ubyte.gz\n"
          ]
        },
        {
          "output_type": "stream",
          "name": "stderr",
          "text": [
            "100%|██████████| 29515/29515 [00:00<00:00, 167001.51it/s]\n"
          ]
        },
        {
          "output_type": "stream",
          "name": "stdout",
          "text": [
            "Extracting data/FashionMNIST/raw/train-labels-idx1-ubyte.gz to data/FashionMNIST/raw\n",
            "\n",
            "Downloading http://fashion-mnist.s3-website.eu-central-1.amazonaws.com/t10k-images-idx3-ubyte.gz\n",
            "Downloading http://fashion-mnist.s3-website.eu-central-1.amazonaws.com/t10k-images-idx3-ubyte.gz to data/FashionMNIST/raw/t10k-images-idx3-ubyte.gz\n"
          ]
        },
        {
          "output_type": "stream",
          "name": "stderr",
          "text": [
            "100%|██████████| 4422102/4422102 [00:01<00:00, 3129507.06it/s]\n"
          ]
        },
        {
          "output_type": "stream",
          "name": "stdout",
          "text": [
            "Extracting data/FashionMNIST/raw/t10k-images-idx3-ubyte.gz to data/FashionMNIST/raw\n",
            "\n",
            "Downloading http://fashion-mnist.s3-website.eu-central-1.amazonaws.com/t10k-labels-idx1-ubyte.gz\n",
            "Downloading http://fashion-mnist.s3-website.eu-central-1.amazonaws.com/t10k-labels-idx1-ubyte.gz to data/FashionMNIST/raw/t10k-labels-idx1-ubyte.gz\n"
          ]
        },
        {
          "output_type": "stream",
          "name": "stderr",
          "text": [
            "100%|██████████| 5148/5148 [00:00<00:00, 6170985.14it/s]"
          ]
        },
        {
          "output_type": "stream",
          "name": "stdout",
          "text": [
            "Extracting data/FashionMNIST/raw/t10k-labels-idx1-ubyte.gz to data/FashionMNIST/raw\n",
            "\n"
          ]
        },
        {
          "output_type": "stream",
          "name": "stderr",
          "text": [
            "\n"
          ]
        }
      ]
    },
    {
      "cell_type": "markdown",
      "source": [
        "Create dataloaders with batch size"
      ],
      "metadata": {
        "id": "ed0sc7TNOiT4"
      }
    },
    {
      "cell_type": "code",
      "source": [
        "batch_size = 64\n",
        "\n",
        "test_loader_mnist = torch.utils.data.DataLoader(test_data_mnist, batch_size=batch_size, shuffle=False)\n",
        "test_loader_emnist = torch.utils.data.DataLoader(test_data_emnist, batch_size=batch_size, shuffle=False)\n",
        "test_loader_fashion = torch.utils.data.DataLoader(test_data_fashion, batch_size=batch_size, shuffle=False)"
      ],
      "metadata": {
        "id": "l8ynxzkkdt1p"
      },
      "execution_count": null,
      "outputs": []
    },
    {
      "cell_type": "markdown",
      "source": [
        "Plot example images MNIST dataset"
      ],
      "metadata": {
        "id": "imBpxCIZOlSk"
      }
    },
    {
      "cell_type": "code",
      "source": [
        "# Get a batch of training data\n",
        "data_iter = iter(test_loader_mnist)\n",
        "images, labels = next(data_iter)\n",
        "\n",
        "# Plot the first 10 images\n",
        "fig, axes = plt.subplots(1, 10, figsize=(15, 1.5))\n",
        "for i in range(10):\n",
        "    ax = axes[i]\n",
        "    ax.imshow(images[i].numpy().squeeze(), cmap='gray')\n",
        "    ax.axis('off')\n",
        "\n",
        "plt.show()"
      ],
      "metadata": {
        "colab": {
          "base_uri": "https://localhost:8080/",
          "height": 102
        },
        "id": "9gDobDSefgSe",
        "outputId": "87ba0a64-7d6e-414f-bde6-3a2fbd1c5c37"
      },
      "execution_count": null,
      "outputs": [
        {
          "output_type": "display_data",
          "data": {
            "text/plain": [
              "<Figure size 1500x150 with 10 Axes>"
            ],
            "image/png": "[encoded data removed]"
          },
          "metadata": {}
        }
      ]
    },
    {
      "cell_type": "markdown",
      "source": [
        "Plot example images Fashion-MNIST dataset"
      ],
      "metadata": {
        "id": "4ueffBjFOnqr"
      }
    },
    {
      "cell_type": "code",
      "source": [
        "# Get a batch of training data\n",
        "data_iter = iter(test_loader_fashion)\n",
        "images, labels = next(data_iter)\n",
        "\n",
        "# Plot the first 10 images\n",
        "fig, axes = plt.subplots(1, 10, figsize=(15, 1.5))\n",
        "for i in range(10):\n",
        "    ax = axes[i]\n",
        "    ax.imshow(images[i].numpy().squeeze(), cmap='gray')\n",
        "    ax.axis('off')\n",
        "\n",
        "plt.show()"
      ],
      "metadata": {
        "colab": {
          "base_uri": "https://localhost:8080/",
          "height": 102
        },
        "id": "fdbT4IreI7mO",
        "outputId": "65ff9f57-e1b0-4f18-c197-99dee6a2d38a"
      },
      "execution_count": null,
      "outputs": [
        {
          "output_type": "display_data",
          "data": {
            "text/plain": [
              "<Figure size 1500x150 with 10 Axes>"
            ],
            "image/png": "[encoded data removed]"
          },
          "metadata": {}
        }
      ]
    },
    {
      "cell_type": "markdown",
      "source": [
        "## Autoencoder Architectures"
      ],
      "metadata": {
        "id": "_ZwS1LxU0qtB"
      }
    },
    {
      "cell_type": "markdown",
      "source": [
        "Setting dropout rate and creating MC dropout function"
      ],
      "metadata": {
        "id": "9Bm1J93IOrCA"
      }
    },
    {
      "cell_type": "code",
      "source": [
        "dropout_rate = 0.1\n",
        "\n",
        "def MC_dropout(act_vec, p=0.5, mask=True):\n",
        "  return F.dropout(act_vec, p=p, training=mask, inplace=False)"
      ],
      "metadata": {
        "id": "tTv1xrOO40Te"
      },
      "execution_count": null,
      "outputs": []
    },
    {
      "cell_type": "markdown",
      "source": [
        "Initializing MNIST models"
      ],
      "metadata": {
        "id": "_q4pVkJHOuLO"
      }
    },
    {
      "cell_type": "code",
      "source": [
        "class LinearBDAEMNIST(nn.Module):\n",
        "    def __init__(self):\n",
        "        super().__init__()\n",
        "        # Encoder layers\n",
        "        self.enc_fc1 = nn.Linear(28*28, 1024)\n",
        "        self.enc_fc2 = nn.Linear(1024, 512)\n",
        "        self.enc_fc3 = nn.Linear(512, 256)\n",
        "\n",
        "        # Decoder layers\n",
        "        self.dec_fc1 = nn.Linear(256, 512)\n",
        "        self.dec_fc2 = nn.Linear(512, 1024)\n",
        "        self.dec_fc3 = nn.Linear(1024, 28*28)\n",
        "\n",
        "    def forward(self, x, dropout_p=dropout_rate, apply_dropout=True):\n",
        "        # Encoder forward pass\n",
        "        x = F.relu(self.enc_fc1(x))\n",
        "        x = F.relu(self.enc_fc2(x))\n",
        "        x = F.relu(self.enc_fc3(x))\n",
        "\n",
        "        # Decoder forward pass with MC Dropout\n",
        "        x = F.relu(self.dec_fc1(x))\n",
        "        x = MC_dropout(x, p=dropout_p, mask=apply_dropout)\n",
        "        x = F.relu(self.dec_fc2(x))\n",
        "        x = MC_dropout(x, p=dropout_p, mask=apply_dropout)\n",
        "        x = torch.sigmoid(self.dec_fc3(x))\n",
        "        return x\n",
        "\n",
        "    def sample_predict(self, x, Nsamples):\n",
        "      predictions = x.data.new(Nsamples, x.shape[0], 28*28)\n",
        "      for i in range(Nsamples):\n",
        "        y = self.forward(x)\n",
        "        predictions[i] = y\n",
        "\n",
        "      predictions_mean = torch.mean(predictions, dim=0)\n",
        "      predictions_var = torch.var(predictions, dim=0)\n",
        "\n",
        "      return predictions, predictions_mean, predictions_var\n",
        "\n",
        "class LinearDAEMNIST(nn.Module):\n",
        "    def __init__(self):\n",
        "        super().__init__()\n",
        "        # Encoder layers\n",
        "        self.enc_fc1 = nn.Linear(28*28, 1024)\n",
        "        self.enc_fc2 = nn.Linear(1024, 512)\n",
        "        self.enc_fc3 = nn.Linear(512, 256)\n",
        "\n",
        "        # Decoder layers\n",
        "        self.dec_fc1 = nn.Linear(256, 512)\n",
        "        self.dec_fc2 = nn.Linear(512, 1024)\n",
        "        self.dec_fc3 = nn.Linear(1024, 28*28)\n",
        "\n",
        "    def forward(self, x, dropout_p=dropout_rate, apply_dropout=True):\n",
        "        # Encoder forward pass\n",
        "        x = F.relu(self.enc_fc1(x))\n",
        "        x = F.relu(self.enc_fc2(x))\n",
        "        x = F.relu(self.enc_fc3(x))\n",
        "\n",
        "        # Decoder forward pass\n",
        "        x = F.relu(self.dec_fc1(x))\n",
        "        x = F.relu(self.dec_fc2(x))\n",
        "        x = torch.sigmoid(self.dec_fc3(x))\n",
        "        return x\n",
        "\n",
        "    def sample_predict(self, x, Nsamples):\n",
        "      predictions = x.data.new(Nsamples, x.shape[0], 28*28)\n",
        "      for i in range(Nsamples):\n",
        "        y = self.forward(x)\n",
        "        predictions[i] = y\n",
        "\n",
        "      predictions_mean = torch.mean(predictions, dim=0)\n",
        "      predictions_var = torch.var(predictions, dim=0)\n",
        "\n",
        "      return predictions, predictions_mean, predictions_var\n",
        "\n",
        "\n",
        "class ConvolutionalBDAEMNIST(nn.Module):\n",
        "    def __init__(self):\n",
        "        super().__init__()\n",
        "\n",
        "        # Encoder layers\n",
        "        self.conv1 = nn.Conv2d(1, 64, 3, stride=2, padding=1)\n",
        "        self.conv2 = nn.Conv2d(64, 128, 3, stride=2, padding=1)\n",
        "        self.conv3 = nn.Conv2d(128, 256, 7)\n",
        "\n",
        "        # Decoder layers\n",
        "        self.deconv1 = nn.ConvTranspose2d(256, 128, 7)\n",
        "        self.deconv2 = nn.ConvTranspose2d(128, 64, 3, stride=2, padding=1, output_padding=1)\n",
        "        self.deconv3 = nn.ConvTranspose2d(64, 1, 3, stride=2, padding=1, output_padding=1)\n",
        "        self.sigmoid = nn.Sigmoid()\n",
        "\n",
        "    def forward(self, x, dropout_p=dropout_rate, apply_dropout=True):\n",
        "        # Encoder\n",
        "        x = F.relu(self.conv1(x))\n",
        "        x = F.relu(self.conv2(x))\n",
        "        x = F.relu(self.conv3(x))\n",
        "\n",
        "        # Decoder\n",
        "        x = F.relu(self.deconv1(x))\n",
        "        x = MC_dropout(x, p=dropout_p, mask=apply_dropout)\n",
        "        x = F.relu(self.deconv2(x))\n",
        "        x = MC_dropout(x, p=dropout_p, mask=apply_dropout)\n",
        "        x = self.sigmoid(self.deconv3(x))\n",
        "\n",
        "        return x\n",
        "\n",
        "    def sample_predict(self, x, Nsamples):\n",
        "      predictions = x.data.new(Nsamples, x.shape[0], 28*28)\n",
        "      for i in range(Nsamples):\n",
        "        y = self.forward(x)\n",
        "        predictions[i] = y.view(-1, 28*28)\n",
        "\n",
        "      predictions_mean = torch.mean(predictions, dim=0)\n",
        "      predictions_var = torch.var(predictions, dim=0)\n",
        "\n",
        "      predictions_mean = predictions_mean.view(-1, 1, 28, 28)\n",
        "      predictions_var = predictions_var.view(-1, 1, 28, 28)\n",
        "\n",
        "      return predictions, predictions_mean, predictions_var\n",
        "\n",
        "class ConvolutionalDAEMNIST(nn.Module):\n",
        "    def __init__(self):\n",
        "        super().__init__()\n",
        "\n",
        "        # Encoder layers\n",
        "        self.conv1 = nn.Conv2d(1, 64, 3, stride=2, padding=1)\n",
        "        self.conv2 = nn.Conv2d(64, 128, 3, stride=2, padding=1)\n",
        "        self.conv3 = nn.Conv2d(128, 256, 7)\n",
        "\n",
        "        # Decoder layers\n",
        "        self.deconv1 = nn.ConvTranspose2d(256, 128, 7)\n",
        "        self.deconv2 = nn.ConvTranspose2d(128, 64, 3, stride=2, padding=1, output_padding=1)\n",
        "        self.deconv3 = nn.ConvTranspose2d(64, 1, 3, stride=2, padding=1, output_padding=1)\n",
        "        self.sigmoid = nn.Sigmoid()\n",
        "\n",
        "    def forward(self, x, dropout_p=dropout_rate, apply_dropout=True):\n",
        "        # Encoder\n",
        "        x = F.relu(self.conv1(x))\n",
        "        x = F.relu(self.conv2(x))\n",
        "        x = F.relu(self.conv3(x))\n",
        "\n",
        "        # Decoder\n",
        "        x = F.relu(self.deconv1(x))\n",
        "        x = F.relu(self.deconv2(x))\n",
        "        x = self.sigmoid(self.deconv3(x))\n",
        "\n",
        "        return x\n",
        "\n",
        "    def sample_predict(self, x, Nsamples):\n",
        "      predictions = x.data.new(Nsamples, x.shape[0], 28*28)\n",
        "      for i in range(Nsamples):\n",
        "        y = self.forward(x)\n",
        "        predictions[i] = y.view(-1, 28*28)\n",
        "\n",
        "      predictions_mean = torch.mean(predictions, dim=0)\n",
        "      predictions_var = torch.var(predictions, dim=0)\n",
        "\n",
        "      predictions_mean = predictions_mean.view(-1, 1, 28, 28)\n",
        "      predictions_var = predictions_var.view(-1, 1, 28, 28)\n",
        "\n",
        "      return predictions, predictions_mean, predictions_var"
      ],
      "metadata": {
        "id": "W840hwShJAlz"
      },
      "execution_count": null,
      "outputs": []
    },
    {
      "cell_type": "markdown",
      "source": [
        "Initializing Fashion-MNIST models"
      ],
      "metadata": {
        "id": "iSO0diW2Ozf-"
      }
    },
    {
      "cell_type": "code",
      "source": [
        "class LinearBDAEFashion(nn.Module):\n",
        "    def __init__(self):\n",
        "        super().__init__()\n",
        "        # Encoder layers\n",
        "        self.enc_fc1 = nn.Linear(28*28, 1024)\n",
        "        self.enc_fc2 = nn.Linear(1024, 512)\n",
        "        self.enc_fc3 = nn.Linear(512, 256)\n",
        "\n",
        "        # Decoder layers\n",
        "        self.dec_fc1 = nn.Linear(256, 512)\n",
        "        self.dec_fc2 = nn.Linear(512, 1024)\n",
        "        self.dec_fc3 = nn.Linear(1024, 28*28)\n",
        "\n",
        "    def forward(self, x, dropout_p=dropout_rate, apply_dropout=True):\n",
        "        # Encoder forward pass\n",
        "        x = F.relu(self.enc_fc1(x))\n",
        "        x = F.relu(self.enc_fc2(x))\n",
        "        x = F.relu(self.enc_fc3(x))\n",
        "\n",
        "        # Decoder forward pass with MC Dropout\n",
        "        x = F.relu(self.dec_fc1(x))\n",
        "        x = MC_dropout(x, p=dropout_p, mask=apply_dropout)\n",
        "        x = F.relu(self.dec_fc2(x))\n",
        "        x = MC_dropout(x, p=dropout_p, mask=apply_dropout)\n",
        "        x = torch.sigmoid(self.dec_fc3(x))\n",
        "        return x\n",
        "\n",
        "    def sample_predict(self, x, Nsamples):\n",
        "      predictions = x.data.new(Nsamples, x.shape[0], 28*28)\n",
        "      for i in range(Nsamples):\n",
        "        y = self.forward(x)\n",
        "        predictions[i] = y\n",
        "\n",
        "      predictions_mean = torch.mean(predictions, dim=0)\n",
        "      predictions_var = torch.var(predictions, dim=0)\n",
        "\n",
        "      return predictions, predictions_mean, predictions_var\n",
        "\n",
        "class LinearDAEFashion(nn.Module):\n",
        "    def __init__(self):\n",
        "        super().__init__()\n",
        "        # Encoder layers\n",
        "        self.enc_fc1 = nn.Linear(28*28, 1024)\n",
        "        self.enc_fc2 = nn.Linear(1024, 512)\n",
        "        self.enc_fc3 = nn.Linear(512, 256)\n",
        "\n",
        "        # Decoder layers\n",
        "        self.dec_fc1 = nn.Linear(256, 512)\n",
        "        self.dec_fc2 = nn.Linear(512, 1024)\n",
        "        self.dec_fc3 = nn.Linear(1024, 28*28)\n",
        "\n",
        "    def forward(self, x, dropout_p=dropout_rate, apply_dropout=True):\n",
        "        # Encoder forward pass\n",
        "        x = F.relu(self.enc_fc1(x))\n",
        "        x = F.relu(self.enc_fc2(x))\n",
        "        x = F.relu(self.enc_fc3(x))\n",
        "\n",
        "        # Decoder forward pass with MC Dropout\n",
        "        x = F.relu(self.dec_fc1(x))\n",
        "        x = F.relu(self.dec_fc2(x))\n",
        "        x = torch.sigmoid(self.dec_fc3(x))\n",
        "        return x\n",
        "\n",
        "    def sample_predict(self, x, Nsamples):\n",
        "      predictions = x.data.new(Nsamples, x.shape[0], 28*28)\n",
        "      for i in range(Nsamples):\n",
        "        y = self.forward(x)\n",
        "        predictions[i] = y\n",
        "\n",
        "      predictions_mean = torch.mean(predictions, dim=0)\n",
        "      predictions_var = torch.var(predictions, dim=0)\n",
        "\n",
        "      return predictions, predictions_mean, predictions_var\n",
        "\n",
        "\n",
        "class ConvolutionalBDAEFashion(nn.Module):\n",
        "    def __init__(self):\n",
        "        super().__init__()\n",
        "\n",
        "        # Encoder layers\n",
        "        self.conv1 = nn.Conv2d(1, 64, 3, stride=2, padding=1)\n",
        "        self.conv2 = nn.Conv2d(64, 128, 3, stride=2, padding=1)\n",
        "        self.conv3 = nn.Conv2d(128, 256, 7)\n",
        "\n",
        "        # Decoder layers\n",
        "        self.deconv1 = nn.ConvTranspose2d(256, 128, 7)\n",
        "        self.deconv2 = nn.ConvTranspose2d(128, 64, 3, stride=2, padding=1, output_padding=1)\n",
        "        self.deconv3 = nn.ConvTranspose2d(64, 1, 3, stride=2, padding=1, output_padding=1)\n",
        "        self.sigmoid = nn.Sigmoid()\n",
        "\n",
        "    def forward(self, x, dropout_p=0.3, apply_dropout=True):\n",
        "        # Encoder\n",
        "        x = F.relu(self.conv1(x))\n",
        "        x = F.relu(self.conv2(x))\n",
        "        x = F.relu(self.conv3(x))\n",
        "\n",
        "        # Decoder\n",
        "        x = F.relu(self.deconv1(x))\n",
        "        x = MC_dropout(x, p=dropout_p, mask=apply_dropout)\n",
        "        x = F.relu(self.deconv2(x))\n",
        "        x = MC_dropout(x, p=dropout_p, mask=apply_dropout)\n",
        "        x = self.sigmoid(self.deconv3(x))\n",
        "\n",
        "        return x\n",
        "\n",
        "    def sample_predict(self, x, Nsamples):\n",
        "      predictions = x.data.new(Nsamples, x.shape[0], 28*28)\n",
        "      for i in range(Nsamples):\n",
        "        y = self.forward(x)\n",
        "        predictions[i] = y.view(-1, 28*28)\n",
        "\n",
        "      predictions_mean = torch.mean(predictions, dim=0)\n",
        "      predictions_var = torch.var(predictions, dim=0)\n",
        "\n",
        "      predictions_mean = predictions_mean.view(-1, 1, 28, 28)\n",
        "      predictions_var = predictions_var.view(-1, 1, 28, 28)\n",
        "\n",
        "      return predictions, predictions_mean, predictions_var\n",
        "\n",
        "class ConvolutionalDAEFashion(nn.Module):\n",
        "    def __init__(self):\n",
        "        super().__init__()\n",
        "\n",
        "        # Encoder layers\n",
        "        self.conv1 = nn.Conv2d(1, 64, 3, stride=2, padding=1)\n",
        "        self.conv2 = nn.Conv2d(64, 128, 3, stride=2, padding=1)\n",
        "        self.conv3 = nn.Conv2d(128, 256, 7)\n",
        "\n",
        "        # Decoder layers\n",
        "        self.deconv1 = nn.ConvTranspose2d(256, 128, 7)\n",
        "        self.deconv2 = nn.ConvTranspose2d(128, 64, 3, stride=2, padding=1, output_padding=1)\n",
        "        self.deconv3 = nn.ConvTranspose2d(64, 1, 3, stride=2, padding=1, output_padding=1)\n",
        "        self.sigmoid = nn.Sigmoid()\n",
        "\n",
        "    def forward(self, x, dropout_p=0.3, apply_dropout=True):\n",
        "        # Encoder\n",
        "        x = F.relu(self.conv1(x))\n",
        "        x = F.relu(self.conv2(x))\n",
        "        x = F.relu(self.conv3(x))\n",
        "\n",
        "        # Decoder\n",
        "        x = F.relu(self.deconv1(x))\n",
        "        x = F.relu(self.deconv2(x))\n",
        "        x = self.sigmoid(self.deconv3(x))\n",
        "\n",
        "        return x\n",
        "\n",
        "    def sample_predict(self, x, Nsamples):\n",
        "      predictions = x.data.new(Nsamples, x.shape[0], 28*28)\n",
        "      for i in range(Nsamples):\n",
        "        y = self.forward(x)\n",
        "        predictions[i] = y.view(-1, 28*28)\n",
        "\n",
        "      predictions_mean = torch.mean(predictions, dim=0)\n",
        "      predictions_var = torch.var(predictions, dim=0)\n",
        "\n",
        "      predictions_mean = predictions_mean.view(-1, 1, 28, 28)\n",
        "      predictions_var = predictions_var.view(-1, 1, 28, 28)\n",
        "\n",
        "      return predictions, predictions_mean, predictions_var"
      ],
      "metadata": {
        "id": "-JFAATGzyGyd"
      },
      "execution_count": null,
      "outputs": []
    },
    {
      "cell_type": "markdown",
      "source": [
        "Function to load models in Google Colaboratory"
      ],
      "metadata": {
        "id": "hT1QyFjKPOcL"
      }
    },
    {
      "cell_type": "code",
      "source": [
        "def load_model(model_class, model_path, device='cpu'):\n",
        "    model = model_class()\n",
        "    checkpoint = torch.load(model_path, map_location=torch.device(device))\n",
        "\n",
        "    # Check if the checkpoint contains 'model_state_dict'\n",
        "    if 'model_state_dict' in checkpoint:\n",
        "        state_dict = checkpoint['model_state_dict']\n",
        "    else:\n",
        "        state_dict = checkpoint\n",
        "\n",
        "    model.load_state_dict(state_dict)\n",
        "    model.eval()\n",
        "    return model"
      ],
      "metadata": {
        "id": "oD_GU06py9bK"
      },
      "execution_count": null,
      "outputs": []
    },
    {
      "cell_type": "markdown",
      "source": [
        "Load MNIST models"
      ],
      "metadata": {
        "id": "0B744AOrPT54"
      }
    },
    {
      "cell_type": "code",
      "source": [
        "# Paths to the saved models\n",
        "model_paths_mnist = {\n",
        "    'linear_bdae_mnist': '/content/mnist_ES_linear_bdae_lr=0.0005_seed=42.pth',\n",
        "    'linear_dae_mnist': '/content/mnist_ES_linear_dae_lr=0.001_seed=42.pth',\n",
        "    'convolutional_bdae_mnist': '/content/mnist_ES_convolutional_bdae_lr=0.0005_seed=42.pth',\n",
        "    'convolutional_dae_mnist': '/content/mnist_ES_convolutional_dae_lr=0.001_seed=42.pth',\n",
        "}\n",
        "\n",
        "# Dictionary to hold the loaded models\n",
        "loaded_models_mnist = {}\n",
        "\n",
        "# Load each model\n",
        "loaded_models_mnist['linear_bdae_mnist'] = load_model(LinearBDAEMNIST, model_paths_mnist['linear_bdae_mnist'], device)\n",
        "loaded_models_mnist['linear_dae_mnist'] = load_model(LinearDAEMNIST, model_paths_mnist['linear_bdae_mnist'], device)\n",
        "loaded_models_mnist['convolutional_bdae_mnist'] = load_model(ConvolutionalBDAEMNIST, model_paths_mnist['convolutional_bdae_mnist'], device)\n",
        "loaded_models_mnist['convolutional_dae_mnist'] = load_model(ConvolutionalDAEMNIST, model_paths_mnist['convolutional_dae_mnist'], device)"
      ],
      "metadata": {
        "id": "66buf1-sJXPs"
      },
      "execution_count": null,
      "outputs": []
    },
    {
      "cell_type": "markdown",
      "source": [
        "Load Fashion-MNIST models"
      ],
      "metadata": {
        "id": "6fZuecl7PWEo"
      }
    },
    {
      "cell_type": "code",
      "source": [
        "# Paths to the saved models\n",
        "model_paths_fashion = {\n",
        "    'linear_bdae_fashion': '/content/fashion_ES_linear_bdae_lr=0.0005_seed=42.pth',\n",
        "    'linear_dae_fashion': '/content/fashion_ES_linear_dae_lr=0.0005_seed=42.pth',\n",
        "    'convolutional_bdae_fashion': '/content/fashion_ES_convolutional_bdae_lr=0.0005_seed=42.pth',\n",
        "    'convolutional_dae_fashion': '/content/fashion_ES_convolutional_dae_lr=0.0005_seed=42.pth',\n",
        "}\n",
        "\n",
        "# Dictionary to hold the loaded models\n",
        "loaded_models_fashion = {}\n",
        "\n",
        "# Load each model\n",
        "loaded_models_fashion['linear_bdae_fashion'] = load_model(LinearBDAEFashion, model_paths_fashion['linear_bdae_fashion'], device)\n",
        "loaded_models_fashion['linear_dae_fashion'] = load_model(LinearDAEFashion, model_paths_fashion['linear_dae_fashion'], device)\n",
        "loaded_models_fashion['convolutional_bdae_fashion'] = load_model(ConvolutionalBDAEFashion, model_paths_fashion['convolutional_bdae_fashion'], device)\n",
        "loaded_models_fashion['convolutional_dae_fashion'] = load_model(ConvolutionalDAEFashion, model_paths_fashion['convolutional_dae_fashion'], device)"
      ],
      "metadata": {
        "id": "E_-U5N8LyV3u"
      },
      "execution_count": null,
      "outputs": []
    },
    {
      "cell_type": "markdown",
      "source": [
        "## Noise scheme\n"
      ],
      "metadata": {
        "id": "i-uvFRQO5dNT"
      }
    },
    {
      "cell_type": "markdown",
      "source": [
        "Create function to add Gaussian noise for given noise factor"
      ],
      "metadata": {
        "id": "3HcSgkoCO3sS"
      }
    },
    {
      "cell_type": "code",
      "source": [
        "def add_gaussian_noise(images, noise_factor=0.5):\n",
        "  corrupted_images = images + noise_factor * torch.randn(*images.shape)\n",
        "  corrupted_images = np.clip(corrupted_images, 0., 1.)\n",
        "  return corrupted_images"
      ],
      "metadata": {
        "id": "klWJaaZ35gIN"
      },
      "execution_count": null,
      "outputs": []
    },
    {
      "cell_type": "markdown",
      "source": [
        "## Evaluation (quantitative)"
      ],
      "metadata": {
        "id": "PMQHrE8y0uZK"
      }
    },
    {
      "cell_type": "markdown",
      "source": [
        "Test function for linear models: calculating MSE, SSIM and correlation for BDAE"
      ],
      "metadata": {
        "id": "Hb6O2WZgO8ry"
      }
    },
    {
      "cell_type": "code",
      "source": [
        "def linear_test(val_loader, net, criterion, Nsamples, noise_factor):\n",
        "    total_loss = 0\n",
        "    total_ssim = 0\n",
        "    mse_values = []\n",
        "    predictions_var_values = []\n",
        "    device = torch.device(\"cuda\" if torch.cuda.is_available() else \"cpu\")  # Ensure device is set\n",
        "\n",
        "    net.to(device)\n",
        "\n",
        "    with torch.no_grad():\n",
        "        for data in tqdm(val_loader):\n",
        "            # get the inputs; data is a list of [inputs, labels]\n",
        "            images, _ = data\n",
        "            images = images.view(images.size(0), -1)\n",
        "\n",
        "            corrupted_images = add_gaussian_noise(images, noise_factor=noise_factor)\n",
        "\n",
        "            images = images.to(device)\n",
        "            corrupted_images = corrupted_images.to(device)\n",
        "\n",
        "            # forward pass\n",
        "            predictions, predictions_mean, predictions_var = net.sample_predict(corrupted_images, Nsamples)\n",
        "            loss = criterion(predictions_mean, images)\n",
        "\n",
        "            # Calculate SSIM\n",
        "            ssim_score = ssim(predictions_mean.cpu().numpy(), images.cpu().numpy(), multichannel=True)\n",
        "            total_ssim += np.mean(ssim_score)\n",
        "\n",
        "            mse = (predictions_mean - images)**2\n",
        "            # Flatten MSE tensor to a numpy array\n",
        "            mse_flat = mse.view(-1).cpu().numpy()\n",
        "            var_flat = predictions_var.view(-1).cpu().numpy()\n",
        "\n",
        "            # Update lists for correlation calculation\n",
        "            mse_values.append(mse_flat)\n",
        "            predictions_var_values.append(var_flat)\n",
        "\n",
        "            # keep track of loss\n",
        "            total_loss += loss.item() * images.size(0)\n",
        "\n",
        "    avg_loss = total_loss / len(val_loader.dataset)  # Compute average loss\n",
        "    avg_ssim = total_ssim / len(val_loader)  # Compute average SSIM\n",
        "\n",
        "    # Compute correlation between MSE and predictions_var\n",
        "    mse_values = np.concatenate(mse_values)  # flatten list of arrays into a single array\n",
        "    predictions_var_values = np.concatenate(predictions_var_values)\n",
        "    correlation = np.corrcoef(mse_values, predictions_var_values)[0, 1]\n",
        "\n",
        "    return avg_loss, avg_ssim, correlation"
      ],
      "metadata": {
        "id": "gMPoreBIXB87"
      },
      "execution_count": null,
      "outputs": []
    },
    {
      "cell_type": "markdown",
      "source": [
        "Test function for convolutional models: calculating MSE, SSIM and correlation for BDAE"
      ],
      "metadata": {
        "id": "IYr_osW9O_qC"
      }
    },
    {
      "cell_type": "code",
      "source": [
        "def convolutional_test(val_loader, net, criterion, Nsamples, noise_factor):\n",
        "    total_loss = 0\n",
        "    total_ssim = 0\n",
        "    mse_values = []\n",
        "    predictions_var_values = []\n",
        "    device = torch.device(\"cuda\" if torch.cuda.is_available() else \"cpu\")  # Ensure device is set\n",
        "\n",
        "    net.to(device)\n",
        "\n",
        "    with torch.no_grad():\n",
        "        for data in tqdm(val_loader):\n",
        "            # get the inputs; data is a list of [inputs, labels]\n",
        "            images, _ = data\n",
        "\n",
        "            corrupted_images = add_gaussian_noise(images, noise_factor=noise_factor)\n",
        "\n",
        "            images = images.to(device)\n",
        "            corrupted_images = corrupted_images.to(device)\n",
        "\n",
        "            # forward pass\n",
        "            predictions, predictions_mean, predictions_var = net.sample_predict(corrupted_images, Nsamples)\n",
        "            loss = criterion(predictions_mean, images)\n",
        "\n",
        "            # Calculate SSIM\n",
        "            ssim_score = 0\n",
        "            for img, output in zip(images, predictions_mean):\n",
        "                img_np = img.cpu().detach().numpy().transpose(1, 2, 0)  # Assuming images are (batch_size, channels, height, width)\n",
        "                output_np = output.cpu().detach().numpy().transpose(1, 2, 0)\n",
        "                ssim_score += ssim(img_np, output_np, multichannel=True)\n",
        "\n",
        "            ssim_score /= images.size(0)  # Average SSIM for the batch\n",
        "            total_ssim += ssim_score\n",
        "\n",
        "            mse = (predictions_mean - images)**2\n",
        "            # Flatten MSE tensor to a numpy array\n",
        "            mse_flat = mse.view(-1).cpu().numpy()\n",
        "            var_flat = predictions_var.view(-1).cpu().numpy()\n",
        "\n",
        "            # Update lists for correlation calculation\n",
        "            mse_values.append(mse_flat)\n",
        "            predictions_var_values.append(var_flat)\n",
        "\n",
        "            # keep track of loss\n",
        "            total_loss += loss.item() * images.size(0)\n",
        "\n",
        "    avg_loss = total_loss / len(val_loader.dataset)  # Compute average loss\n",
        "    avg_ssim = total_ssim / len(val_loader)  # Compute average SSIM\n",
        "\n",
        "    # Compute correlation between MSE and predictions_var\n",
        "    mse_values = np.concatenate(mse_values)  # flatten list of arrays into a single array\n",
        "    predictions_var_values = np.concatenate(predictions_var_values)\n",
        "    correlation = np.corrcoef(mse_values, predictions_var_values)[0, 1]\n",
        "\n",
        "    return avg_loss, avg_ssim, correlation"
      ],
      "metadata": {
        "id": "-PyOCvCxZxUa"
      },
      "execution_count": null,
      "outputs": []
    },
    {
      "cell_type": "markdown",
      "source": [
        "Evaluate performance for MNIST dataset"
      ],
      "metadata": {
        "id": "_Gx3CWBvPCdW"
      }
    },
    {
      "cell_type": "code",
      "source": [
        "criterion = nn.MSELoss()\n",
        "\n",
        "mse_linear_bdae_mnist, ssim_linear_bdae_mnist, corr_linear_bdae_mnist = linear_test(test_loader_mnist, loaded_models_mnist['linear_bdae_mnist'], criterion, 50, 0.5)\n",
        "print(f'MSE of linear_bdae_mnist on MNIST test set: {mse_linear_bdae_mnist}')\n",
        "print(f'SSIM of linear_bdae_mnist on MNIST test set: {ssim_linear_bdae_mnist}')\n",
        "print(f'Correlation of linear_bdae_mnist on MNIST test set: {corr_linear_bdae_mnist}')\n",
        "\n",
        "mse_linear_dae_mnist, ssim_linear_dae_mnist, corr_linear_dae_mnist = linear_test(test_loader_mnist, loaded_models_mnist['linear_dae_mnist'], criterion, 50, 0.5)\n",
        "print(f'MSE of linear_dae_mnist on MNIST test set: {mse_linear_dae_mnist}')\n",
        "print(f'SSIM of linear_dae_mnist on MNIST test set: {ssim_linear_dae_mnist}')\n",
        "print(f'Correlation of linear_dae_mnist on MNIST test set: {corr_linear_dae_mnist}')\n",
        "\n",
        "mse_convolutional_bdae_mnist, ssim_convolutional_bdae_mnist, corr_convolutional_bdae_mnist = convolutional_test(test_loader_mnist, loaded_models_mnist['convolutional_bdae_mnist'], criterion, 50, 0.5)\n",
        "print(f'MSE of convolutional_bdae_mnist on MNIST test set: {mse_convolutional_bdae_mnist}')\n",
        "print(f'SSIM of convolutional_bdae_mnist on MNIST test set: {ssim_convolutional_bdae_mnist}')\n",
        "print(f'Correlation of convolutional_bdae_mnist on MNIST test set: {corr_convolutional_bdae_mnist}')\n",
        "\n",
        "mse_convolutional_dae_mnist, ssim_convolutional_dae_mnist, corr_convolutional_dae_mnist = convolutional_test(test_loader_mnist, loaded_models_mnist['convolutional_dae_mnist'], criterion, 50, 0.5)\n",
        "print(f'MSE of convolutional_dae_mnist on MNIST test set: {mse_convolutional_dae_mnist}')\n",
        "print(f'SSIM of convolutional_dae_mnist on MNIST test set: {ssim_convolutional_dae_mnist}')\n",
        "print(f'Correlation of convolutional_dae_mnist on MNIST test set: {corr_convolutional_dae_mnist}')"
      ],
      "metadata": {
        "colab": {
          "base_uri": "https://localhost:8080/"
        },
        "id": "dWoe4QFhX-6h",
        "outputId": "d28315bb-9cd1-432a-cdf9-1b3cca786fa0"
      },
      "execution_count": null,
      "outputs": [
        {
          "output_type": "stream",
          "name": "stderr",
          "text": [
            "\r  0%|          | 0/157 [00:00<?, ?it/s]<ipython-input-12-26d3cd39893e>:28: FutureWarning: `multichannel` is a deprecated argument name for `structural_similarity`. It will be removed in version 1.0. Please use `channel_axis` instead.\n",
            "  ssim_score = ssim(predictions_mean.cpu().numpy(), images.cpu().numpy(), multichannel=True)\n",
            "100%|██████████| 157/157 [00:31<00:00,  5.00it/s]\n"
          ]
        },
        {
          "output_type": "stream",
          "name": "stdout",
          "text": [
            "MSE of linear_bdae_mnist on MNIST test set: 0.01335365891456604\n",
            "SSIM of linear_bdae_mnist on MNIST test set: 0.8792469668540226\n",
            "Correlation of linear_bdae_mnist on MNIST test set: 0.4647310854831657\n"
          ]
        },
        {
          "output_type": "stream",
          "name": "stderr",
          "text": [
            "100%|██████████| 157/157 [00:30<00:00,  5.10it/s]\n",
            "/usr/local/lib/python3.10/dist-packages/numpy/lib/function_base.py:2897: RuntimeWarning: invalid value encountered in divide\n",
            "  c /= stddev[:, None]\n",
            "/usr/local/lib/python3.10/dist-packages/numpy/lib/function_base.py:2898: RuntimeWarning: invalid value encountered in divide\n",
            "  c /= stddev[None, :]\n"
          ]
        },
        {
          "output_type": "stream",
          "name": "stdout",
          "text": [
            "MSE of linear_dae_mnist on MNIST test set: 0.013385836865007878\n",
            "SSIM of linear_dae_mnist on MNIST test set: 0.8804638962836782\n",
            "Correlation of linear_dae_mnist on MNIST test set: nan\n"
          ]
        },
        {
          "output_type": "stream",
          "name": "stderr",
          "text": [
            "\r  0%|          | 0/157 [00:00<?, ?it/s]/usr/local/lib/python3.10/dist-packages/torch/nn/modules/conv.py:456: UserWarning: Plan failed with a cudnnException: CUDNN_BACKEND_EXECUTION_PLAN_DESCRIPTOR: cudnnFinalize Descriptor Failed cudnn_status: CUDNN_STATUS_NOT_SUPPORTED (Triggered internally at ../aten/src/ATen/native/cudnn/Conv_v8.cpp:919.)\n",
            "  return F.conv2d(input, weight, bias, self.stride,\n",
            "<ipython-input-13-ac28ed80d053>:31: FutureWarning: `multichannel` is a deprecated argument name for `structural_similarity`. It will be removed in version 1.0. Please use `channel_axis` instead.\n",
            "  ssim_score += ssim(img_np, output_np, multichannel=True)\n",
            "100%|██████████| 157/157 [00:46<00:00,  3.37it/s]\n"
          ]
        },
        {
          "output_type": "stream",
          "name": "stdout",
          "text": [
            "MSE of convolutional_bdae_mnist on MNIST test set: 0.009286129277944566\n",
            "SSIM of convolutional_bdae_mnist on MNIST test set: 0.897490134551694\n",
            "Correlation of convolutional_bdae_mnist on MNIST test set: 0.45404297518558995\n"
          ]
        },
        {
          "output_type": "stream",
          "name": "stderr",
          "text": [
            "100%|██████████| 157/157 [00:47<00:00,  3.28it/s]\n"
          ]
        },
        {
          "output_type": "stream",
          "name": "stdout",
          "text": [
            "MSE of convolutional_dae_mnist on MNIST test set: 0.009005800905823707\n",
            "SSIM of convolutional_dae_mnist on MNIST test set: 0.9036531268713913\n",
            "Correlation of convolutional_dae_mnist on MNIST test set: 0.0639385392740165\n"
          ]
        }
      ]
    },
    {
      "cell_type": "markdown",
      "source": [
        "Evaluate performance for EMNIST dataset using models trained on MNIST"
      ],
      "metadata": {
        "id": "tsGljszWPnkf"
      }
    },
    {
      "cell_type": "code",
      "source": [
        "criterion = nn.MSELoss()\n",
        "\n",
        "mse_linear_bdae_emnist, ssim_linear_bdae_emnist, corr_linear_bdae_emnist = linear_test(test_loader_emnist, loaded_models_mnist['linear_bdae_mnist'], criterion, 50, 0.5)\n",
        "print(f'MSE of linear_bdae_emnist on MNIST test set: {mse_linear_bdae_emnist}')\n",
        "print(f'SSIM of linear_bdae_emnist on MNIST test set: {ssim_linear_bdae_emnist}')\n",
        "print(f'Correlation of linear_bdae_emnist on MNIST test set: {corr_linear_bdae_emnist}')\n",
        "\n",
        "mse_linear_dae_emnist, ssim_linear_dae_emnist, corr_linear_dae_emnist = linear_test(test_loader_emnist, loaded_models_mnist['linear_dae_mnist'], criterion, 50, 0.5)\n",
        "print(f'MSE of linear_dae_emnist on MNIST test set: {mse_linear_dae_emnist}')\n",
        "print(f'SSIM of linear_dae_emnist on MNIST test set: {ssim_linear_dae_emnist}')\n",
        "print(f'Correlation of linear_dae_emnist on MNIST test set: {corr_linear_dae_emnist}')\n",
        "\n",
        "mse_convolutional_bdae_emnist, ssim_convolutional_bdae_emnist, corr_convolutional_bdae_emnist = convolutional_test(test_loader_emnist, loaded_models_mnist['convolutional_bdae_mnist'], criterion, 50, 0.5)\n",
        "print(f'MSE of convolutional_bdae_emnist on MNIST test set: {mse_convolutional_bdae_emnist}')\n",
        "print(f'SSIM of convolutional_bdae_emnist on MNIST test set: {ssim_convolutional_bdae_emnist}')\n",
        "print(f'Correlation of convolutional_bdae_emnist on MNIST test set: {corr_convolutional_bdae_emnist}')\n",
        "\n",
        "mse_convolutional_dae_emnist, ssim_convolutional_dae_emnist, corr_convolutional_dae_emnist = convolutional_test(test_loader_emnist, loaded_models_mnist['convolutional_dae_mnist'], criterion, 50, 0.5)\n",
        "print(f'MSE of convolutional_dae_emnist on MNIST test set: {mse_convolutional_dae_emnist}')\n",
        "print(f'SSIM of convolutional_dae_emnist on MNIST test set: {ssim_convolutional_dae_emnist}')\n",
        "print(f'Correlation of convolutional_dae_emnist on MNIST test set: {corr_convolutional_dae_emnist}')"
      ],
      "metadata": {
        "colab": {
          "base_uri": "https://localhost:8080/"
        },
        "id": "xXuRmsg-5fCz",
        "outputId": "f5aceb2b-80e5-40a0-dff1-86cfdec0bcdd"
      },
      "execution_count": null,
      "outputs": [
        {
          "output_type": "stream",
          "name": "stderr",
          "text": [
            "  0%|          | 0/325 [00:00<?, ?it/s]<ipython-input-12-26d3cd39893e>:28: FutureWarning: `multichannel` is a deprecated argument name for `structural_similarity`. It will be removed in version 1.0. Please use `channel_axis` instead.\n",
            "  ssim_score = ssim(predictions_mean.cpu().numpy(), images.cpu().numpy(), multichannel=True)\n",
            "100%|██████████| 325/325 [01:02<00:00,  5.21it/s]\n"
          ]
        },
        {
          "output_type": "stream",
          "name": "stdout",
          "text": [
            "MSE of linear_bdae_emnist on MNIST test set: 0.03837731224126541\n",
            "SSIM of linear_bdae_emnist on MNIST test set: 0.7002231020193833\n",
            "Correlation of linear_bdae_emnist on MNIST test set: 0.265034401320189\n"
          ]
        },
        {
          "output_type": "stream",
          "name": "stderr",
          "text": [
            "100%|██████████| 325/325 [01:02<00:00,  5.22it/s]\n"
          ]
        },
        {
          "output_type": "stream",
          "name": "stdout",
          "text": [
            "MSE of linear_dae_emnist on MNIST test set: 0.03851162970639192\n",
            "SSIM of linear_dae_emnist on MNIST test set: 0.7002480446375333\n",
            "Correlation of linear_dae_emnist on MNIST test set: nan\n"
          ]
        },
        {
          "output_type": "stream",
          "name": "stderr",
          "text": [
            "  0%|          | 0/325 [00:00<?, ?it/s]<ipython-input-13-ac28ed80d053>:31: FutureWarning: `multichannel` is a deprecated argument name for `structural_similarity`. It will be removed in version 1.0. Please use `channel_axis` instead.\n",
            "  ssim_score += ssim(img_np, output_np, multichannel=True)\n",
            "100%|██████████| 325/325 [01:43<00:00,  3.15it/s]\n"
          ]
        },
        {
          "output_type": "stream",
          "name": "stdout",
          "text": [
            "MSE of convolutional_bdae_emnist on MNIST test set: 0.023071479215644872\n",
            "SSIM of convolutional_bdae_emnist on MNIST test set: 0.7764865921996534\n",
            "Correlation of convolutional_bdae_emnist on MNIST test set: 0.29508395338817733\n"
          ]
        },
        {
          "output_type": "stream",
          "name": "stderr",
          "text": [
            "100%|██████████| 325/325 [01:44<00:00,  3.12it/s]\n"
          ]
        },
        {
          "output_type": "stream",
          "name": "stdout",
          "text": [
            "MSE of convolutional_dae_emnist on MNIST test set: 0.023965247620183688\n",
            "SSIM of convolutional_dae_emnist on MNIST test set: 0.7744757672334807\n",
            "Correlation of convolutional_dae_emnist on MNIST test set: 0.03194327183417333\n"
          ]
        }
      ]
    },
    {
      "cell_type": "markdown",
      "source": [
        "Evaluate performance of Fashion-MNIST dataset"
      ],
      "metadata": {
        "id": "3icDU0gmPrIx"
      }
    },
    {
      "cell_type": "code",
      "source": [
        "criterion = nn.MSELoss()\n",
        "\n",
        "mse_linear_bdae_fashion, ssim_linear_bdae_fashion, corr_linear_bdae_fashion = linear_test(test_loader_fashion, loaded_models_fashion['linear_bdae_fashion'], criterion, 50, 0.3)\n",
        "print(f'MSE of linear_bdae_fashion on Fashion test set: {mse_linear_bdae_fashion}')\n",
        "print(f'SSIM of linear_bdae_fashion on Fashion test set: {ssim_linear_bdae_fashion}')\n",
        "print(f'Correlation of linear_bdae_fashion on Fashion test set: {corr_linear_bdae_fashion}')\n",
        "\n",
        "mse_linear_dae_fashion, ssim_linear_dae_fashion, corr_linear_dae_fashion = linear_test(test_loader_fashion, loaded_models_fashion['linear_dae_fashion'], criterion, 50, 0.3)\n",
        "print(f'MSE of linear_dae_fashion on Fashion test set: {mse_linear_dae_fashion}')\n",
        "print(f'SSIM of linear_dae_fashion on Fashion test set: {ssim_linear_dae_fashion}')\n",
        "print(f'Correlation of linear_dae_fashion on Fashion test set: {corr_linear_dae_fashion}')\n",
        "\n",
        "mse_convolutional_bdae_fashion, ssim_convolutional_bdae_fashion, corr_convolutional_bdae_fashion = convolutional_test(test_loader_fashion, loaded_models_fashion['convolutional_bdae_fashion'], criterion, 50, 0.3)\n",
        "print(f'MSE of convolutional_bdae_fashion on Fashion test set: {mse_convolutional_bdae_fashion}')\n",
        "print(f'SSIM of convolutional_bdae_fashion on Fashion test set: {ssim_convolutional_bdae_fashion}')\n",
        "print(f'Correlation of convolutional_bdae_fashion on Fashion test set: {corr_convolutional_bdae_fashion}')\n",
        "\n",
        "mse_convolutional_dae_fashion, ssim_convolutional_dae_fashion, corr_convolutional_dae_fashion = convolutional_test(test_loader_fashion, loaded_models_fashion['convolutional_dae_fashion'], criterion, 50, 0.3)\n",
        "print(f'MSE of convolutional_dae_fashion on Fashion test set: {mse_convolutional_dae_fashion}')\n",
        "print(f'SSIM of convolutional_dae_fashion on Fashion test set: {ssim_convolutional_dae_fashion}')\n",
        "print(f'Correlation of convolutional_dae_fashion on Fashion test set: {corr_convolutional_dae_fashion}')"
      ],
      "metadata": {
        "colab": {
          "base_uri": "https://localhost:8080/"
        },
        "id": "UX4U0ykpzMyD",
        "outputId": "fcaaa20c-aab5-4dd0-d5eb-7bc19db0ebb9"
      },
      "execution_count": null,
      "outputs": [
        {
          "output_type": "stream",
          "name": "stderr",
          "text": [
            "\r  0%|          | 0/157 [00:00<?, ?it/s]<ipython-input-12-26d3cd39893e>:28: FutureWarning: `multichannel` is a deprecated argument name for `structural_similarity`. It will be removed in version 1.0. Please use `channel_axis` instead.\n",
            "  ssim_score = ssim(predictions_mean.cpu().numpy(), images.cpu().numpy(), multichannel=True)\n",
            "100%|██████████| 157/157 [00:32<00:00,  4.82it/s]\n"
          ]
        },
        {
          "output_type": "stream",
          "name": "stdout",
          "text": [
            "MSE of linear_bdae_fashion on Fashion test set: 0.010504224017262458\n",
            "SSIM of linear_bdae_fashion on Fashion test set: 0.8874196793623031\n",
            "Correlation of linear_bdae_fashion on Fashion test set: 0.36267356209108487\n"
          ]
        },
        {
          "output_type": "stream",
          "name": "stderr",
          "text": [
            "100%|██████████| 157/157 [00:39<00:00,  4.00it/s]\n"
          ]
        },
        {
          "output_type": "stream",
          "name": "stdout",
          "text": [
            "MSE of linear_dae_fashion on Fashion test set: 0.009886988112330436\n",
            "SSIM of linear_dae_fashion on Fashion test set: 0.894600552358445\n",
            "Correlation of linear_dae_fashion on Fashion test set: nan\n"
          ]
        },
        {
          "output_type": "stream",
          "name": "stderr",
          "text": [
            "  0%|          | 0/157 [00:00<?, ?it/s]<ipython-input-13-ac28ed80d053>:31: FutureWarning: `multichannel` is a deprecated argument name for `structural_similarity`. It will be removed in version 1.0. Please use `channel_axis` instead.\n",
            "  ssim_score += ssim(img_np, output_np, multichannel=True)\n",
            "100%|██████████| 157/157 [00:50<00:00,  3.13it/s]\n"
          ]
        },
        {
          "output_type": "stream",
          "name": "stdout",
          "text": [
            "MSE of convolutional_bdae_fashion on Fashion test set: 0.00785746463984251\n",
            "SSIM of convolutional_bdae_fashion on Fashion test set: 0.8371897955917439\n",
            "Correlation of convolutional_bdae_fashion on Fashion test set: 0.3409141322210704\n"
          ]
        },
        {
          "output_type": "stream",
          "name": "stderr",
          "text": [
            "100%|██████████| 157/157 [00:49<00:00,  3.18it/s]\n"
          ]
        },
        {
          "output_type": "stream",
          "name": "stdout",
          "text": [
            "MSE of convolutional_dae_fashion on Fashion test set: 0.007422263063490391\n",
            "SSIM of convolutional_dae_fashion on Fashion test set: 0.8467082101036053\n",
            "Correlation of convolutional_dae_fashion on Fashion test set: 0.024482570398550712\n"
          ]
        }
      ]
    },
    {
      "cell_type": "markdown",
      "source": [
        "## Evaluate on MNIST"
      ],
      "metadata": {
        "id": "cUgoU6K3iEVn"
      }
    },
    {
      "cell_type": "markdown",
      "source": [
        "This section provides plots of individual examples of MNIST dataset for the different models used in this paper. These plots are used in the results section of my thesis."
      ],
      "metadata": {
        "id": "qW5juJRfPwAf"
      }
    },
    {
      "cell_type": "markdown",
      "source": [
        "#### Clean images"
      ],
      "metadata": {
        "id": "9In7dCKZiK-M"
      }
    },
    {
      "cell_type": "code",
      "source": [
        "num_images = 4\n",
        "\n",
        "def plot_images(images, num_images=4, space=0.05, cmap='gray', vmax=None):\n",
        "    plt.figure(figsize=(2, 8))\n",
        "    for i in range(4):\n",
        "        plt.subplot(4, 1, i + 1)\n",
        "        plt.imshow(images[i].numpy().squeeze(), cmap=cmap, vmax=vmax)\n",
        "        plt.axis('off')\n",
        "    plt.subplots_adjust(wspace=space, hspace=space)\n",
        "    plt.show()\n",
        "\n",
        "\n",
        "# Initialize images\n",
        "start_index = 0  # Change this to select a different starting point\n",
        "mnist_images, _ = zip(*[(test_data_mnist[i][0], test_data_mnist[i][1]) for i in range(start_index, start_index + 64)])\n",
        "\n",
        "# Plot the images\n",
        "plot_images(mnist_images, space=0.05, vmax=1)"
      ],
      "metadata": {
        "colab": {
          "base_uri": "https://localhost:8080/",
          "height": 652
        },
        "id": "v7dsIHAHLZuc",
        "outputId": "b64a7668-321b-4fba-82cd-396015dc2bd2"
      },
      "execution_count": null,
      "outputs": [
        {
          "output_type": "display_data",
          "data": {
            "text/plain": [
              "<Figure size 200x800 with 4 Axes>"
            ],
            "image/png": "[encoded data removed]"
          },
          "metadata": {}
        }
      ]
    },
    {
      "cell_type": "markdown",
      "source": [
        "#### Noisy images"
      ],
      "metadata": {
        "id": "COba_gMdiOTe"
      }
    },
    {
      "cell_type": "code",
      "source": [
        "torch_images_mnist = torch.stack(mnist_images)\n",
        "\n",
        "noisy_images_mnist = add_gaussian_noise(torch_images_mnist, 0.5)\n",
        "plot_images(noisy_images_mnist, space=0.05, vmax=1)"
      ],
      "metadata": {
        "colab": {
          "base_uri": "https://localhost:8080/",
          "height": 652
        },
        "id": "_vIXnrpFLf02",
        "outputId": "8305249b-622f-42c8-bed8-21a419dca922"
      },
      "execution_count": null,
      "outputs": [
        {
          "output_type": "display_data",
          "data": {
            "text/plain": [
              "<Figure size 200x800 with 4 Axes>"
            ],
            "image/png": "[encoded data removed]"
          },
          "metadata": {}
        }
      ]
    },
    {
      "cell_type": "markdown",
      "source": [
        "### Linear"
      ],
      "metadata": {
        "id": "rDwEmbMpjYk5"
      }
    },
    {
      "cell_type": "markdown",
      "source": [
        "#### Linear DAE"
      ],
      "metadata": {
        "id": "Q8O_cyItiRYG"
      }
    },
    {
      "cell_type": "code",
      "source": [
        "noisy_images_flattened_mnist = noisy_images_mnist.view(noisy_images_mnist.size(0), -1).to(device)\n",
        "\n",
        "with torch.no_grad():\n",
        "    _, predictions_mean_mnist, predictions_var_mnist = loaded_models_mnist['linear_dae_mnist'].sample_predict(noisy_images_flattened_mnist, 50)\n",
        "\n",
        "plot_images(predictions_mean_mnist.view(-1,28,28).cpu(), space=0.05, vmax=1)"
      ],
      "metadata": {
        "colab": {
          "base_uri": "https://localhost:8080/",
          "height": 652
        },
        "id": "i2iW9HPYLjsn",
        "outputId": "cd0b5d1c-dd30-400f-e156-f73c794fde2c"
      },
      "execution_count": null,
      "outputs": [
        {
          "output_type": "display_data",
          "data": {
            "text/plain": [
              "<Figure size 200x800 with 4 Axes>"
            ],
            "image/png": "[encoded data removed]"
          },
          "metadata": {}
        }
      ]
    },
    {
      "cell_type": "markdown",
      "source": [
        "#### Linear BDAE"
      ],
      "metadata": {
        "id": "gt65kn-KiUCR"
      }
    },
    {
      "cell_type": "code",
      "source": [
        "with torch.no_grad():\n",
        "    _, predictions_mean_mnist, predictions_var_mnist = loaded_models_mnist['linear_bdae_mnist'].sample_predict(noisy_images_flattened_mnist, 50)\n",
        "\n",
        "plot_images(predictions_mean_mnist.view(-1,28,28).cpu(), space=0.05, vmax=1)"
      ],
      "metadata": {
        "colab": {
          "base_uri": "https://localhost:8080/",
          "height": 652
        },
        "id": "B2MWCT0tPcu3",
        "outputId": "1d9a1ba9-9fca-44e3-d920-d26171dbbb61"
      },
      "execution_count": null,
      "outputs": [
        {
          "output_type": "display_data",
          "data": {
            "text/plain": [
              "<Figure size 200x800 with 4 Axes>"
            ],
            "image/png": "[encoded data removed]"
          },
          "metadata": {}
        }
      ]
    },
    {
      "cell_type": "markdown",
      "source": [
        "#### Model uncertainty Linear BDAE"
      ],
      "metadata": {
        "id": "x8QIEjwliWJb"
      }
    },
    {
      "cell_type": "code",
      "source": [
        "plot_images(predictions_var_mnist.view(-1,28,28).cpu(), space=0.05, cmap='viridis', vmax=0.03)"
      ],
      "metadata": {
        "colab": {
          "base_uri": "https://localhost:8080/",
          "height": 652
        },
        "id": "f8j0Jqz7Pe5i",
        "outputId": "5d154eec-2c8c-4efd-9db3-6bc7642ca823"
      },
      "execution_count": null,
      "outputs": [
        {
          "output_type": "display_data",
          "data": {
            "text/plain": [
              "<Figure size 200x800 with 4 Axes>"
            ],
            "image/png": "[encoded data removed]"
          },
          "metadata": {}
        }
      ]
    },
    {
      "cell_type": "markdown",
      "source": [
        "### Convolutional"
      ],
      "metadata": {
        "id": "UI1XqgbLja5N"
      }
    },
    {
      "cell_type": "markdown",
      "source": [
        "#### Convolutional DAE"
      ],
      "metadata": {
        "id": "vqzkAS9CQJK3"
      }
    },
    {
      "cell_type": "code",
      "source": [
        "with torch.no_grad():\n",
        "    _, predictions_mean_mnist, predictions_var_mnist = loaded_models_mnist['convolutional_dae_mnist'].sample_predict(noisy_images_mnist.to(device), 50)\n",
        "\n",
        "plot_images(predictions_mean_mnist.view(-1,28,28).cpu(), space=0.05, vmax=1)"
      ],
      "metadata": {
        "colab": {
          "base_uri": "https://localhost:8080/",
          "height": 652
        },
        "id": "3_fuspDSM8sN",
        "outputId": "7c325855-607d-4dc9-c87a-a89cd7d0137a"
      },
      "execution_count": null,
      "outputs": [
        {
          "output_type": "display_data",
          "data": {
            "text/plain": [
              "<Figure size 200x800 with 4 Axes>"
            ],
            "image/png": "[encoded data removed]"
          },
          "metadata": {}
        }
      ]
    },
    {
      "cell_type": "markdown",
      "source": [
        "#### Convolutional BDAE"
      ],
      "metadata": {
        "id": "wAU0dcSoidxp"
      }
    },
    {
      "cell_type": "code",
      "source": [
        "with torch.no_grad():\n",
        "    _, predictions_mean_mnist, predictions_var_mnist = loaded_models_mnist['convolutional_bdae_mnist'].sample_predict(noisy_images_mnist.to(device), 50)\n",
        "\n",
        "plot_images(predictions_mean_mnist.view(-1,28,28).cpu(), space=0.05, vmax=1)"
      ],
      "metadata": {
        "colab": {
          "base_uri": "https://localhost:8080/",
          "height": 652
        },
        "id": "n3FROo5ZQL1Z",
        "outputId": "b53443c2-03d8-4868-b772-43e00b50b560"
      },
      "execution_count": null,
      "outputs": [
        {
          "output_type": "display_data",
          "data": {
            "text/plain": [
              "<Figure size 200x800 with 4 Axes>"
            ],
            "image/png": "[encoded data removed]"
          },
          "metadata": {}
        }
      ]
    },
    {
      "cell_type": "markdown",
      "source": [
        "#### Model uncertainty Convolutional BDAE"
      ],
      "metadata": {
        "id": "InNj6mgHigPB"
      }
    },
    {
      "cell_type": "code",
      "source": [
        "plot_images(predictions_var_mnist.view(-1,28,28).cpu(), space=0.05, cmap='viridis', vmax=0.03)"
      ],
      "metadata": {
        "colab": {
          "base_uri": "https://localhost:8080/",
          "height": 652
        },
        "id": "mOzzh7SvQORL",
        "outputId": "15eff099-c2d2-4f1a-c917-e650b9056f58"
      },
      "execution_count": null,
      "outputs": [
        {
          "output_type": "display_data",
          "data": {
            "text/plain": [
              "<Figure size 200x800 with 4 Axes>"
            ],
            "image/png": "[encoded data removed]"
          },
          "metadata": {}
        }
      ]
    },
    {
      "cell_type": "markdown",
      "source": [
        "## Evaluate on EMNIST"
      ],
      "metadata": {
        "id": "CZ_xyUBPikBi"
      }
    },
    {
      "cell_type": "markdown",
      "source": [
        "This section provides plots of individual examples of EMNIST dataset for the different models trained on MNIST dataset. These plots are used in the results section of my thesis."
      ],
      "metadata": {
        "id": "jE7ZvH2EQEfo"
      }
    },
    {
      "cell_type": "markdown",
      "source": [
        "### Preprocessing"
      ],
      "metadata": {
        "id": "jOlb35lN0HS2"
      }
    },
    {
      "cell_type": "markdown",
      "source": [
        "#### Clean images"
      ],
      "metadata": {
        "id": "-b0vVc9B0J7g"
      }
    },
    {
      "cell_type": "code",
      "source": [
        "# Download and load the EMNIST dataset\n",
        "test_data_emnist = datasets.EMNIST(\n",
        "                root='./data',\n",
        "                download=True,\n",
        "                split='letters',\n",
        "                train=True,\n",
        "                transform=transforms.Compose([\n",
        "                    lambda img: transforms.functional.rotate(img, -90),\n",
        "                    lambda img: transforms.functional.hflip(img),\n",
        "                    transforms.ToTensor()\n",
        "                ])\n",
        "            )\n",
        "emnist_loader = torch.utils.data.DataLoader(emnist_dataset, batch_size=64, shuffle=True)\n",
        "\n",
        "# Initialize images\n",
        "# Get a different set of 8 images and their labels from the test dataset\n",
        "start_index = 0  # Change this to select a different starting point\n",
        "images_emnist, labels = zip(*[(emnist_dataset[i][0], emnist_dataset[i][1]) for i in range(start_index, start_index + 64)])\n",
        "\n",
        "# Plot the images\n",
        "plot_images(images_emnist, space=0.05, vmax=1)"
      ],
      "metadata": {
        "colab": {
          "base_uri": "https://localhost:8080/",
          "height": 652
        },
        "id": "pb9mUcd0gsG6",
        "outputId": "78f3bf45-ddcf-4b56-9020-15f5e1b9ef24"
      },
      "execution_count": null,
      "outputs": [
        {
          "output_type": "display_data",
          "data": {
            "text/plain": [
              "<Figure size 200x800 with 4 Axes>"
            ],
            "image/png": "[encoded data removed]"
          },
          "metadata": {}
        }
      ]
    },
    {
      "cell_type": "markdown",
      "source": [
        "#### Noisy images"
      ],
      "metadata": {
        "id": "dpbPqGsC0NJa"
      }
    },
    {
      "cell_type": "code",
      "source": [
        "torch_images_emnist = torch.stack(images_emnist)\n",
        "\n",
        "noisy_images_emnist = add_gaussian_noise(torch_images_emnist, 0.5)\n",
        "plot_images(noisy_images_emnist, space=0.05, vmax=1)"
      ],
      "metadata": {
        "colab": {
          "base_uri": "https://localhost:8080/",
          "height": 652
        },
        "id": "rc9F3PejisQN",
        "outputId": "6c943aa5-6a2d-459c-a455-d9c287077407"
      },
      "execution_count": null,
      "outputs": [
        {
          "output_type": "display_data",
          "data": {
            "text/plain": [
              "<Figure size 200x800 with 4 Axes>"
            ],
            "image/png": "[encoded data removed]"
          },
          "metadata": {}
        }
      ]
    },
    {
      "cell_type": "markdown",
      "source": [
        "### Linear"
      ],
      "metadata": {
        "id": "q8y23v800SGJ"
      }
    },
    {
      "cell_type": "markdown",
      "source": [
        "#### Linear DAE"
      ],
      "metadata": {
        "id": "2JMGpQvU0Pbe"
      }
    },
    {
      "cell_type": "code",
      "source": [
        "noisy_images_flattened_emnist = noisy_images_emnist.view(noisy_images_emnist.size(0), -1).to(device)\n",
        "\n",
        "with torch.no_grad():\n",
        "    _, predictions_mean_emnist, predictions_var_emnist = loaded_models_mnist['linear_dae_mnist'].sample_predict(noisy_images_flattened_emnist, 50)\n",
        "\n",
        "plot_images(predictions_mean_emnist.view(-1,28,28).cpu(), space=0.05, vmax=1)"
      ],
      "metadata": {
        "colab": {
          "base_uri": "https://localhost:8080/",
          "height": 652
        },
        "id": "YVLkVi9biyza",
        "outputId": "688d9df2-db5b-4cb0-8b87-92ac16d74e8e"
      },
      "execution_count": null,
      "outputs": [
        {
          "output_type": "display_data",
          "data": {
            "text/plain": [
              "<Figure size 200x800 with 4 Axes>"
            ],
            "image/png": "[encoded data removed]"
          },
          "metadata": {}
        }
      ]
    },
    {
      "cell_type": "markdown",
      "source": [
        "#### Linear BDAE"
      ],
      "metadata": {
        "id": "BxR2wDmK0T9z"
      }
    },
    {
      "cell_type": "code",
      "source": [
        "with torch.no_grad():\n",
        "    _, predictions_mean_emnist, predictions_var_emnist = loaded_models_mnist['linear_bdae_mnist'].sample_predict(noisy_images_flattened_emnist, 50)\n",
        "\n",
        "plot_images(predictions_mean_emnist.view(-1,28,28).cpu(), space=0.05, vmax=1)"
      ],
      "metadata": {
        "colab": {
          "base_uri": "https://localhost:8080/",
          "height": 652
        },
        "id": "vnccPFyoi6SH",
        "outputId": "9a5f5d70-819b-4d56-a6f0-fec6dee396a7"
      },
      "execution_count": null,
      "outputs": [
        {
          "output_type": "display_data",
          "data": {
            "text/plain": [
              "<Figure size 200x800 with 4 Axes>"
            ],
            "image/png": "[encoded data removed]"
          },
          "metadata": {}
        }
      ]
    },
    {
      "cell_type": "markdown",
      "source": [
        "#### Model uncertainty Linear BDAE"
      ],
      "metadata": {
        "id": "e4UOfZOV0WXd"
      }
    },
    {
      "cell_type": "code",
      "source": [
        "plot_images(predictions_var_emnist.view(-1,28,28).cpu(), space=0.05, cmap='viridis', vmax=0.02)"
      ],
      "metadata": {
        "colab": {
          "base_uri": "https://localhost:8080/",
          "height": 669
        },
        "id": "gF-OuyxijEo0",
        "outputId": "ac0f862b-cb04-4a68-f861-74d70fded4be"
      },
      "execution_count": null,
      "outputs": [
        {
          "output_type": "stream",
          "name": "stdout",
          "text": [
            "0.048261724\n"
          ]
        },
        {
          "output_type": "display_data",
          "data": {
            "text/plain": [
              "<Figure size 200x800 with 4 Axes>"
            ],
            "image/png": "[encoded data removed]"
          },
          "metadata": {}
        }
      ]
    },
    {
      "cell_type": "markdown",
      "source": [
        "### Convolutional"
      ],
      "metadata": {
        "id": "Qii1m1qJ0Y9k"
      }
    },
    {
      "cell_type": "markdown",
      "source": [
        "#### Convolutional DAE"
      ],
      "metadata": {
        "id": "j1HL4wug0agz"
      }
    },
    {
      "cell_type": "code",
      "source": [
        "with torch.no_grad():\n",
        "    _, predictions_mean_emnist, predictions_var_emnist = loaded_models_mnist['convolutional_dae_mnist'].sample_predict(noisy_images_emnist.to(device), 50)\n",
        "\n",
        "plot_images(predictions_mean_emnist.view(-1,28,28).cpu(), space=0.05, vmax=1)"
      ],
      "metadata": {
        "colab": {
          "base_uri": "https://localhost:8080/",
          "height": 652
        },
        "id": "XGhOZd5Kjg2V",
        "outputId": "d9030d85-b6fc-4adf-dca6-b58c9bfee957"
      },
      "execution_count": null,
      "outputs": [
        {
          "output_type": "display_data",
          "data": {
            "text/plain": [
              "<Figure size 200x800 with 4 Axes>"
            ],
            "image/png": "[encoded data removed]"
          },
          "metadata": {}
        }
      ]
    },
    {
      "cell_type": "markdown",
      "source": [
        "#### Convolutional BDAE"
      ],
      "metadata": {
        "id": "IOeQSmto0e7a"
      }
    },
    {
      "cell_type": "code",
      "source": [
        "with torch.no_grad():\n",
        "    _, predictions_mean_emnist, predictions_var_emnist = loaded_models_mnist['convolutional_bdae_mnist'].sample_predict(noisy_images_emnist.to(device), 50)\n",
        "\n",
        "plot_images(predictions_mean_emnist.view(-1,28,28).cpu(), space=0.05, vmax=1)"
      ],
      "metadata": {
        "colab": {
          "base_uri": "https://localhost:8080/",
          "height": 652
        },
        "id": "xAwCGD6vjlSs",
        "outputId": "1c273e76-95e8-4ef6-d2af-3737b88f81a9"
      },
      "execution_count": null,
      "outputs": [
        {
          "output_type": "display_data",
          "data": {
            "text/plain": [
              "<Figure size 200x800 with 4 Axes>"
            ],
            "image/png": "[encoded data removed]"
          },
          "metadata": {}
        }
      ]
    },
    {
      "cell_type": "markdown",
      "source": [
        "#### Model uncertainty Convolutional BDAE"
      ],
      "metadata": {
        "id": "em7zq8UC0g2Q"
      }
    },
    {
      "cell_type": "code",
      "source": [
        "plot_images(predictions_var_emnist.view(-1,28,28).cpu(), space=0.05, cmap='viridis', vmax=0.02)"
      ],
      "metadata": {
        "colab": {
          "base_uri": "https://localhost:8080/",
          "height": 652
        },
        "id": "noYhtmG3jpmw",
        "outputId": "f5a56858-c161-414f-92a5-749b4357ca9d"
      },
      "execution_count": null,
      "outputs": [
        {
          "output_type": "display_data",
          "data": {
            "text/plain": [
              "<Figure size 200x800 with 4 Axes>"
            ],
            "image/png": "[encoded data removed]"
          },
          "metadata": {}
        }
      ]
    },
    {
      "cell_type": "markdown",
      "source": [
        "## Evaluate on Fashion MNIST"
      ],
      "metadata": {
        "id": "ReyzFIkl0k4K"
      }
    },
    {
      "cell_type": "markdown",
      "source": [
        "This section provides plots of individual examples of Fashion-MNIST dataset for the different models used in this paper. These plots are used in the results section of my thesis."
      ],
      "metadata": {
        "id": "Q_RG7xb5QL3-"
      }
    },
    {
      "cell_type": "markdown",
      "source": [
        "### Preprocessing"
      ],
      "metadata": {
        "id": "W2yXN3K_1tPV"
      }
    },
    {
      "cell_type": "markdown",
      "source": [
        "#### Clean images"
      ],
      "metadata": {
        "id": "hYm8iih31vPc"
      }
    },
    {
      "cell_type": "code",
      "source": [
        "num_images = 4\n",
        "\n",
        "def plot_images(images, num_images=4, space=0.05, cmap='gray', vmax=None):\n",
        "    plt.figure(figsize=(2, 8))\n",
        "    for i in range(4):\n",
        "        plt.subplot(4, 1, i + 1)\n",
        "        plt.imshow(images[i].numpy().squeeze(), cmap=cmap, vmax=vmax)\n",
        "        plt.axis('off')\n",
        "    plt.subplots_adjust(wspace=space, hspace=space)\n",
        "    plt.show()\n",
        "\n",
        "\n",
        "start_index = 0  # Change this to select a different starting point\n",
        "fashion_images, _ = zip(*[(test_data_fashion[i][0], test_data_fashion[i][1]) for i in range(start_index, start_index + 64)])\n",
        "\n",
        "# Plot the images\n",
        "plot_images(fashion_images, space=0.05, vmax=1)"
      ],
      "metadata": {
        "colab": {
          "base_uri": "https://localhost:8080/",
          "height": 652
        },
        "id": "cOFUo1FR0peh",
        "outputId": "69cef0e5-36d0-4685-cf46-5c862b59c811"
      },
      "execution_count": null,
      "outputs": [
        {
          "output_type": "display_data",
          "data": {
            "text/plain": [
              "<Figure size 200x800 with 4 Axes>"
            ],
            "image/png": "[encoded data removed]"
          },
          "metadata": {}
        }
      ]
    },
    {
      "cell_type": "markdown",
      "source": [
        "#### Noisy images"
      ],
      "metadata": {
        "id": "j3mVpIFe1xLh"
      }
    },
    {
      "cell_type": "code",
      "source": [
        "torch_images_fashion = torch.stack(fashion_images)\n",
        "\n",
        "noisy_images_fashion = add_gaussian_noise(torch_images_fashion, 0.3)\n",
        "plot_images(noisy_images_fashion, space=0.05, vmax=1)"
      ],
      "metadata": {
        "colab": {
          "base_uri": "https://localhost:8080/",
          "height": 652
        },
        "id": "rhq-MrWs1oxj",
        "outputId": "34a2af99-e1dd-4964-8b08-7e624cbc6057"
      },
      "execution_count": null,
      "outputs": [
        {
          "output_type": "display_data",
          "data": {
            "text/plain": [
              "<Figure size 200x800 with 4 Axes>"
            ],
            "image/png": "[encoded data removed]"
          },
          "metadata": {}
        }
      ]
    },
    {
      "cell_type": "markdown",
      "source": [
        "### Linear"
      ],
      "metadata": {
        "id": "ve2lWp_Z1zSp"
      }
    },
    {
      "cell_type": "markdown",
      "source": [
        "#### Linear DAE"
      ],
      "metadata": {
        "id": "OXDQbg6T10Tt"
      }
    },
    {
      "cell_type": "code",
      "source": [
        "noisy_images_flattened_fashion = noisy_images_fashion.view(noisy_images_fashion.size(0), -1).to(device)\n",
        "\n",
        "with torch.no_grad():\n",
        "    _, predictions_mean_fashion, predictions_var_fashion = loaded_models_fashion['linear_dae_fashion'].sample_predict(noisy_images_flattened_fashion, 50)\n",
        "\n",
        "plot_images(predictions_mean_fashion.view(-1,28,28).cpu(), space=0.05, vmax=1)"
      ],
      "metadata": {
        "colab": {
          "base_uri": "https://localhost:8080/",
          "height": 652
        },
        "id": "A6jzquqO2Rse",
        "outputId": "acb3fc31-8e48-4527-d694-7aca4eb0ab6a"
      },
      "execution_count": null,
      "outputs": [
        {
          "output_type": "display_data",
          "data": {
            "text/plain": [
              "<Figure size 200x800 with 4 Axes>"
            ],
            "image/png": "[encoded data removed]"
          },
          "metadata": {}
        }
      ]
    },
    {
      "cell_type": "markdown",
      "source": [
        "#### Linear BDAE"
      ],
      "metadata": {
        "id": "48_LDhgc2h4T"
      }
    },
    {
      "cell_type": "code",
      "source": [
        "with torch.no_grad():\n",
        "    _, predictions_mean_fashion, predictions_var_fashion = loaded_models_fashion['linear_bdae_fashion'].sample_predict(noisy_images_flattened_fashion, 50)\n",
        "\n",
        "plot_images(predictions_mean_fashion.view(-1,28,28).cpu(), space=0.05, vmax=1)"
      ],
      "metadata": {
        "colab": {
          "base_uri": "https://localhost:8080/",
          "height": 652
        },
        "id": "PLP_vO-U2ci5",
        "outputId": "ae14052b-8b9f-4198-a387-6a34dbb3df25"
      },
      "execution_count": null,
      "outputs": [
        {
          "output_type": "display_data",
          "data": {
            "text/plain": [
              "<Figure size 200x800 with 4 Axes>"
            ],
            "image/png": "[encoded data removed]"
          },
          "metadata": {}
        }
      ]
    },
    {
      "cell_type": "markdown",
      "source": [
        "#### Model uncertainty Linear BDAE"
      ],
      "metadata": {
        "id": "WalistY_2tfN"
      }
    },
    {
      "cell_type": "code",
      "source": [
        "plot_images(predictions_var_fashion.view(-1,28,28).cpu(), space=0.05, cmap='viridis', vmax=0.03)"
      ],
      "metadata": {
        "colab": {
          "base_uri": "https://localhost:8080/",
          "height": 669
        },
        "id": "EQq5XpHv2yad",
        "outputId": "13230633-18b5-404a-835d-44c01985a4d7"
      },
      "execution_count": null,
      "outputs": [
        {
          "output_type": "stream",
          "name": "stdout",
          "text": [
            "0.030419078\n"
          ]
        },
        {
          "output_type": "display_data",
          "data": {
            "text/plain": [
              "<Figure size 200x800 with 4 Axes>"
            ],
            "image/png": "[encoded data removed]"
          },
          "metadata": {}
        }
      ]
    },
    {
      "cell_type": "markdown",
      "source": [
        "### Convolutional"
      ],
      "metadata": {
        "id": "KCpSKFNO3E5q"
      }
    },
    {
      "cell_type": "markdown",
      "source": [
        "#### Convolutional DAE"
      ],
      "metadata": {
        "id": "VuOHZm6X3IVn"
      }
    },
    {
      "cell_type": "code",
      "source": [
        "with torch.no_grad():\n",
        "    _, predictions_mean_fashion, predictions_var_fashion = loaded_models_fashion['convolutional_dae_fashion'].sample_predict(noisy_images_fashion.to(device), 50)\n",
        "\n",
        "plot_images(predictions_mean_fashion.view(-1,28,28).cpu(), space=0.05, vmax=1)"
      ],
      "metadata": {
        "colab": {
          "base_uri": "https://localhost:8080/",
          "height": 652
        },
        "id": "gpV7IrwX3DFi",
        "outputId": "a659d6d4-9445-4b83-d8bc-43625dbdbd75"
      },
      "execution_count": null,
      "outputs": [
        {
          "output_type": "display_data",
          "data": {
            "text/plain": [
              "<Figure size 200x800 with 4 Axes>"
            ],
            "image/png": "[encoded data removed]"
          },
          "metadata": {}
        }
      ]
    },
    {
      "cell_type": "markdown",
      "source": [
        "#### Convolutional BDAE"
      ],
      "metadata": {
        "id": "O3XLXMJ-3cds"
      }
    },
    {
      "cell_type": "code",
      "source": [
        "with torch.no_grad():\n",
        "    _, predictions_mean_fashion, predictions_var_fashion = loaded_models_fashion['convolutional_bdae_fashion'].sample_predict(noisy_images_fashion.to(device), 50)\n",
        "\n",
        "plot_images(predictions_mean_fashion.view(-1,28,28).cpu(), space=0.05, vmax=1)"
      ],
      "metadata": {
        "colab": {
          "base_uri": "https://localhost:8080/",
          "height": 652
        },
        "id": "3k-QhD3V3eGS",
        "outputId": "571e8dd2-56b5-4332-c489-fc32061dc931"
      },
      "execution_count": null,
      "outputs": [
        {
          "output_type": "display_data",
          "data": {
            "text/plain": [
              "<Figure size 200x800 with 4 Axes>"
            ],
            "image/png": "[encoded data removed]"
          },
          "metadata": {}
        }
      ]
    },
    {
      "cell_type": "markdown",
      "source": [
        "#### Model uncertainty Convolutional BDAE"
      ],
      "metadata": {
        "id": "RLJCQEZQ33_E"
      }
    },
    {
      "cell_type": "code",
      "source": [
        "plot_images(predictions_var_fashion.view(-1,28,28).cpu(), space=0.05, cmap='viridis', vmax=0.03)"
      ],
      "metadata": {
        "colab": {
          "base_uri": "https://localhost:8080/",
          "height": 669
        },
        "id": "rmdCi6bq3ptj",
        "outputId": "0bd4454a-76db-4552-9008-cb7050270bf9"
      },
      "execution_count": null,
      "outputs": [
        {
          "output_type": "stream",
          "name": "stdout",
          "text": [
            "0.10735768\n"
          ]
        },
        {
          "output_type": "display_data",
          "data": {
            "text/plain": [
              "<Figure size 200x800 with 4 Axes>"
            ],
            "image/png": "[encoded data removed]"
          },
          "metadata": {}
        }
      ]
    },
    {
      "cell_type": "markdown",
      "source": [
        "## Sensitivity Analysis: MNIST for increased noise"
      ],
      "metadata": {
        "id": "GB6dNMNoQgsW"
      }
    },
    {
      "cell_type": "markdown",
      "source": [
        "In this section, the MNIST images for increasing noise level are the input of a model trained on noies level 0.5."
      ],
      "metadata": {
        "id": "B72FKoBvSbS8"
      }
    },
    {
      "cell_type": "code",
      "source": [
        "i = 0  # Change this index to get a different image\n",
        "\n",
        "# Retrieve the i-th image and its label\n",
        "image, _ = test_data_mnist[i]\n",
        "\n",
        "plt.imshow(image.squeeze(), cmap='gray')\n",
        "plt.axis('off')\n",
        "plt.show()"
      ],
      "metadata": {
        "colab": {
          "base_uri": "https://localhost:8080/",
          "height": 406
        },
        "id": "_CQB1UO07qKU",
        "outputId": "716b1b1d-3d0f-42d5-fea4-e85404ee1b0d"
      },
      "execution_count": null,
      "outputs": [
        {
          "output_type": "display_data",
          "data": {
            "text/plain": [
              "<Figure size 640x480 with 1 Axes>"
            ],
            "image/png": "[encoded data removed]"
          },
          "metadata": {}
        }
      ]
    },
    {
      "cell_type": "code",
      "source": [
        "# Define the noise levels\n",
        "noise_levels = [0.0, 0.3, 0.6, 0.9]\n",
        "\n",
        "fig, axs = plt.subplots(4, 1, figsize=(5, 10))\n",
        "\n",
        "noisy_images = []\n",
        "\n",
        "# Plot the images with different levels of Gaussian noise\n",
        "for idx, noise_level in enumerate(noise_levels):\n",
        "    noisy_image = add_gaussian_noise(image, noise_factor=noise_level)\n",
        "    noisy_images.append(noisy_image)\n",
        "\n",
        "    axs[idx].imshow(noisy_image.squeeze(), cmap='gray')\n",
        "    axs[idx].set_title(f\" \", y=-0.15)\n",
        "    axs[idx].axis('off')\n",
        "\n",
        "# Show the plot\n",
        "plt.tight_layout()\n",
        "plt.show()"
      ],
      "metadata": {
        "colab": {
          "base_uri": "https://localhost:8080/",
          "height": 1000
        },
        "id": "mmXsWZCO8fmX",
        "outputId": "425ca08b-4868-43ca-9423-8653f129798f"
      },
      "execution_count": null,
      "outputs": [
        {
          "output_type": "display_data",
          "data": {
            "text/plain": [
              "<Figure size 500x1000 with 4 Axes>"
            ],
            "image/png": "[encoded data removed]"
          },
          "metadata": {}
        }
      ]
    },
    {
      "cell_type": "code",
      "source": [
        "# Define the noise levels and corresponding models\n",
        "models = [loaded_models_mnist['linear_bdae_mnist']] * 4 # Change model to 'linear_bdae_mnist', 'linear_dae_mnist', 'convolutional_bdae_mnist', 'convolutional_dae_mnist'\n",
        "\n",
        "denoised_means = []\n",
        "denoised_vars = []\n",
        "\n",
        "\n",
        "for corrupted_image, model in zip(noisy_images, models):\n",
        "    model.eval()\n",
        "    predictions, predictions_mean, predictions_var = model.sample_predict(corrupted_image.view(-1, 28*28).to(device), 100)\n",
        "    denoised_vars.append(predictions_var.view(28,28).cpu().detach().numpy())\n",
        "\n",
        "fig, axs = plt.subplots(4, 1, figsize=(5, 10))\n",
        "\n",
        "# Plot the denoised images\n",
        "for idx, denoised_image in enumerate(denoised_means):\n",
        "    axs[idx].imshow(denoised_image, cmap='gray', vmax=1)\n",
        "    axs[idx].set_title(f\"   \", y=-0.12)\n",
        "    axs[idx].axis('off')\n",
        "\n",
        "# Show the plot\n",
        "plt.tight_layout()\n",
        "plt.show()"
      ],
      "metadata": {
        "colab": {
          "base_uri": "https://localhost:8080/",
          "height": 1000
        },
        "id": "NxDxeo9A8zA0",
        "outputId": "76be9378-2809-425c-f9c1-59dfd6198c75"
      },
      "execution_count": null,
      "outputs": [
        {
          "output_type": "display_data",
          "data": {
            "text/plain": [
              "<Figure size 500x1000 with 4 Axes>"
            ],
            "image/png": "[encoded data removed]"
          },
          "metadata": {}
        }
      ]
    },
    {
      "cell_type": "code",
      "source": [
        "fig, axs = plt.subplots(4, 1, figsize=(5, 10))\n",
        "\n",
        "for idx, denoised_image in enumerate(denoised_vars):\n",
        "\n",
        "    mean_variance = np.mean(denoised_image)\n",
        "\n",
        "    axs[idx].imshow(denoised_image, cmap='viridis', vmax=0.02)\n",
        "\n",
        "    axs[idx].set_title(f\"   \", y=-0.12)\n",
        "    axs[idx].axis('off')\n",
        "\n",
        "# Show the plot\n",
        "plt.tight_layout()\n",
        "plt.show()"
      ],
      "metadata": {
        "colab": {
          "base_uri": "https://localhost:8080/",
          "height": 1000
        },
        "id": "QZblIlXP83uY",
        "outputId": "6471e1ea-9222-4b31-e810-dfd70eb70f07"
      },
      "execution_count": null,
      "outputs": [
        {
          "output_type": "display_data",
          "data": {
            "text/plain": [
              "<Figure size 500x1000 with 4 Axes>"
            ],
            "image/png": "[encoded data removed]"
          },
          "metadata": {}
        }
      ]
    }
  ]
}