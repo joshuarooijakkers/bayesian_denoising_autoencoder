{
  "nbformat": 4,
  "nbformat_minor": 0,
  "metadata": {
    "colab": {
      "provenance": [],
      "gpuType": "T4"
    },
    "kernelspec": {
      "name": "python3",
      "display_name": "Python 3"
    },
    "language_info": {
      "name": "python"
    },
    "accelerator": "GPU"
  },
  "cells": [
    {
      "cell_type": "markdown",
      "source": [
        "# Implementation Linear Bayesian Denoising Autoencoder on MNIST dataset\n"
      ],
      "metadata": {
        "id": "PlZSSNIGYzet"
      }
    },
    {
      "cell_type": "markdown",
      "source": [
        "## Data loading and processing"
      ],
      "metadata": {
        "id": "cF9oEeO_0iA3"
      }
    },
    {
      "cell_type": "code",
      "source": [
        "import torch\n",
        "import torch.nn as nn\n",
        "import torch.nn.functional as F\n",
        "import torchvision.transforms.functional as TF\n",
        "from torchvision import datasets\n",
        "import torchvision.transforms as transforms\n",
        "from torch.utils.data import random_split, DataLoader\n",
        "from torch.utils.tensorboard import SummaryWriter\n",
        "from tqdm import tqdm\n",
        "!pip install -q tensorflow\n",
        "%load_ext tensorboard\n",
        "\n",
        "from skimage.metrics import structural_similarity as ssim\n",
        "\n",
        "import matplotlib.pyplot as plt\n",
        "import seaborn as sns\n",
        "import numpy as np"
      ],
      "metadata": {
        "id": "ZlhMeo9KNqcI"
      },
      "execution_count": 1,
      "outputs": []
    },
    {
      "cell_type": "code",
      "source": [
        "device = torch.device('cuda' if torch.cuda.is_available() else 'cpu')\n",
        "device"
      ],
      "metadata": {
        "id": "e45FnUe8STwL",
        "colab": {
          "base_uri": "https://localhost:8080/"
        },
        "outputId": "6d004821-ff16-42e2-cede-ff240e91844f"
      },
      "execution_count": 2,
      "outputs": [
        {
          "output_type": "execute_result",
          "data": {
            "text/plain": [
              "device(type='cuda')"
            ]
          },
          "metadata": {},
          "execution_count": 2
        }
      ]
    },
    {
      "cell_type": "code",
      "source": [
        "# convert data to torch.FloatTensor\n",
        "transform = transforms.ToTensor()\n",
        "\n",
        "test_data_mnist = datasets.MNIST(root='~/.pytorch/MNIST_data/', train=False,\n",
        "                                  download=True, transform=transform)\n",
        "\n",
        "test_data_fashion = datasets.FashionMNIST(root='data', train=False,\n",
        "                                     download=True, transform=transform)"
      ],
      "metadata": {
        "id": "6kgioEV_N5as",
        "colab": {
          "base_uri": "https://localhost:8080/"
        },
        "outputId": "583bcf7a-c9b3-41de-8d92-58e60df88c7b"
      },
      "execution_count": 3,
      "outputs": [
        {
          "output_type": "stream",
          "name": "stdout",
          "text": [
            "Downloading http://yann.lecun.com/exdb/mnist/train-images-idx3-ubyte.gz\n",
            "Failed to download (trying next):\n",
            "HTTP Error 403: Forbidden\n",
            "\n",
            "Downloading https://ossci-datasets.s3.amazonaws.com/mnist/train-images-idx3-ubyte.gz\n",
            "Downloading https://ossci-datasets.s3.amazonaws.com/mnist/train-images-idx3-ubyte.gz to /root/.pytorch/MNIST_data/MNIST/raw/train-images-idx3-ubyte.gz\n"
          ]
        },
        {
          "output_type": "stream",
          "name": "stderr",
          "text": [
            "100%|██████████| 9912422/9912422 [00:00<00:00, 16074598.49it/s]\n"
          ]
        },
        {
          "output_type": "stream",
          "name": "stdout",
          "text": [
            "Extracting /root/.pytorch/MNIST_data/MNIST/raw/train-images-idx3-ubyte.gz to /root/.pytorch/MNIST_data/MNIST/raw\n",
            "\n",
            "Downloading http://yann.lecun.com/exdb/mnist/train-labels-idx1-ubyte.gz\n",
            "Failed to download (trying next):\n",
            "HTTP Error 403: Forbidden\n",
            "\n",
            "Downloading https://ossci-datasets.s3.amazonaws.com/mnist/train-labels-idx1-ubyte.gz\n",
            "Downloading https://ossci-datasets.s3.amazonaws.com/mnist/train-labels-idx1-ubyte.gz to /root/.pytorch/MNIST_data/MNIST/raw/train-labels-idx1-ubyte.gz\n"
          ]
        },
        {
          "output_type": "stream",
          "name": "stderr",
          "text": [
            "100%|██████████| 28881/28881 [00:00<00:00, 481913.46it/s]\n"
          ]
        },
        {
          "output_type": "stream",
          "name": "stdout",
          "text": [
            "Extracting /root/.pytorch/MNIST_data/MNIST/raw/train-labels-idx1-ubyte.gz to /root/.pytorch/MNIST_data/MNIST/raw\n",
            "\n",
            "Downloading http://yann.lecun.com/exdb/mnist/t10k-images-idx3-ubyte.gz\n",
            "Failed to download (trying next):\n",
            "HTTP Error 403: Forbidden\n",
            "\n",
            "Downloading https://ossci-datasets.s3.amazonaws.com/mnist/t10k-images-idx3-ubyte.gz\n",
            "Downloading https://ossci-datasets.s3.amazonaws.com/mnist/t10k-images-idx3-ubyte.gz to /root/.pytorch/MNIST_data/MNIST/raw/t10k-images-idx3-ubyte.gz\n"
          ]
        },
        {
          "output_type": "stream",
          "name": "stderr",
          "text": [
            "100%|██████████| 1648877/1648877 [00:00<00:00, 4371941.63it/s]\n"
          ]
        },
        {
          "output_type": "stream",
          "name": "stdout",
          "text": [
            "Extracting /root/.pytorch/MNIST_data/MNIST/raw/t10k-images-idx3-ubyte.gz to /root/.pytorch/MNIST_data/MNIST/raw\n",
            "\n",
            "Downloading http://yann.lecun.com/exdb/mnist/t10k-labels-idx1-ubyte.gz\n",
            "Failed to download (trying next):\n",
            "HTTP Error 403: Forbidden\n",
            "\n",
            "Downloading https://ossci-datasets.s3.amazonaws.com/mnist/t10k-labels-idx1-ubyte.gz\n",
            "Downloading https://ossci-datasets.s3.amazonaws.com/mnist/t10k-labels-idx1-ubyte.gz to /root/.pytorch/MNIST_data/MNIST/raw/t10k-labels-idx1-ubyte.gz\n"
          ]
        },
        {
          "output_type": "stream",
          "name": "stderr",
          "text": [
            "100%|██████████| 4542/4542 [00:00<00:00, 3042729.40it/s]\n"
          ]
        },
        {
          "output_type": "stream",
          "name": "stdout",
          "text": [
            "Extracting /root/.pytorch/MNIST_data/MNIST/raw/t10k-labels-idx1-ubyte.gz to /root/.pytorch/MNIST_data/MNIST/raw\n",
            "\n",
            "Downloading http://fashion-mnist.s3-website.eu-central-1.amazonaws.com/train-images-idx3-ubyte.gz\n",
            "Downloading http://fashion-mnist.s3-website.eu-central-1.amazonaws.com/train-images-idx3-ubyte.gz to data/FashionMNIST/raw/train-images-idx3-ubyte.gz\n"
          ]
        },
        {
          "output_type": "stream",
          "name": "stderr",
          "text": [
            "100%|██████████| 26421880/26421880 [00:10<00:00, 2491780.67it/s]\n"
          ]
        },
        {
          "output_type": "stream",
          "name": "stdout",
          "text": [
            "Extracting data/FashionMNIST/raw/train-images-idx3-ubyte.gz to data/FashionMNIST/raw\n",
            "\n",
            "Downloading http://fashion-mnist.s3-website.eu-central-1.amazonaws.com/train-labels-idx1-ubyte.gz\n",
            "Downloading http://fashion-mnist.s3-website.eu-central-1.amazonaws.com/train-labels-idx1-ubyte.gz to data/FashionMNIST/raw/train-labels-idx1-ubyte.gz\n"
          ]
        },
        {
          "output_type": "stream",
          "name": "stderr",
          "text": [
            "100%|██████████| 29515/29515 [00:00<00:00, 208953.09it/s]\n"
          ]
        },
        {
          "output_type": "stream",
          "name": "stdout",
          "text": [
            "Extracting data/FashionMNIST/raw/train-labels-idx1-ubyte.gz to data/FashionMNIST/raw\n",
            "\n",
            "Downloading http://fashion-mnist.s3-website.eu-central-1.amazonaws.com/t10k-images-idx3-ubyte.gz\n",
            "Downloading http://fashion-mnist.s3-website.eu-central-1.amazonaws.com/t10k-images-idx3-ubyte.gz to data/FashionMNIST/raw/t10k-images-idx3-ubyte.gz\n"
          ]
        },
        {
          "output_type": "stream",
          "name": "stderr",
          "text": [
            "100%|██████████| 4422102/4422102 [00:01<00:00, 3869058.59it/s]\n"
          ]
        },
        {
          "output_type": "stream",
          "name": "stdout",
          "text": [
            "Extracting data/FashionMNIST/raw/t10k-images-idx3-ubyte.gz to data/FashionMNIST/raw\n",
            "\n",
            "Downloading http://fashion-mnist.s3-website.eu-central-1.amazonaws.com/t10k-labels-idx1-ubyte.gz\n",
            "Downloading http://fashion-mnist.s3-website.eu-central-1.amazonaws.com/t10k-labels-idx1-ubyte.gz to data/FashionMNIST/raw/t10k-labels-idx1-ubyte.gz\n"
          ]
        },
        {
          "output_type": "stream",
          "name": "stderr",
          "text": [
            "100%|██████████| 5148/5148 [00:00<00:00, 6307997.95it/s]"
          ]
        },
        {
          "output_type": "stream",
          "name": "stdout",
          "text": [
            "Extracting data/FashionMNIST/raw/t10k-labels-idx1-ubyte.gz to data/FashionMNIST/raw\n",
            "\n"
          ]
        },
        {
          "output_type": "stream",
          "name": "stderr",
          "text": [
            "\n"
          ]
        }
      ]
    },
    {
      "cell_type": "code",
      "source": [
        "# how many samples per batch to load\n",
        "batch_size = 64\n",
        "\n",
        "test_loader_mnist = torch.utils.data.DataLoader(test_data_mnist, batch_size=batch_size, shuffle=False)\n",
        "test_loader_fashion = torch.utils.data.DataLoader(test_data_fashion, batch_size=batch_size, shuffle=False)"
      ],
      "metadata": {
        "id": "l8ynxzkkdt1p"
      },
      "execution_count": 4,
      "outputs": []
    },
    {
      "cell_type": "code",
      "source": [
        "# Get a batch of training data\n",
        "data_iter = iter(test_loader_mnist)\n",
        "images, labels = next(data_iter)\n",
        "\n",
        "# Plot the first 10 images\n",
        "fig, axes = plt.subplots(1, 10, figsize=(15, 1.5))\n",
        "for i in range(10):\n",
        "    ax = axes[i]\n",
        "    ax.imshow(images[i].numpy().squeeze(), cmap='gray')\n",
        "    ax.axis('off')\n",
        "\n",
        "plt.show()"
      ],
      "metadata": {
        "colab": {
          "base_uri": "https://localhost:8080/",
          "height": 117
        },
        "id": "9gDobDSefgSe",
        "outputId": "6e2596c8-4664-4941-b8a1-6f1cac311d2f"
      },
      "execution_count": 5,
      "outputs": [
        {
          "output_type": "display_data",
          "data": {
            "text/plain": [
              "<Figure size 1500x150 with 10 Axes>"
            ],
            "image/png": "[encoded data removed]"
          },
          "metadata": {}
        }
      ]
    },
    {
      "cell_type": "code",
      "source": [
        "# Get a batch of training data\n",
        "data_iter = iter(test_loader_fashion)\n",
        "images, labels = next(data_iter)\n",
        "\n",
        "# Plot the first 10 images\n",
        "fig, axes = plt.subplots(1, 10, figsize=(15, 1.5))\n",
        "for i in range(10):\n",
        "    ax = axes[i]\n",
        "    ax.imshow(images[i].numpy().squeeze(), cmap='gray')\n",
        "    ax.axis('off')\n",
        "\n",
        "plt.show()"
      ],
      "metadata": {
        "colab": {
          "base_uri": "https://localhost:8080/",
          "height": 117
        },
        "id": "fdbT4IreI7mO",
        "outputId": "5c91df6d-da13-45a5-de0f-ac4965071e28"
      },
      "execution_count": 6,
      "outputs": [
        {
          "output_type": "display_data",
          "data": {
            "text/plain": [
              "<Figure size 1500x150 with 10 Axes>"
            ],
            "image/png": "[encoded data removed]"
          },
          "metadata": {}
        }
      ]
    },
    {
      "cell_type": "markdown",
      "source": [
        "## Autoencoder Architectures"
      ],
      "metadata": {
        "id": "_ZwS1LxU0qtB"
      }
    },
    {
      "cell_type": "code",
      "source": [
        "dropout_rate = 0.2\n",
        "\n",
        "def MC_dropout(act_vec, p=0.5, mask=True):\n",
        "  return F.dropout(act_vec, p=p, training=mask, inplace=False)\n",
        "\n",
        "class LinearBDAEMNIST(nn.Module):\n",
        "    def __init__(self):\n",
        "        super().__init__()\n",
        "        # Encoder layers\n",
        "        self.enc_fc1 = nn.Linear(28*28, 512)\n",
        "        self.enc_fc2 = nn.Linear(512, 256)\n",
        "        self.enc_fc3 = nn.Linear(256, 128)\n",
        "\n",
        "        # Decoder layers\n",
        "        self.dec_fc1 = nn.Linear(128, 256)\n",
        "        self.dec_fc2 = nn.Linear(256, 512)\n",
        "        self.dec_fc3 = nn.Linear(512, 28*28)\n",
        "\n",
        "    def forward(self, x, dropout_p=dropout_rate, apply_dropout=True):\n",
        "        # Encoder forward pass\n",
        "        x = F.relu(self.enc_fc1(x))\n",
        "        x = F.relu(self.enc_fc2(x))\n",
        "        x = F.relu(self.enc_fc3(x))\n",
        "\n",
        "        # Decoder forward pass with MC Dropout\n",
        "        x = F.relu(self.dec_fc1(x))\n",
        "        x = MC_dropout(x, p=dropout_p, mask=apply_dropout)\n",
        "        x = F.relu(self.dec_fc2(x))\n",
        "        x = MC_dropout(x, p=dropout_p, mask=apply_dropout)\n",
        "        x = torch.sigmoid(self.dec_fc3(x))\n",
        "        return x\n",
        "\n",
        "    def sample_predict(self, x, Nsamples):\n",
        "      predictions = x.data.new(Nsamples, x.shape[0], 28*28)\n",
        "      for i in range(Nsamples):\n",
        "        y = self.forward(x)\n",
        "        predictions[i] = y\n",
        "\n",
        "      predictions_mean = torch.mean(predictions, dim=0)\n",
        "      predictions_var = torch.var(predictions, dim=0)\n",
        "\n",
        "      return predictions, predictions_mean, predictions_var\n",
        "\n",
        "class LinearDAEMNIST(nn.Module):\n",
        "    def __init__(self):\n",
        "        super().__init__()\n",
        "        # Encoder layers\n",
        "        self.enc_fc1 = nn.Linear(28*28, 512)\n",
        "        self.enc_fc2 = nn.Linear(512, 256)\n",
        "        self.enc_fc3 = nn.Linear(256, 128)\n",
        "\n",
        "        # Decoder layers\n",
        "        self.dec_fc1 = nn.Linear(128, 256)\n",
        "        self.dec_fc2 = nn.Linear(256, 512)\n",
        "        self.dec_fc3 = nn.Linear(512, 28*28)\n",
        "\n",
        "    def forward(self, x, dropout_p=dropout_rate, apply_dropout=True):\n",
        "        # Encoder forward pass\n",
        "        x = F.relu(self.enc_fc1(x))\n",
        "        x = F.relu(self.enc_fc2(x))\n",
        "        x = F.relu(self.enc_fc3(x))\n",
        "\n",
        "        # Decoder forward pass with MC Dropout\n",
        "        x = F.relu(self.dec_fc1(x))\n",
        "        # x = MC_dropout(x, p=dropout_p, mask=apply_dropout)\n",
        "        x = F.relu(self.dec_fc2(x))\n",
        "        # x = MC_dropout(x, p=dropout_p, mask=apply_dropout)\n",
        "        x = torch.sigmoid(self.dec_fc3(x))\n",
        "        return x\n",
        "\n",
        "    def sample_predict(self, x, Nsamples):\n",
        "      predictions = x.data.new(Nsamples, x.shape[0], 28*28)\n",
        "      for i in range(Nsamples):\n",
        "        y = self.forward(x)\n",
        "        predictions[i] = y\n",
        "\n",
        "      predictions_mean = torch.mean(predictions, dim=0)\n",
        "      predictions_var = torch.var(predictions, dim=0)\n",
        "\n",
        "      return predictions, predictions_mean, predictions_var\n",
        "\n",
        "\n",
        "class ConvolutionalBDAEMNIST(nn.Module):\n",
        "    def __init__(self):\n",
        "        super().__init__()\n",
        "\n",
        "        # Encoder layers\n",
        "        self.conv1 = nn.Conv2d(1, 64, 3, stride=2, padding=1)  # Increased number of output channels\n",
        "        self.conv2 = nn.Conv2d(64, 128, 3, stride=2, padding=1)  # Increased number of output channels\n",
        "        self.conv3 = nn.Conv2d(128, 256, 7)  # Increased number of output channels\n",
        "\n",
        "        # Decoder layers\n",
        "        self.deconv1 = nn.ConvTranspose2d(256, 128, 7)  # Increased number of input channels\n",
        "        self.deconv2 = nn.ConvTranspose2d(128, 64, 3, stride=2, padding=1, output_padding=1)  # Increased number of input channels\n",
        "        self.deconv3 = nn.ConvTranspose2d(64, 1, 3, stride=2, padding=1, output_padding=1)  # Increased number of input channels\n",
        "        self.sigmoid = nn.Sigmoid()\n",
        "\n",
        "    def forward(self, x, dropout_p=0.3, apply_dropout=True):\n",
        "        # Encoder\n",
        "        x = F.relu(self.conv1(x))\n",
        "        x = F.relu(self.conv2(x))\n",
        "        x = F.relu(self.conv3(x))\n",
        "\n",
        "        # Decoder\n",
        "        x = F.relu(self.deconv1(x))\n",
        "        x = MC_dropout(x, p=dropout_p, mask=apply_dropout)\n",
        "        x = F.relu(self.deconv2(x))\n",
        "        x = MC_dropout(x, p=dropout_p, mask=apply_dropout)\n",
        "        x = self.sigmoid(self.deconv3(x))\n",
        "\n",
        "        return x\n",
        "\n",
        "    def sample_predict(self, x, Nsamples):\n",
        "      predictions = x.data.new(Nsamples, x.shape[0], 28*28)\n",
        "      for i in range(Nsamples):\n",
        "        y = self.forward(x)\n",
        "        predictions[i] = y.view(-1, 28*28)\n",
        "\n",
        "      predictions_mean = torch.mean(predictions, dim=0)\n",
        "      predictions_var = torch.var(predictions, dim=0)\n",
        "\n",
        "      predictions_mean = predictions_mean.view(-1, 1, 28, 28)\n",
        "      predictions_var = predictions_var.view(-1, 1, 28, 28)\n",
        "\n",
        "      return predictions, predictions_mean, predictions_var\n",
        "\n",
        "class ConvolutionalDAEMNIST(nn.Module):\n",
        "    def __init__(self):\n",
        "        super().__init__()\n",
        "\n",
        "        # Encoder layers\n",
        "        self.conv1 = nn.Conv2d(1, 64, 3, stride=2, padding=1)  # Increased number of output channels\n",
        "        self.conv2 = nn.Conv2d(64, 128, 3, stride=2, padding=1)  # Increased number of output channels\n",
        "        self.conv3 = nn.Conv2d(128, 256, 7)  # Increased number of output channels\n",
        "\n",
        "        # Decoder layers\n",
        "        self.deconv1 = nn.ConvTranspose2d(256, 128, 7)  # Increased number of input channels\n",
        "        self.deconv2 = nn.ConvTranspose2d(128, 64, 3, stride=2, padding=1, output_padding=1)  # Increased number of input channels\n",
        "        self.deconv3 = nn.ConvTranspose2d(64, 1, 3, stride=2, padding=1, output_padding=1)  # Increased number of input channels\n",
        "        self.sigmoid = nn.Sigmoid()\n",
        "\n",
        "    def forward(self, x, dropout_p=0.3, apply_dropout=True):\n",
        "        # Encoder\n",
        "        x = F.relu(self.conv1(x))\n",
        "        x = F.relu(self.conv2(x))\n",
        "        x = F.relu(self.conv3(x))\n",
        "\n",
        "        # Decoder\n",
        "        x = F.relu(self.deconv1(x))\n",
        "        # x = MC_dropout(x, p=dropout_p, mask=apply_dropout)\n",
        "        x = F.relu(self.deconv2(x))\n",
        "        # x = MC_dropout(x, p=dropout_p, mask=apply_dropout)\n",
        "        x = self.sigmoid(self.deconv3(x))\n",
        "\n",
        "        return x\n",
        "\n",
        "    def sample_predict(self, x, Nsamples):\n",
        "      predictions = x.data.new(Nsamples, x.shape[0], 28*28)\n",
        "      for i in range(Nsamples):\n",
        "        y = self.forward(x)\n",
        "        predictions[i] = y.view(-1, 28*28)\n",
        "\n",
        "      predictions_mean = torch.mean(predictions, dim=0)\n",
        "      predictions_var = torch.var(predictions, dim=0)\n",
        "\n",
        "      predictions_mean = predictions_mean.view(-1, 1, 28, 28)\n",
        "      predictions_var = predictions_var.view(-1, 1, 28, 28)\n",
        "\n",
        "      return predictions, predictions_mean, predictions_var"
      ],
      "metadata": {
        "id": "W840hwShJAlz"
      },
      "execution_count": 7,
      "outputs": []
    },
    {
      "cell_type": "code",
      "source": [
        "class LinearBDAEFashion(nn.Module):\n",
        "    def __init__(self):\n",
        "        super().__init__()\n",
        "        # Encoder layers\n",
        "        self.enc_fc1 = nn.Linear(28*28, 512)\n",
        "        self.enc_fc2 = nn.Linear(512, 256)\n",
        "        self.enc_fc3 = nn.Linear(256, 128)\n",
        "\n",
        "        # Decoder layers\n",
        "        self.dec_fc1 = nn.Linear(128, 256)\n",
        "        self.dec_fc2 = nn.Linear(256, 512)\n",
        "        self.dec_fc3 = nn.Linear(512, 28*28)\n",
        "\n",
        "    def forward(self, x, dropout_p=dropout_rate, apply_dropout=True):\n",
        "        # Encoder forward pass\n",
        "        x = F.relu(self.enc_fc1(x))\n",
        "        x = F.relu(self.enc_fc2(x))\n",
        "        x = F.relu(self.enc_fc3(x))\n",
        "\n",
        "        # Decoder forward pass with MC Dropout\n",
        "        x = F.relu(self.dec_fc1(x))\n",
        "        x = MC_dropout(x, p=dropout_p, mask=apply_dropout)\n",
        "        x = F.relu(self.dec_fc2(x))\n",
        "        x = MC_dropout(x, p=dropout_p, mask=apply_dropout)\n",
        "        x = torch.sigmoid(self.dec_fc3(x))\n",
        "        return x\n",
        "\n",
        "    def sample_predict(self, x, Nsamples):\n",
        "      predictions = x.data.new(Nsamples, x.shape[0], 28*28)\n",
        "      for i in range(Nsamples):\n",
        "        y = self.forward(x)\n",
        "        predictions[i] = y\n",
        "\n",
        "      predictions_mean = torch.mean(predictions, dim=0)\n",
        "      predictions_var = torch.var(predictions, dim=0)\n",
        "\n",
        "      return predictions, predictions_mean, predictions_var\n",
        "\n",
        "class LinearDAEFashion(nn.Module):\n",
        "    def __init__(self):\n",
        "        super().__init__()\n",
        "        # Encoder layers\n",
        "        self.enc_fc1 = nn.Linear(28*28, 512)\n",
        "        self.enc_fc2 = nn.Linear(512, 256)\n",
        "        self.enc_fc3 = nn.Linear(256, 128)\n",
        "\n",
        "        # Decoder layers\n",
        "        self.dec_fc1 = nn.Linear(128, 256)\n",
        "        self.dec_fc2 = nn.Linear(256, 512)\n",
        "        self.dec_fc3 = nn.Linear(512, 28*28)\n",
        "\n",
        "    def forward(self, x, dropout_p=dropout_rate, apply_dropout=True):\n",
        "        # Encoder forward pass\n",
        "        x = F.relu(self.enc_fc1(x))\n",
        "        x = F.relu(self.enc_fc2(x))\n",
        "        x = F.relu(self.enc_fc3(x))\n",
        "\n",
        "        # Decoder forward pass with MC Dropout\n",
        "        x = F.relu(self.dec_fc1(x))\n",
        "        # x = MC_dropout(x, p=dropout_p, mask=apply_dropout)\n",
        "        x = F.relu(self.dec_fc2(x))\n",
        "        # x = MC_dropout(x, p=dropout_p, mask=apply_dropout)\n",
        "        x = torch.sigmoid(self.dec_fc3(x))\n",
        "        return x\n",
        "\n",
        "    def sample_predict(self, x, Nsamples):\n",
        "      predictions = x.data.new(Nsamples, x.shape[0], 28*28)\n",
        "      for i in range(Nsamples):\n",
        "        y = self.forward(x)\n",
        "        predictions[i] = y\n",
        "\n",
        "      predictions_mean = torch.mean(predictions, dim=0)\n",
        "      predictions_var = torch.var(predictions, dim=0)\n",
        "\n",
        "      return predictions, predictions_mean, predictions_var\n",
        "\n",
        "\n",
        "class ConvolutionalBDAEFashion(nn.Module):\n",
        "    def __init__(self):\n",
        "        super().__init__()\n",
        "\n",
        "        # Encoder layers\n",
        "        self.conv1 = nn.Conv2d(1, 64, 3, stride=2, padding=1)  # Increased number of output channels\n",
        "        self.conv2 = nn.Conv2d(64, 128, 3, stride=2, padding=1)  # Increased number of output channels\n",
        "        self.conv3 = nn.Conv2d(128, 256, 7)  # Increased number of output channels\n",
        "\n",
        "        # Decoder layers\n",
        "        self.deconv1 = nn.ConvTranspose2d(256, 128, 7)  # Increased number of input channels\n",
        "        self.deconv2 = nn.ConvTranspose2d(128, 64, 3, stride=2, padding=1, output_padding=1)  # Increased number of input channels\n",
        "        self.deconv3 = nn.ConvTranspose2d(64, 1, 3, stride=2, padding=1, output_padding=1)  # Increased number of input channels\n",
        "        self.sigmoid = nn.Sigmoid()\n",
        "\n",
        "    def forward(self, x, dropout_p=0.3, apply_dropout=True):\n",
        "        # Encoder\n",
        "        x = F.relu(self.conv1(x))\n",
        "        x = F.relu(self.conv2(x))\n",
        "        x = F.relu(self.conv3(x))\n",
        "\n",
        "        # Decoder\n",
        "        x = F.relu(self.deconv1(x))\n",
        "        x = MC_dropout(x, p=dropout_p, mask=apply_dropout)\n",
        "        x = F.relu(self.deconv2(x))\n",
        "        x = MC_dropout(x, p=dropout_p, mask=apply_dropout)\n",
        "        x = self.sigmoid(self.deconv3(x))\n",
        "\n",
        "        return x\n",
        "\n",
        "    def sample_predict(self, x, Nsamples):\n",
        "      predictions = x.data.new(Nsamples, x.shape[0], 28*28)\n",
        "      for i in range(Nsamples):\n",
        "        y = self.forward(x)\n",
        "        predictions[i] = y.view(-1, 28*28)\n",
        "\n",
        "      predictions_mean = torch.mean(predictions, dim=0)\n",
        "      predictions_var = torch.var(predictions, dim=0)\n",
        "\n",
        "      predictions_mean = predictions_mean.view(-1, 1, 28, 28)\n",
        "      predictions_var = predictions_var.view(-1, 1, 28, 28)\n",
        "\n",
        "      return predictions, predictions_mean, predictions_var\n",
        "\n",
        "class ConvolutionalDAEFashion(nn.Module):\n",
        "    def __init__(self):\n",
        "        super().__init__()\n",
        "\n",
        "        # Encoder layers\n",
        "        self.conv1 = nn.Conv2d(1, 64, 3, stride=2, padding=1)  # Increased number of output channels\n",
        "        self.conv2 = nn.Conv2d(64, 128, 3, stride=2, padding=1)  # Increased number of output channels\n",
        "        self.conv3 = nn.Conv2d(128, 256, 7)  # Increased number of output channels\n",
        "\n",
        "        # Decoder layers\n",
        "        self.deconv1 = nn.ConvTranspose2d(256, 128, 7)  # Increased number of input channels\n",
        "        self.deconv2 = nn.ConvTranspose2d(128, 64, 3, stride=2, padding=1, output_padding=1)  # Increased number of input channels\n",
        "        self.deconv3 = nn.ConvTranspose2d(64, 1, 3, stride=2, padding=1, output_padding=1)  # Increased number of input channels\n",
        "        self.sigmoid = nn.Sigmoid()\n",
        "\n",
        "    def forward(self, x, dropout_p=0.3, apply_dropout=True):\n",
        "        # Encoder\n",
        "        x = F.relu(self.conv1(x))\n",
        "        x = F.relu(self.conv2(x))\n",
        "        x = F.relu(self.conv3(x))\n",
        "\n",
        "        # Decoder\n",
        "        x = F.relu(self.deconv1(x))\n",
        "        # x = MC_dropout(x, p=dropout_p, mask=apply_dropout)\n",
        "        x = F.relu(self.deconv2(x))\n",
        "        # x = MC_dropout(x, p=dropout_p, mask=apply_dropout)\n",
        "        x = self.sigmoid(self.deconv3(x))\n",
        "\n",
        "        return x\n",
        "\n",
        "    def sample_predict(self, x, Nsamples):\n",
        "      predictions = x.data.new(Nsamples, x.shape[0], 28*28)\n",
        "      for i in range(Nsamples):\n",
        "        y = self.forward(x)\n",
        "        predictions[i] = y.view(-1, 28*28)\n",
        "\n",
        "      predictions_mean = torch.mean(predictions, dim=0)\n",
        "      predictions_var = torch.var(predictions, dim=0)\n",
        "\n",
        "      predictions_mean = predictions_mean.view(-1, 1, 28, 28)\n",
        "      predictions_var = predictions_var.view(-1, 1, 28, 28)\n",
        "\n",
        "      return predictions, predictions_mean, predictions_var"
      ],
      "metadata": {
        "id": "-JFAATGzyGyd"
      },
      "execution_count": 8,
      "outputs": []
    },
    {
      "cell_type": "code",
      "source": [
        "def load_model(model_class, model_path, device='cpu'):\n",
        "    model = model_class()\n",
        "    checkpoint = torch.load(model_path, map_location=torch.device(device))\n",
        "\n",
        "    # Check if the checkpoint contains 'model_state_dict'\n",
        "    if 'model_state_dict' in checkpoint:\n",
        "        state_dict = checkpoint['model_state_dict']\n",
        "    else:\n",
        "        state_dict = checkpoint\n",
        "\n",
        "    model.load_state_dict(state_dict)\n",
        "    model.eval()  # Set to evaluation mode\n",
        "    return model"
      ],
      "metadata": {
        "id": "oD_GU06py9bK"
      },
      "execution_count": 9,
      "outputs": []
    },
    {
      "cell_type": "code",
      "source": [
        "# Paths to the saved models\n",
        "model_paths_mnist = {\n",
        "    'linear_bdae_mnist': '/content/mnist_25_linear_bdae.pth',\n",
        "    'linear_dae_mnist': '/content/mnist_25_linear_dae.pth',\n",
        "    'convolutional_bdae_mnist': '/content/mnist_25_convolutional_bdae2.pth',\n",
        "    'convolutional_dae_mnist': '/content/mnist_25_convolutional_dae2.pth',\n",
        "}\n",
        "\n",
        "# Dictionary to hold the loaded models\n",
        "loaded_models_mnist = {}\n",
        "\n",
        "# Load each model\n",
        "loaded_models_mnist['linear_bdae_mnist'] = load_model(LinearBDAEMNIST, model_paths_mnist['linear_bdae_mnist'], device)\n",
        "loaded_models_mnist['linear_dae_mnist'] = load_model(LinearDAEMNIST, model_paths_mnist['linear_bdae_mnist'], device)\n",
        "loaded_models_mnist['convolutional_bdae_mnist'] = load_model(ConvolutionalBDAEMNIST, model_paths_mnist['convolutional_bdae_mnist'], device)\n",
        "loaded_models_mnist['convolutional_dae_mnist'] = load_model(ConvolutionalDAEMNIST, model_paths_mnist['convolutional_dae_mnist'], device)"
      ],
      "metadata": {
        "id": "66buf1-sJXPs"
      },
      "execution_count": 91,
      "outputs": []
    },
    {
      "cell_type": "code",
      "source": [
        "# Paths to the saved models\n",
        "model_paths_fashion = {\n",
        "    'linear_bdae_fashion': '/content/fashion_25_linear_bdae.pth',\n",
        "    'linear_dae_fashion': '/content/fashion_25_linear_dae.pth',\n",
        "    'convolutional_bdae_fashion': '/content/fashion_25_convolutional_bdae.pth',\n",
        "    'convolutional_dae_fashion': '/content/fashion_25_convolutional_dae.pth',\n",
        "}\n",
        "\n",
        "# Dictionary to hold the loaded models\n",
        "loaded_models_fashion = {}\n",
        "\n",
        "# Load each model\n",
        "loaded_models_fashion['linear_bdae_fashion'] = load_model(LinearBDAEFashion, model_paths_fashion['linear_bdae_fashion'], device)\n",
        "loaded_models_fashion['linear_dae_fashion'] = load_model(LinearDAEFashion, model_paths_fashion['linear_dae_fashion'], device)\n",
        "loaded_models_fashion['convolutional_bdae_fashion'] = load_model(ConvolutionalBDAEFashion, model_paths_fashion['convolutional_bdae_fashion'], device)\n",
        "loaded_models_fashion['convolutional_dae_fashion'] = load_model(ConvolutionalDAEFashion, model_paths_fashion['convolutional_dae_fashion'], device)"
      ],
      "metadata": {
        "id": "E_-U5N8LyV3u"
      },
      "execution_count": 10,
      "outputs": []
    },
    {
      "cell_type": "markdown",
      "source": [
        "## Noise schemes"
      ],
      "metadata": {
        "id": "i-uvFRQO5dNT"
      }
    },
    {
      "cell_type": "code",
      "source": [
        "def add_gaussian_noise(images, noise_factor=0.5):\n",
        "  corrupted_images = images + noise_factor * torch.randn(*images.shape)\n",
        "  corrupted_images = np.clip(corrupted_images, 0., 1.)\n",
        "  return corrupted_images"
      ],
      "metadata": {
        "id": "klWJaaZ35gIN"
      },
      "execution_count": 11,
      "outputs": []
    },
    {
      "cell_type": "markdown",
      "source": [
        "## Training Process"
      ],
      "metadata": {
        "id": "PMQHrE8y0uZK"
      }
    },
    {
      "cell_type": "code",
      "source": [
        "def linear_test(val_loader, net, criterion, Nsamples, noise_factor):\n",
        "    total_loss = 0\n",
        "    device = torch.device(\"cuda\" if torch.cuda.is_available() else \"cpu\")  # Ensure device is set\n",
        "\n",
        "    net.to(device)  # Move model to the appropriate device\n",
        "\n",
        "    # Use torch.no_grad to skip gradient calculation, not needed for evaluation\n",
        "    with torch.no_grad():\n",
        "        # iterate through batches\n",
        "        for data in val_loader:\n",
        "            # get the inputs; data is a list of [inputs, labels]\n",
        "            images, _ = data\n",
        "            images = images.view(images.size(0), -1)\n",
        "\n",
        "            corrupted_images = add_gaussian_noise(images, noise_factor=noise_factor)\n",
        "\n",
        "            images = images.to(device)\n",
        "            corrupted_images = corrupted_images.to(device)\n",
        "\n",
        "            # forward pass\n",
        "            predictions, predictions_mean, predictions_var = net.sample_predict(corrupted_images, Nsamples)\n",
        "            loss = criterion(predictions_mean, images)\n",
        "\n",
        "            # Calculate SSIM\n",
        "            ssim_score = ssim(predictions_mean.cpu().numpy(), images.cpu().numpy(), multichannel=True)\n",
        "\n",
        "            # keep track of loss\n",
        "            total_loss += loss.item() * images.size(0)\n",
        "\n",
        "    avg_loss = total_loss / len(val_loader.dataset)  # Compute average loss\n",
        "\n",
        "    return avg_loss, ssim_score"
      ],
      "metadata": {
        "id": "gMPoreBIXB87"
      },
      "execution_count": 12,
      "outputs": []
    },
    {
      "cell_type": "code",
      "source": [
        "def convolutional_test(val_loader, net, criterion, Nsamples, noise_factor):\n",
        "    total_loss = 0\n",
        "    device = torch.device(\"cuda\" if torch.cuda.is_available() else \"cpu\")  # Ensure device is set\n",
        "\n",
        "    net.to(device)  # Move model to the appropriate device\n",
        "\n",
        "    # Use torch.no_grad to skip gradient calculation, not needed for evaluation\n",
        "    with torch.no_grad():\n",
        "        # iterate through batches\n",
        "        for data in val_loader:\n",
        "            # get the inputs; data is a list of [inputs, labels]\n",
        "            images, _ = data\n",
        "\n",
        "            corrupted_images = add_gaussian_noise(images, noise_factor=noise_factor)\n",
        "\n",
        "            images = images.to(device)\n",
        "            corrupted_images = corrupted_images.to(device)\n",
        "\n",
        "            # forward pass\n",
        "            predictions, predictions_mean, predictions_var = net.sample_predict(corrupted_images, Nsamples)\n",
        "            loss = criterion(predictions_mean, images)\n",
        "\n",
        "            # Calculate SSIM\n",
        "            ssim_score = 0\n",
        "            for img, output in zip(images, predictions_mean):\n",
        "                img_np = img.cpu().detach().numpy().transpose(1, 2, 0)  # Assuming images are (batch_size, channels, height, width)\n",
        "                output_np = output.cpu().detach().numpy().transpose(1, 2, 0)\n",
        "                ssim_score += ssim(img_np, output_np, multichannel=True)\n",
        "\n",
        "            ssim_score /= images.size(0)  # Average SSIM for the batch\n",
        "\n",
        "            # keep track of loss\n",
        "            total_loss += loss.item() * images.size(0)\n",
        "\n",
        "    avg_loss = total_loss / len(val_loader.dataset)  # Compute average loss\n",
        "\n",
        "    return avg_loss, ssim_score"
      ],
      "metadata": {
        "id": "-PyOCvCxZxUa"
      },
      "execution_count": 13,
      "outputs": []
    },
    {
      "cell_type": "code",
      "source": [
        "criterion = nn.MSELoss()\n",
        "\n",
        "mse_linear_bdae_mnist, ssim_linear_bdae_mnist = linear_test(test_loader_mnist, loaded_models_mnist['linear_bdae_mnist'], criterion, 50, 0.5)\n",
        "print(f'MSE of linear_bdae_mnist on MNIST test set: {mse_linear_bdae_mnist}')\n",
        "print(f'SSIM of linear_bdae_mnist on MNIST test set: {ssim_linear_bdae_mnist}')\n",
        "\n",
        "mse_linear_dae_mnist, ssim_linear_dae_mnist = linear_test(test_loader_mnist, loaded_models_mnist['linear_dae_mnist'], criterion, 50, 0.5)\n",
        "print(f'MSE of linear_dae_mnist on MNIST test set: {mse_linear_dae_mnist}')\n",
        "print(f'SSIM of linear_dae_mnist on MNIST test set: {ssim_linear_dae_mnist}')\n",
        "\n",
        "mse_convolutional_bdae_mnist, ssim_convolutional_bdae_mnist = convolutional_test(test_loader_mnist, loaded_models_mnist['convolutional_bdae_mnist'], criterion, 50, 0.5)\n",
        "print(f'MSE of convolutional_bdae_mnist on MNIST test set: {mse_convolutional_bdae_mnist}')\n",
        "print(f'SSIM of convolutional_bdae_mnist on MNIST test set: {ssim_convolutional_bdae_mnist}')\n",
        "\n",
        "mse_convolutional_dae_mnist, ssim_convolutional_dae_mnist = convolutional_test(test_loader_mnist, loaded_models_mnist['convolutional_dae_mnist'], criterion, 50, 0.5)\n",
        "print(f'MSE of convolutional_dae_mnist on MNIST test set: {mse_convolutional_dae_mnist}')\n",
        "print(f'SSIM of convolutional_dae_mnist on MNIST test set: {ssim_convolutional_dae_mnist}')"
      ],
      "metadata": {
        "colab": {
          "base_uri": "https://localhost:8080/"
        },
        "id": "dWoe4QFhX-6h",
        "outputId": "a5b6d03b-a514-4a39-8842-882340400395"
      },
      "execution_count": 92,
      "outputs": [
        {
          "output_type": "stream",
          "name": "stderr",
          "text": [
            "<ipython-input-12-18781758d03e>:25: FutureWarning: `multichannel` is a deprecated argument name for `structural_similarity`. It will be removed in version 1.0. Please use `channel_axis` instead.\n",
            "  ssim_score = ssim(predictions_mean.cpu().numpy(), images.cpu().numpy(), multichannel=True)\n"
          ]
        },
        {
          "output_type": "stream",
          "name": "stdout",
          "text": [
            "MSE of linear_bdae_mnist on MNIST test set: 0.01482437638938427\n",
            "SSIM of linear_bdae_mnist on MNIST test set: 0.8874253034591675\n",
            "MSE of linear_dae_mnist on MNIST test set: 0.014677828525006771\n",
            "SSIM of linear_dae_mnist on MNIST test set: 0.8901848196983337\n"
          ]
        },
        {
          "output_type": "stream",
          "name": "stderr",
          "text": [
            "<ipython-input-13-850a2b77cca9>:28: FutureWarning: `multichannel` is a deprecated argument name for `structural_similarity`. It will be removed in version 1.0. Please use `channel_axis` instead.\n",
            "  ssim_score += ssim(img_np, output_np, multichannel=True)\n"
          ]
        },
        {
          "output_type": "stream",
          "name": "stdout",
          "text": [
            "MSE of convolutional_bdae_mnist on MNIST test set: 0.009792818509042263\n",
            "SSIM of convolutional_bdae_mnist on MNIST test set: 0.9062925279140472\n",
            "MSE of convolutional_dae_mnist on MNIST test set: 0.009353529132902622\n",
            "SSIM of convolutional_dae_mnist on MNIST test set: 0.9125485271215439\n"
          ]
        }
      ]
    },
    {
      "cell_type": "code",
      "source": [
        "criterion = nn.MSELoss()\n",
        "\n",
        "mse_linear_bdae_fashion, ssim_linear_bdae_fashion = linear_test(test_loader_fashion, loaded_models_fashion['linear_bdae_fashion'], criterion, 50, 0.3)\n",
        "print(f'MSE of linear_bdae_fashion on Fashion test set: {mse_linear_bdae_fashion}')\n",
        "print(f'SSIM of linear_bdae_fashion on Fashion test set: {ssim_linear_bdae_fashion}')\n",
        "\n",
        "mse_linear_dae_fashion, ssim_linear_dae_fashion = linear_test(test_loader_fashion, loaded_models_fashion['linear_dae_fashion'], criterion, 50, 0.3)\n",
        "print(f'MSE of linear_dae_fashion on Fashion test set: {mse_linear_dae_fashion}')\n",
        "print(f'SSIM of linear_dae_fashion on Fashion test set: {ssim_linear_dae_fashion}')\n",
        "\n",
        "mse_convolutional_bdae_fashion, ssim_convolutional_bdae_fashion = convolutional_test(test_loader_fashion, loaded_models_fashion['convolutional_bdae_fashion'], criterion, 50, 0.3)\n",
        "print(f'MSE of convolutional_bdae_fashion on Fashion test set: {mse_convolutional_bdae_fashion}')\n",
        "print(f'SSIM of convolutional_bdae_fashion on Fashion test set: {ssim_convolutional_bdae_fashion}')\n",
        "\n",
        "mse_convolutional_dae_fashion, ssim_convolutional_dae_fashion = convolutional_test(test_loader_fashion, loaded_models_fashion['convolutional_dae_fashion'], criterion, 50, 0.3)\n",
        "print(f'MSE of convolutional_dae_fashion on Fashion test set: {mse_convolutional_dae_fashion}')\n",
        "print(f'SSIM of convolutional_dae_fashion on Fashion test set: {ssim_convolutional_dae_fashion}')"
      ],
      "metadata": {
        "colab": {
          "base_uri": "https://localhost:8080/"
        },
        "id": "UX4U0ykpzMyD",
        "outputId": "2b43a242-24b1-4cd1-a10d-e1966d4da589"
      },
      "execution_count": 16,
      "outputs": [
        {
          "output_type": "stream",
          "name": "stderr",
          "text": [
            "<ipython-input-12-18781758d03e>:25: FutureWarning: `multichannel` is a deprecated argument name for `structural_similarity`. It will be removed in version 1.0. Please use `channel_axis` instead.\n",
            "  ssim_score = ssim(predictions_mean.cpu().numpy(), images.cpu().numpy(), multichannel=True)\n"
          ]
        },
        {
          "output_type": "stream",
          "name": "stdout",
          "text": [
            "MSE of linear_bdae_fashion on Fashion test set: 0.013184644040465356\n",
            "SSIM of linear_bdae_fashion on Fashion test set: 0.8072420954704285\n",
            "MSE of linear_dae_fashion on Fashion test set: 0.011826365825533867\n",
            "SSIM of linear_dae_fashion on Fashion test set: 0.820955216884613\n"
          ]
        },
        {
          "output_type": "stream",
          "name": "stderr",
          "text": [
            "/usr/local/lib/python3.10/dist-packages/torch/nn/modules/conv.py:456: UserWarning: Plan failed with a cudnnException: CUDNN_BACKEND_EXECUTION_PLAN_DESCRIPTOR: cudnnFinalize Descriptor Failed cudnn_status: CUDNN_STATUS_NOT_SUPPORTED (Triggered internally at ../aten/src/ATen/native/cudnn/Conv_v8.cpp:919.)\n",
            "  return F.conv2d(input, weight, bias, self.stride,\n",
            "<ipython-input-13-850a2b77cca9>:28: FutureWarning: `multichannel` is a deprecated argument name for `structural_similarity`. It will be removed in version 1.0. Please use `channel_axis` instead.\n",
            "  ssim_score += ssim(img_np, output_np, multichannel=True)\n"
          ]
        },
        {
          "output_type": "stream",
          "name": "stdout",
          "text": [
            "MSE of convolutional_bdae_fashion on Fashion test set: 0.008415901206433773\n",
            "SSIM of convolutional_bdae_fashion on Fashion test set: 0.797598160803318\n",
            "MSE of convolutional_dae_fashion on Fashion test set: 0.008391777709126472\n",
            "SSIM of convolutional_dae_fashion on Fashion test set: 0.8070442527532578\n"
          ]
        }
      ]
    },
    {
      "cell_type": "markdown",
      "source": [
        "## Evaluate on MNIST"
      ],
      "metadata": {
        "id": "cUgoU6K3iEVn"
      }
    },
    {
      "cell_type": "markdown",
      "source": [
        "#### Clean images"
      ],
      "metadata": {
        "id": "9In7dCKZiK-M"
      }
    },
    {
      "cell_type": "code",
      "source": [
        "num_images = 4\n",
        "\n",
        "def plot_images(images, num_images=4, space=0.05, cmap='gray', vmax=None):\n",
        "    plt.figure(figsize=(2, 8))\n",
        "    for i in range(4):\n",
        "        plt.subplot(4, 1, i + 1)\n",
        "        plt.imshow(images[i].numpy().squeeze(), cmap=cmap, vmax=vmax)\n",
        "        plt.axis('off')\n",
        "    plt.subplots_adjust(wspace=space, hspace=space)\n",
        "    plt.show()\n",
        "\n",
        "\n",
        "# Initialize images\n",
        "# Get a different set of 8 images and their labels from the test dataset\n",
        "start_index = 370  # Change this to select a different starting point\n",
        "mnist_images, _ = zip(*[(test_data_mnist[i][0], test_data_mnist[i][1]) for i in range(start_index, start_index + 64)])\n",
        "\n",
        "# Plot the images\n",
        "plot_images(mnist_images, space=0.05, vmax=1)"
      ],
      "metadata": {
        "colab": {
          "base_uri": "https://localhost:8080/",
          "height": 652
        },
        "id": "v7dsIHAHLZuc",
        "outputId": "3a5f8d4a-0fe0-4e95-a28d-783d95b12c58"
      },
      "execution_count": 162,
      "outputs": [
        {
          "output_type": "display_data",
          "data": {
            "text/plain": [
              "<Figure size 200x800 with 4 Axes>"
            ],
            "image/png": "[encoded data removed]"
          },
          "metadata": {}
        }
      ]
    },
    {
      "cell_type": "markdown",
      "source": [
        "#### Noisy images"
      ],
      "metadata": {
        "id": "COba_gMdiOTe"
      }
    },
    {
      "cell_type": "code",
      "source": [
        "torch_images_mnist = torch.stack(mnist_images)\n",
        "\n",
        "noisy_images_mnist = add_gaussian_noise(torch_images_mnist, 0.5)\n",
        "plot_images(noisy_images_mnist, space=0.05, vmax=1)"
      ],
      "metadata": {
        "colab": {
          "base_uri": "https://localhost:8080/",
          "height": 652
        },
        "id": "_vIXnrpFLf02",
        "outputId": "555294d8-b9d0-4812-cff3-e7f729fe975a"
      },
      "execution_count": 163,
      "outputs": [
        {
          "output_type": "display_data",
          "data": {
            "text/plain": [
              "<Figure size 200x800 with 4 Axes>"
            ],
            "image/png": "[encoded data removed]"
          },
          "metadata": {}
        }
      ]
    },
    {
      "cell_type": "markdown",
      "source": [
        "### Linear"
      ],
      "metadata": {
        "id": "rDwEmbMpjYk5"
      }
    },
    {
      "cell_type": "markdown",
      "source": [
        "#### Linear DAE"
      ],
      "metadata": {
        "id": "Q8O_cyItiRYG"
      }
    },
    {
      "cell_type": "code",
      "source": [
        "noisy_images_flattened_mnist = noisy_images_mnist.view(noisy_images_mnist.size(0), -1).to(device)\n",
        "\n",
        "# bayesian_linear_model.eval()\n",
        "with torch.no_grad():\n",
        "    _, predictions_mean_mnist, predictions_var_mnist = loaded_models_mnist['linear_dae_mnist'].sample_predict(noisy_images_flattened_mnist, 50)\n",
        "\n",
        "plot_images(predictions_mean_mnist.view(-1,28,28).cpu(), space=0.05, vmax=1)"
      ],
      "metadata": {
        "colab": {
          "base_uri": "https://localhost:8080/",
          "height": 652
        },
        "id": "i2iW9HPYLjsn",
        "outputId": "ecb8f350-445d-44ec-9964-72848c9a5f2a"
      },
      "execution_count": 164,
      "outputs": [
        {
          "output_type": "display_data",
          "data": {
            "text/plain": [
              "<Figure size 200x800 with 4 Axes>"
            ],
            "image/png": "[encoded data removed]"
          },
          "metadata": {}
        }
      ]
    },
    {
      "cell_type": "markdown",
      "source": [
        "#### Linear BDAE"
      ],
      "metadata": {
        "id": "gt65kn-KiUCR"
      }
    },
    {
      "cell_type": "code",
      "source": [
        "# bayesian_linear_model.eval()\n",
        "with torch.no_grad():\n",
        "    _, predictions_mean_mnist, predictions_var_mnist = loaded_models_mnist['linear_bdae_mnist'].sample_predict(noisy_images_flattened_mnist, 50)\n",
        "\n",
        "plot_images(predictions_mean_mnist.view(-1,28,28).cpu(), space=0.05, vmax=1)"
      ],
      "metadata": {
        "colab": {
          "base_uri": "https://localhost:8080/",
          "height": 652
        },
        "id": "B2MWCT0tPcu3",
        "outputId": "f8fb468b-ab55-49c6-ab60-838ad161144a"
      },
      "execution_count": 165,
      "outputs": [
        {
          "output_type": "display_data",
          "data": {
            "text/plain": [
              "<Figure size 200x800 with 4 Axes>"
            ],
            "image/png": "[encoded data removed]"
          },
          "metadata": {}
        }
      ]
    },
    {
      "cell_type": "markdown",
      "source": [
        "#### Model uncertainty Linear BDAE"
      ],
      "metadata": {
        "id": "x8QIEjwliWJb"
      }
    },
    {
      "cell_type": "code",
      "source": [
        "print(np.max(predictions_var_mnist.cpu().numpy()))\n",
        "plot_images(predictions_var_mnist.view(-1,28,28).cpu(), space=0.05, cmap='viridis', vmax=0.03)"
      ],
      "metadata": {
        "colab": {
          "base_uri": "https://localhost:8080/",
          "height": 670
        },
        "id": "f8j0Jqz7Pe5i",
        "outputId": "b270f424-8ca7-432b-b786-73a6e3a72d4c"
      },
      "execution_count": 166,
      "outputs": [
        {
          "output_type": "stream",
          "name": "stdout",
          "text": [
            "0.06913329\n"
          ]
        },
        {
          "output_type": "display_data",
          "data": {
            "text/plain": [
              "<Figure size 200x800 with 4 Axes>"
            ],
            "image/png": "[encoded data removed]"
          },
          "metadata": {}
        }
      ]
    },
    {
      "cell_type": "markdown",
      "source": [
        "### Convolutional"
      ],
      "metadata": {
        "id": "UI1XqgbLja5N"
      }
    },
    {
      "cell_type": "markdown",
      "source": [
        "#### Convolutional DAE"
      ],
      "metadata": {
        "id": "vqzkAS9CQJK3"
      }
    },
    {
      "cell_type": "code",
      "source": [
        "# bayesian_linear_model.eval()\n",
        "with torch.no_grad():\n",
        "    _, predictions_mean_mnist, predictions_var_mnist = loaded_models_mnist['convolutional_dae_mnist'].sample_predict(noisy_images_mnist.to(device), 50)\n",
        "\n",
        "plot_images(predictions_mean_mnist.view(-1,28,28).cpu(), space=0.05, vmax=1)"
      ],
      "metadata": {
        "colab": {
          "base_uri": "https://localhost:8080/",
          "height": 652
        },
        "id": "3_fuspDSM8sN",
        "outputId": "563cec57-2102-4ecc-8588-f96596c9fde7"
      },
      "execution_count": 167,
      "outputs": [
        {
          "output_type": "display_data",
          "data": {
            "text/plain": [
              "<Figure size 200x800 with 4 Axes>"
            ],
            "image/png": "[encoded data removed]"
          },
          "metadata": {}
        }
      ]
    },
    {
      "cell_type": "markdown",
      "source": [
        "#### Convolutional BDAE"
      ],
      "metadata": {
        "id": "wAU0dcSoidxp"
      }
    },
    {
      "cell_type": "code",
      "source": [
        "# bayesian_linear_model.eval()\n",
        "with torch.no_grad():\n",
        "    _, predictions_mean_mnist, predictions_var_mnist = loaded_models_mnist['convolutional_bdae_mnist'].sample_predict(noisy_images_mnist.to(device), 50)\n",
        "\n",
        "plot_images(predictions_mean_mnist.view(-1,28,28).cpu(), space=0.05, vmax=1)"
      ],
      "metadata": {
        "colab": {
          "base_uri": "https://localhost:8080/",
          "height": 652
        },
        "id": "n3FROo5ZQL1Z",
        "outputId": "568eadab-c669-4a70-9a47-e413a35f5e4d"
      },
      "execution_count": 168,
      "outputs": [
        {
          "output_type": "display_data",
          "data": {
            "text/plain": [
              "<Figure size 200x800 with 4 Axes>"
            ],
            "image/png": "[encoded data removed]"
          },
          "metadata": {}
        }
      ]
    },
    {
      "cell_type": "markdown",
      "source": [
        "#### Model uncertainty Convolutional BDAE"
      ],
      "metadata": {
        "id": "InNj6mgHigPB"
      }
    },
    {
      "cell_type": "code",
      "source": [
        "plot_images(predictions_var_mnist.view(-1,28,28).cpu(), space=0.05, cmap='viridis', vmax=0.03)"
      ],
      "metadata": {
        "colab": {
          "base_uri": "https://localhost:8080/",
          "height": 652
        },
        "id": "mOzzh7SvQORL",
        "outputId": "bdd3a10c-636d-49f5-e7b8-743aa5a66a72"
      },
      "execution_count": 169,
      "outputs": [
        {
          "output_type": "display_data",
          "data": {
            "text/plain": [
              "<Figure size 200x800 with 4 Axes>"
            ],
            "image/png": "[encoded data removed]"
          },
          "metadata": {}
        }
      ]
    },
    {
      "cell_type": "markdown",
      "source": [
        "## Evaluate on EMNIST"
      ],
      "metadata": {
        "id": "CZ_xyUBPikBi"
      }
    },
    {
      "cell_type": "markdown",
      "source": [
        "### Preprocessing"
      ],
      "metadata": {
        "id": "jOlb35lN0HS2"
      }
    },
    {
      "cell_type": "markdown",
      "source": [
        "#### Clean images"
      ],
      "metadata": {
        "id": "-b0vVc9B0J7g"
      }
    },
    {
      "cell_type": "code",
      "source": [
        "# Download and load the EMNIST dataset\n",
        "emnist_dataset = datasets.EMNIST(\n",
        "                root='./data',\n",
        "                download=True,\n",
        "                split='letters',\n",
        "                train=True,\n",
        "                transform=transforms.Compose([\n",
        "                    lambda img: transforms.functional.rotate(img, -90),\n",
        "                    lambda img: transforms.functional.hflip(img),\n",
        "                    transforms.ToTensor()\n",
        "                ])\n",
        "            )\n",
        "emnist_loader = torch.utils.data.DataLoader(emnist_dataset, batch_size=64, shuffle=True)\n",
        "\n",
        "# Initialize images\n",
        "# Get a different set of 8 images and their labels from the test dataset\n",
        "start_index = 445  # Change this to select a different starting point\n",
        "images_emnist, labels = zip(*[(emnist_dataset[i][0], emnist_dataset[i][1]) for i in range(start_index, start_index + 64)])\n",
        "\n",
        "# Plot the images\n",
        "plot_images(images_emnist, space=0.05, vmax=1)"
      ],
      "metadata": {
        "colab": {
          "base_uri": "https://localhost:8080/",
          "height": 652
        },
        "id": "pb9mUcd0gsG6",
        "outputId": "e05754cb-b64a-41c5-b6d7-a7ca7462b4da"
      },
      "execution_count": 199,
      "outputs": [
        {
          "output_type": "display_data",
          "data": {
            "text/plain": [
              "<Figure size 200x800 with 4 Axes>"
            ],
            "image/png": "[encoded data removed]"
          },
          "metadata": {}
        }
      ]
    },
    {
      "cell_type": "markdown",
      "source": [
        "#### Noisy images"
      ],
      "metadata": {
        "id": "dpbPqGsC0NJa"
      }
    },
    {
      "cell_type": "code",
      "source": [
        "torch_images_emnist = torch.stack(images_emnist)\n",
        "\n",
        "noisy_images_emnist = add_gaussian_noise(torch_images_emnist, 0.5)\n",
        "plot_images(noisy_images_emnist, space=0.05, vmax=1)"
      ],
      "metadata": {
        "colab": {
          "base_uri": "https://localhost:8080/",
          "height": 652
        },
        "id": "rc9F3PejisQN",
        "outputId": "eabb2c41-cb66-4264-a099-6df6c6b25939"
      },
      "execution_count": 200,
      "outputs": [
        {
          "output_type": "display_data",
          "data": {
            "text/plain": [
              "<Figure size 200x800 with 4 Axes>"
            ],
            "image/png": "[encoded data removed]"
          },
          "metadata": {}
        }
      ]
    },
    {
      "cell_type": "markdown",
      "source": [
        "### Linear"
      ],
      "metadata": {
        "id": "q8y23v800SGJ"
      }
    },
    {
      "cell_type": "markdown",
      "source": [
        "#### Linear DAE"
      ],
      "metadata": {
        "id": "2JMGpQvU0Pbe"
      }
    },
    {
      "cell_type": "code",
      "source": [
        "noisy_images_flattened_emnist = noisy_images_emnist.view(noisy_images_emnist.size(0), -1).to(device)\n",
        "\n",
        "# bayesian_linear_model.eval()\n",
        "with torch.no_grad():\n",
        "    _, predictions_mean_emnist, predictions_var_emnist = loaded_models_mnist['linear_dae_mnist'].sample_predict(noisy_images_flattened_emnist, 50)\n",
        "\n",
        "plot_images(predictions_mean_emnist.view(-1,28,28).cpu(), space=0.05, vmax=1)"
      ],
      "metadata": {
        "colab": {
          "base_uri": "https://localhost:8080/",
          "height": 652
        },
        "id": "YVLkVi9biyza",
        "outputId": "a4b1b33d-1093-4228-ea06-72f4095af41b"
      },
      "execution_count": 201,
      "outputs": [
        {
          "output_type": "display_data",
          "data": {
            "text/plain": [
              "<Figure size 200x800 with 4 Axes>"
            ],
            "image/png": "[encoded data removed]"
          },
          "metadata": {}
        }
      ]
    },
    {
      "cell_type": "markdown",
      "source": [
        "#### Linear BDAE"
      ],
      "metadata": {
        "id": "BxR2wDmK0T9z"
      }
    },
    {
      "cell_type": "code",
      "source": [
        "# bayesian_linear_model.eval()\n",
        "with torch.no_grad():\n",
        "    _, predictions_mean_emnist, predictions_var_emnist = loaded_models_mnist['linear_bdae_mnist'].sample_predict(noisy_images_flattened_emnist, 50)\n",
        "\n",
        "plot_images(predictions_mean_emnist.view(-1,28,28).cpu(), space=0.05, vmax=1)"
      ],
      "metadata": {
        "colab": {
          "base_uri": "https://localhost:8080/",
          "height": 652
        },
        "id": "vnccPFyoi6SH",
        "outputId": "2d6c8635-3ed0-49b0-a27f-2e8e31385367"
      },
      "execution_count": 202,
      "outputs": [
        {
          "output_type": "display_data",
          "data": {
            "text/plain": [
              "<Figure size 200x800 with 4 Axes>"
            ],
            "image/png": "[encoded data removed]"
          },
          "metadata": {}
        }
      ]
    },
    {
      "cell_type": "markdown",
      "source": [
        "#### Model uncertainty Linear BDAE"
      ],
      "metadata": {
        "id": "e4UOfZOV0WXd"
      }
    },
    {
      "cell_type": "code",
      "source": [
        "print(np.max(predictions_var_emnist.cpu().numpy()))\n",
        "plot_images(predictions_var_emnist.view(-1,28,28).cpu(), space=0.05, cmap='viridis', vmax=0.03)"
      ],
      "metadata": {
        "colab": {
          "base_uri": "https://localhost:8080/",
          "height": 670
        },
        "id": "gF-OuyxijEo0",
        "outputId": "ef571004-5203-4d7b-93de-bd52d94d25ff"
      },
      "execution_count": 203,
      "outputs": [
        {
          "output_type": "stream",
          "name": "stdout",
          "text": [
            "0.07094651\n"
          ]
        },
        {
          "output_type": "display_data",
          "data": {
            "text/plain": [
              "<Figure size 200x800 with 4 Axes>"
            ],
            "image/png": "[encoded data removed]"
          },
          "metadata": {}
        }
      ]
    },
    {
      "cell_type": "markdown",
      "source": [
        "### Convolutional"
      ],
      "metadata": {
        "id": "Qii1m1qJ0Y9k"
      }
    },
    {
      "cell_type": "markdown",
      "source": [
        "#### Convolutional DAE"
      ],
      "metadata": {
        "id": "j1HL4wug0agz"
      }
    },
    {
      "cell_type": "code",
      "source": [
        "# bayesian_linear_model.eval()\n",
        "with torch.no_grad():\n",
        "    _, predictions_mean_emnist, predictions_var_emnist = loaded_models_mnist['convolutional_dae_mnist'].sample_predict(noisy_images_emnist.to(device), 50)\n",
        "\n",
        "plot_images(predictions_mean_emnist.view(-1,28,28).cpu(), space=0.05, vmax=1)"
      ],
      "metadata": {
        "colab": {
          "base_uri": "https://localhost:8080/",
          "height": 652
        },
        "id": "XGhOZd5Kjg2V",
        "outputId": "7b0f21f2-1d15-4070-aeb9-bfc35afe4efe"
      },
      "execution_count": 204,
      "outputs": [
        {
          "output_type": "display_data",
          "data": {
            "text/plain": [
              "<Figure size 200x800 with 4 Axes>"
            ],
            "image/png": "[encoded data removed]"
          },
          "metadata": {}
        }
      ]
    },
    {
      "cell_type": "markdown",
      "source": [
        "#### Convolutional BDAE"
      ],
      "metadata": {
        "id": "IOeQSmto0e7a"
      }
    },
    {
      "cell_type": "code",
      "source": [
        "# bayesian_linear_model.eval()\n",
        "with torch.no_grad():\n",
        "    _, predictions_mean_emnist, predictions_var_emnist = loaded_models_mnist['convolutional_bdae_mnist'].sample_predict(noisy_images_emnist.to(device), 50)\n",
        "\n",
        "plot_images(predictions_mean_emnist.view(-1,28,28).cpu(), space=0.05, vmax=1)"
      ],
      "metadata": {
        "colab": {
          "base_uri": "https://localhost:8080/",
          "height": 652
        },
        "id": "xAwCGD6vjlSs",
        "outputId": "8187455d-c1ad-4c2f-9973-aabe9f421d74"
      },
      "execution_count": 205,
      "outputs": [
        {
          "output_type": "display_data",
          "data": {
            "text/plain": [
              "<Figure size 200x800 with 4 Axes>"
            ],
            "image/png": "[encoded data removed]"
          },
          "metadata": {}
        }
      ]
    },
    {
      "cell_type": "markdown",
      "source": [
        "#### Model uncertainty Convolutional BDAE"
      ],
      "metadata": {
        "id": "em7zq8UC0g2Q"
      }
    },
    {
      "cell_type": "code",
      "source": [
        "plot_images(predictions_var_emnist.view(-1,28,28).cpu(), space=0.05, cmap='viridis', vmax=0.03)"
      ],
      "metadata": {
        "colab": {
          "base_uri": "https://localhost:8080/",
          "height": 652
        },
        "id": "noYhtmG3jpmw",
        "outputId": "5bcec3c6-c9f9-4979-b337-5554abc0c34d"
      },
      "execution_count": 206,
      "outputs": [
        {
          "output_type": "display_data",
          "data": {
            "text/plain": [
              "<Figure size 200x800 with 4 Axes>"
            ],
            "image/png": "[encoded data removed]"
          },
          "metadata": {}
        }
      ]
    },
    {
      "cell_type": "markdown",
      "source": [
        "## Evaluate on Fashion MNIST"
      ],
      "metadata": {
        "id": "ReyzFIkl0k4K"
      }
    },
    {
      "cell_type": "markdown",
      "source": [
        "### Preprocessing"
      ],
      "metadata": {
        "id": "W2yXN3K_1tPV"
      }
    },
    {
      "cell_type": "markdown",
      "source": [
        "#### Clean images"
      ],
      "metadata": {
        "id": "hYm8iih31vPc"
      }
    },
    {
      "cell_type": "code",
      "source": [
        "num_images = 4\n",
        "\n",
        "def plot_images(images, num_images=4, space=0.05, cmap='gray', vmax=None):\n",
        "    plt.figure(figsize=(2, 8))\n",
        "    for i in range(4):\n",
        "        plt.subplot(4, 1, i + 1)\n",
        "        plt.imshow(images[i].numpy().squeeze(), cmap=cmap, vmax=vmax)\n",
        "        plt.axis('off')\n",
        "    plt.subplots_adjust(wspace=space, hspace=space)\n",
        "    plt.show()\n",
        "\n",
        "\n",
        "# Initialize images\n",
        "# Get a different set of 8 images and their labels from the test dataset\n",
        "start_index = 15  # Change this to select a different starting point\n",
        "fashion_images, _ = zip(*[(test_data_fashion[i][0], test_data_fashion[i][1]) for i in range(start_index, start_index + 64)])\n",
        "\n",
        "# Plot the images\n",
        "plot_images(fashion_images, space=0.05, vmax=1)"
      ],
      "metadata": {
        "colab": {
          "base_uri": "https://localhost:8080/",
          "height": 652
        },
        "id": "cOFUo1FR0peh",
        "outputId": "232bc73c-d4d3-4ca7-ef81-3139c2e3d937"
      },
      "execution_count": 72,
      "outputs": [
        {
          "output_type": "display_data",
          "data": {
            "text/plain": [
              "<Figure size 200x800 with 4 Axes>"
            ],
            "image/png": "[encoded data removed]"
          },
          "metadata": {}
        }
      ]
    },
    {
      "cell_type": "markdown",
      "source": [
        "#### Noisy images"
      ],
      "metadata": {
        "id": "j3mVpIFe1xLh"
      }
    },
    {
      "cell_type": "code",
      "source": [
        "torch_images_fashion = torch.stack(fashion_images)\n",
        "\n",
        "noisy_images_fashion = add_gaussian_noise(torch_images_fashion, 0.3)\n",
        "plot_images(noisy_images_fashion, space=0.05, vmax=1)"
      ],
      "metadata": {
        "colab": {
          "base_uri": "https://localhost:8080/",
          "height": 652
        },
        "id": "rhq-MrWs1oxj",
        "outputId": "cdd97d28-838a-4216-d740-abba88b0d46a"
      },
      "execution_count": 73,
      "outputs": [
        {
          "output_type": "display_data",
          "data": {
            "text/plain": [
              "<Figure size 200x800 with 4 Axes>"
            ],
            "image/png": "[encoded data removed]"
          },
          "metadata": {}
        }
      ]
    },
    {
      "cell_type": "markdown",
      "source": [
        "### Linear"
      ],
      "metadata": {
        "id": "ve2lWp_Z1zSp"
      }
    },
    {
      "cell_type": "markdown",
      "source": [
        "#### Linear DAE"
      ],
      "metadata": {
        "id": "OXDQbg6T10Tt"
      }
    },
    {
      "cell_type": "code",
      "source": [
        "noisy_images_flattened_fashion = noisy_images_fashion.view(noisy_images_fashion.size(0), -1).to(device)\n",
        "\n",
        "# bayesian_linear_model.eval()\n",
        "with torch.no_grad():\n",
        "    _, predictions_mean_fashion, predictions_var_fashion = loaded_models_fashion['linear_dae_fashion'].sample_predict(noisy_images_flattened_fashion, 50)\n",
        "\n",
        "plot_images(predictions_mean_fashion.view(-1,28,28).cpu(), space=0.05, vmax=1)"
      ],
      "metadata": {
        "colab": {
          "base_uri": "https://localhost:8080/",
          "height": 652
        },
        "id": "A6jzquqO2Rse",
        "outputId": "c16c534b-4c7a-4205-e3d8-c0ed1be01205"
      },
      "execution_count": 84,
      "outputs": [
        {
          "output_type": "display_data",
          "data": {
            "text/plain": [
              "<Figure size 200x800 with 4 Axes>"
            ],
            "image/png": "[encoded data removed]"
          },
          "metadata": {}
        }
      ]
    },
    {
      "cell_type": "markdown",
      "source": [
        "#### Linear BDAE"
      ],
      "metadata": {
        "id": "48_LDhgc2h4T"
      }
    },
    {
      "cell_type": "code",
      "source": [
        "# bayesian_linear_model.eval()\n",
        "with torch.no_grad():\n",
        "    _, predictions_mean_fashion, predictions_var_fashion = loaded_models_fashion['linear_bdae_fashion'].sample_predict(noisy_images_flattened_fashion, 50)\n",
        "\n",
        "plot_images(predictions_mean_fashion.view(-1,28,28).cpu(), space=0.05, vmax=1)"
      ],
      "metadata": {
        "colab": {
          "base_uri": "https://localhost:8080/",
          "height": 652
        },
        "id": "PLP_vO-U2ci5",
        "outputId": "02cbbbcd-33c2-4aa0-c34c-478a364a1dc7"
      },
      "execution_count": 85,
      "outputs": [
        {
          "output_type": "display_data",
          "data": {
            "text/plain": [
              "<Figure size 200x800 with 4 Axes>"
            ],
            "image/png": "[encoded data removed]"
          },
          "metadata": {}
        }
      ]
    },
    {
      "cell_type": "markdown",
      "source": [
        "#### Model uncertainty Linear BDAE"
      ],
      "metadata": {
        "id": "WalistY_2tfN"
      }
    },
    {
      "cell_type": "code",
      "source": [
        "print(np.max(predictions_var_fashion.cpu().numpy()))\n",
        "plot_images(predictions_var_fashion.view(-1,28,28).cpu(), space=0.05, cmap='viridis', vmax=0.01)"
      ],
      "metadata": {
        "colab": {
          "base_uri": "https://localhost:8080/",
          "height": 670
        },
        "id": "EQq5XpHv2yad",
        "outputId": "ea8401a2-4c4b-43c3-9de0-4f22667ee6f3"
      },
      "execution_count": 86,
      "outputs": [
        {
          "output_type": "stream",
          "name": "stdout",
          "text": [
            "0.03646602\n"
          ]
        },
        {
          "output_type": "display_data",
          "data": {
            "text/plain": [
              "<Figure size 200x800 with 4 Axes>"
            ],
            "image/png": "[encoded data removed]"
          },
          "metadata": {}
        }
      ]
    },
    {
      "cell_type": "markdown",
      "source": [
        "### Convolutional"
      ],
      "metadata": {
        "id": "KCpSKFNO3E5q"
      }
    },
    {
      "cell_type": "markdown",
      "source": [
        "#### Convolutional DAE"
      ],
      "metadata": {
        "id": "VuOHZm6X3IVn"
      }
    },
    {
      "cell_type": "code",
      "source": [
        "# bayesian_linear_model.eval()\n",
        "with torch.no_grad():\n",
        "    _, predictions_mean_fashion, predictions_var_fashion = loaded_models_fashion['convolutional_dae_fashion'].sample_predict(noisy_images_fashion.to(device), 50)\n",
        "\n",
        "plot_images(predictions_mean_fashion.view(-1,28,28).cpu(), space=0.05, vmax=1)"
      ],
      "metadata": {
        "colab": {
          "base_uri": "https://localhost:8080/",
          "height": 652
        },
        "id": "gpV7IrwX3DFi",
        "outputId": "e17e4249-b88d-479f-b69e-d124ef44e803"
      },
      "execution_count": 87,
      "outputs": [
        {
          "output_type": "display_data",
          "data": {
            "text/plain": [
              "<Figure size 200x800 with 4 Axes>"
            ],
            "image/png": "[encoded data removed]"
          },
          "metadata": {}
        }
      ]
    },
    {
      "cell_type": "markdown",
      "source": [
        "#### Convolutional BDAE"
      ],
      "metadata": {
        "id": "O3XLXMJ-3cds"
      }
    },
    {
      "cell_type": "code",
      "source": [
        "# bayesian_linear_model.eval()\n",
        "with torch.no_grad():\n",
        "    _, predictions_mean_fashion, predictions_var_fashion = loaded_models_fashion['convolutional_bdae_fashion'].sample_predict(noisy_images_fashion.to(device), 50)\n",
        "\n",
        "plot_images(predictions_mean_fashion.view(-1,28,28).cpu(), space=0.05, vmax=1)"
      ],
      "metadata": {
        "colab": {
          "base_uri": "https://localhost:8080/",
          "height": 652
        },
        "id": "3k-QhD3V3eGS",
        "outputId": "9af18c69-83f2-440d-b816-83a7a752af71"
      },
      "execution_count": 88,
      "outputs": [
        {
          "output_type": "display_data",
          "data": {
            "text/plain": [
              "<Figure size 200x800 with 4 Axes>"
            ],
            "image/png": "[encoded data removed]"
          },
          "metadata": {}
        }
      ]
    },
    {
      "cell_type": "markdown",
      "source": [
        "#### Model uncertainty Convolutional BDAE"
      ],
      "metadata": {
        "id": "RLJCQEZQ33_E"
      }
    },
    {
      "cell_type": "code",
      "source": [
        "print(np.max(predictions_var_fashion.cpu().numpy()))\n",
        "plot_images(predictions_var_fashion.view(-1,28,28).cpu(), space=0.05, cmap='viridis', vmax=0.01)"
      ],
      "metadata": {
        "colab": {
          "base_uri": "https://localhost:8080/",
          "height": 670
        },
        "id": "rmdCi6bq3ptj",
        "outputId": "f0236ce6-41d6-429b-c03b-0f351a392c20"
      },
      "execution_count": 89,
      "outputs": [
        {
          "output_type": "stream",
          "name": "stdout",
          "text": [
            "0.094229884\n"
          ]
        },
        {
          "output_type": "display_data",
          "data": {
            "text/plain": [
              "<Figure size 200x800 with 4 Axes>"
            ],
            "image/png": "[encoded data removed]"
          },
          "metadata": {}
        }
      ]
    }
  ]
}