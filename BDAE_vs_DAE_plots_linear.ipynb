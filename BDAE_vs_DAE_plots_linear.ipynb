{
  "nbformat": 4,
  "nbformat_minor": 0,
  "metadata": {
    "colab": {
      "provenance": []
    },
    "kernelspec": {
      "name": "python3",
      "display_name": "Python 3"
    },
    "language_info": {
      "name": "python"
    }
  },
  "cells": [
    {
      "cell_type": "markdown",
      "source": [
        "# Bayesian DAE vs Traditional DAE (Linear)\n"
      ],
      "metadata": {
        "id": "PlZSSNIGYzet"
      }
    },
    {
      "cell_type": "markdown",
      "source": [
        "## Data loading and processing"
      ],
      "metadata": {
        "id": "cF9oEeO_0iA3"
      }
    },
    {
      "cell_type": "code",
      "source": [
        "import torch\n",
        "import torch.nn as nn\n",
        "import torch.nn.functional as F\n",
        "import torchvision.transforms.functional as TF\n",
        "from torchvision import datasets\n",
        "import torchvision.transforms as transforms\n",
        "from torch.utils.data import random_split, DataLoader\n",
        "from torch.utils.tensorboard import SummaryWriter\n",
        "from tqdm import tqdm\n",
        "!pip install -q tensorflow\n",
        "%load_ext tensorboard\n",
        "\n",
        "import matplotlib.pyplot as plt\n",
        "import seaborn as sns\n",
        "import numpy as np"
      ],
      "metadata": {
        "id": "ZlhMeo9KNqcI"
      },
      "execution_count": 1,
      "outputs": []
    },
    {
      "cell_type": "code",
      "source": [
        "device = torch.device('cuda' if torch.cuda.is_available() else 'cpu')\n",
        "device"
      ],
      "metadata": {
        "colab": {
          "base_uri": "https://localhost:8080/"
        },
        "id": "e45FnUe8STwL",
        "outputId": "ae0a8a05-277a-492d-f09b-61d55dbe5b7a"
      },
      "execution_count": 2,
      "outputs": [
        {
          "output_type": "execute_result",
          "data": {
            "text/plain": [
              "device(type='cpu')"
            ]
          },
          "metadata": {},
          "execution_count": 2
        }
      ]
    },
    {
      "cell_type": "code",
      "source": [
        "# convert data to torch.FloatTensor\n",
        "transform = transforms.ToTensor()\n",
        "\n",
        "# load the training and test datasets\n",
        "trainval_data = datasets.MNIST(root='~/.pytorch/MNIST_data/', train=True,\n",
        "                                   download=True, transform=transform)\n",
        "test_data = datasets.MNIST(root='~/.pytorch/MNIST_data/', train=False,\n",
        "                                  download=True, transform=transform)"
      ],
      "metadata": {
        "id": "6kgioEV_N5as"
      },
      "execution_count": 19,
      "outputs": []
    },
    {
      "cell_type": "code",
      "source": [
        "train_data, val_data = random_split(trainval_data, [50_000, 10_000])\n",
        "\n",
        "# how many samples per batch to load\n",
        "batch_size = 64\n",
        "\n",
        "# prepare data loaders\n",
        "train_loader = torch.utils.data.DataLoader(train_data, batch_size=batch_size, shuffle=True)\n",
        "val_loader = torch.utils.data.DataLoader(val_data, batch_size=batch_size, shuffle=False)\n",
        "test_loader = torch.utils.data.DataLoader(test_data, batch_size=batch_size, shuffle=False)"
      ],
      "metadata": {
        "id": "l8ynxzkkdt1p"
      },
      "execution_count": 4,
      "outputs": []
    },
    {
      "cell_type": "code",
      "source": [
        "# Get a batch of training data\n",
        "data_iter = iter(train_loader)\n",
        "images, labels = next(data_iter)\n",
        "\n",
        "# Plot the first 10 images\n",
        "fig, axes = plt.subplots(1, 10, figsize=(15, 1.5))\n",
        "for i in range(10):\n",
        "    ax = axes[i]\n",
        "    ax.imshow(images[i].numpy().squeeze(), cmap='gray')\n",
        "    ax.axis('off')\n",
        "\n",
        "plt.show()"
      ],
      "metadata": {
        "colab": {
          "base_uri": "https://localhost:8080/",
          "height": 135
        },
        "id": "9gDobDSefgSe",
        "outputId": "0240edf4-f598-4e3e-8f31-e2fcd0dc5a0d"
      },
      "execution_count": 5,
      "outputs": [
        {
          "output_type": "display_data",
          "data": {
            "text/plain": [
              "<Figure size 1500x150 with 10 Axes>"
            ],
            "image/png": "[encoded data removed]"
          },
          "metadata": {}
        }
      ]
    },
    {
      "cell_type": "markdown",
      "source": [
        "## Autoencoder Architectures"
      ],
      "metadata": {
        "id": "_ZwS1LxU0qtB"
      }
    },
    {
      "cell_type": "code",
      "source": [
        "dropout_rate = 0.3\n",
        "\n",
        "def MC_dropout(act_vec, p=0.5, mask=True):\n",
        "  return F.dropout(act_vec, p=p, training=mask, inplace=False)\n",
        "\n",
        "class LinearBDAE(nn.Module):\n",
        "    def __init__(self):\n",
        "        super().__init__()\n",
        "        # Encoder layers\n",
        "        self.enc_fc1 = nn.Linear(28*28, 512)\n",
        "        self.enc_fc2 = nn.Linear(512, 256)\n",
        "        self.enc_fc3 = nn.Linear(256, 128)\n",
        "\n",
        "        # Decoder layers\n",
        "        self.dec_fc1 = nn.Linear(128, 256)\n",
        "        self.dec_fc2 = nn.Linear(256, 512)\n",
        "        self.dec_fc3 = nn.Linear(512, 28*28)\n",
        "\n",
        "    def forward(self, x, dropout_p=dropout_rate, apply_dropout=True):\n",
        "        # Encoder forward pass\n",
        "        x = F.relu(self.enc_fc1(x))\n",
        "        x = F.relu(self.enc_fc2(x))\n",
        "        x = F.relu(self.enc_fc3(x))\n",
        "\n",
        "        # Decoder forward pass with MC Dropout\n",
        "        x = F.relu(self.dec_fc1(x))\n",
        "        x = MC_dropout(x, p=dropout_p, mask=apply_dropout)\n",
        "        x = F.relu(self.dec_fc2(x))\n",
        "        x = MC_dropout(x, p=dropout_p, mask=apply_dropout)\n",
        "        x = torch.sigmoid(self.dec_fc3(x))\n",
        "        return x\n",
        "\n",
        "    def sample_predict(self, x, Nsamples):\n",
        "      predictions = x.data.new(Nsamples, x.shape[0], 28*28)\n",
        "      for i in range(Nsamples):\n",
        "        y = self.forward(x)\n",
        "        predictions[i] = y\n",
        "\n",
        "      predictions_mean = torch.mean(predictions, dim=0)\n",
        "      predictions_var = torch.var(predictions, dim=0)\n",
        "\n",
        "      return predictions, predictions_mean, predictions_var\n",
        "\n",
        "\n",
        "class LinearDAE(nn.Module):\n",
        "    def __init__(self):\n",
        "        super().__init__()\n",
        "        # Encoder layers\n",
        "        self.enc_fc1 = nn.Linear(28*28, 512)\n",
        "        self.enc_fc2 = nn.Linear(512, 256)\n",
        "        self.enc_fc3 = nn.Linear(256, 128)\n",
        "\n",
        "        # Decoder layers\n",
        "        self.dec_fc1 = nn.Linear(128, 256)\n",
        "        self.dec_fc2 = nn.Linear(256, 512)\n",
        "        self.dec_fc3 = nn.Linear(512, 28*28)\n",
        "\n",
        "    def forward(self, x, dropout_p=dropout_rate, apply_dropout=True):\n",
        "        # Encoder forward pass\n",
        "        x = F.relu(self.enc_fc1(x))\n",
        "        x = F.relu(self.enc_fc2(x))\n",
        "        x = F.relu(self.enc_fc3(x))\n",
        "\n",
        "        # Decoder forward pass with MC Dropout\n",
        "        x = F.relu(self.dec_fc1(x))\n",
        "        # x = MC_dropout(x, p=dropout_p, mask=apply_dropout)\n",
        "        x = F.relu(self.dec_fc2(x))\n",
        "        # x = MC_dropout(x, p=dropout_p, mask=apply_dropout)\n",
        "        x = torch.sigmoid(self.dec_fc3(x))\n",
        "        return x\n",
        "\n",
        "    def sample_predict(self, x, Nsamples):\n",
        "      predictions = x.data.new(Nsamples, x.shape[0], 28*28)\n",
        "      for i in range(Nsamples):\n",
        "        y = self.forward(x)\n",
        "        predictions[i] = y\n",
        "\n",
        "      predictions_mean = torch.mean(predictions, dim=0)\n",
        "      predictions_var = torch.var(predictions, dim=0)\n",
        "\n",
        "      return predictions, predictions_mean, predictions_var"
      ],
      "metadata": {
        "id": "ysrc2_7-8U__"
      },
      "execution_count": 6,
      "outputs": []
    },
    {
      "cell_type": "markdown",
      "source": [
        "## Noise schemes"
      ],
      "metadata": {
        "id": "i-uvFRQO5dNT"
      }
    },
    {
      "cell_type": "code",
      "source": [
        "def add_gaussian_noise(images, noise_factor=0.5):\n",
        "  corrupted_images = images + noise_factor * torch.randn(*images.shape)\n",
        "  corrupted_images = np.clip(corrupted_images, 0., 1.)\n",
        "  return corrupted_images\n",
        "\n",
        "def add_masking_noise(images, masking_rate=0.5):\n",
        "    # Generate a random mask with the same shape as the images\n",
        "    mask = torch.rand_like(images) > masking_rate\n",
        "    # Apply the mask to the images\n",
        "    noisy_images = images * mask\n",
        "    return noisy_images\n",
        "\n",
        "def add_salt_pepper_noise(images, pepper_prob=0.1, salt_prob=None):\n",
        "    noisy_img = images.clone()\n",
        "    if salt_prob is None:\n",
        "        salt_prob = 1 - pepper_prob\n",
        "    # Generating random noise mask\n",
        "    noise_mask = torch.rand_like(images)\n",
        "    # Adding pepper noise\n",
        "    noisy_img[noise_mask < pepper_prob] = 0\n",
        "    # Adding salt noise\n",
        "    noisy_img[noise_mask > salt_prob] = 1\n",
        "    return noisy_img\n",
        "\n",
        "def add_gaussian_blur(images, kernel_size=5, sigma=2):\n",
        "\n",
        "    blurred_images = []\n",
        "    for image in images:\n",
        "        # Convert tensor to PIL image\n",
        "        image_pil = TF.to_pil_image(image.view(-1, 28, 28))\n",
        "\n",
        "        # Apply Gaussian blur\n",
        "        blurred_image_pil = TF.gaussian_blur(image_pil, kernel_size, sigma)\n",
        "\n",
        "        # Convert blurred image back to tensor\n",
        "        blurred_image_tensor = TF.to_tensor(blurred_image_pil)\n",
        "\n",
        "        blurred_images.append(blurred_image_tensor)\n",
        "\n",
        "    return torch.stack(blurred_images).view(-1, 28*28)\n",
        "\n",
        "\n",
        "add_noise = lambda images: add_gaussian_noise(images, noise_factor=0.3)"
      ],
      "metadata": {
        "id": "klWJaaZ35gIN"
      },
      "execution_count": 7,
      "outputs": []
    },
    {
      "cell_type": "markdown",
      "source": [
        "## Training Process"
      ],
      "metadata": {
        "id": "PMQHrE8y0uZK"
      }
    },
    {
      "cell_type": "markdown",
      "source": [
        "### Training functions"
      ],
      "metadata": {
        "id": "Om1oPzEDrIMa"
      }
    },
    {
      "cell_type": "code",
      "source": [
        "def train(train_loader, net, optimizer, criterion):\n",
        "  total_loss = 0\n",
        "\n",
        "  for i, data in enumerate(train_loader):\n",
        "\n",
        "        images, _ = data\n",
        "        images = images.view(images.size(0), -1)\n",
        "\n",
        "        # ADD NOISE PROCESS\n",
        "        corrupted_images = add_noise(images)\n",
        "\n",
        "        images = images.to(device)\n",
        "        corrupted_images = corrupted_images.to(device)\n",
        "\n",
        "        # zero the parameter gradients\n",
        "        optimizer.zero_grad()\n",
        "\n",
        "        # forward + backward + optimize\n",
        "        outputs = net.forward(corrupted_images)\n",
        "\n",
        "        loss = criterion(outputs, images)\n",
        "\n",
        "        loss.backward()\n",
        "        optimizer.step()\n",
        "\n",
        "        # keep track of loss and accuracy\n",
        "        total_loss += loss.item() * images.size(0)\n",
        "\n",
        "  avg_loss = total_loss/len(train_loader.dataset)  # Compute average loss\n",
        "\n",
        "  return avg_loss"
      ],
      "metadata": {
        "id": "tnpFp5G7ho7l"
      },
      "execution_count": 8,
      "outputs": []
    },
    {
      "cell_type": "code",
      "source": [
        "def validation(val_loader, net, criterion, Nsamples):\n",
        "  total_loss = 0\n",
        "\n",
        "  # Use torch.no_grad to skip gradient calculation, not needed for evaluation\n",
        "  with torch.no_grad():\n",
        "      # iterate through batches\n",
        "        for data in val_loader:\n",
        "            # get the inputs; data is a list of [inputs, labels]\n",
        "            images, _ = data\n",
        "            # images = images.to(device)\n",
        "            images = images.view(images.size(0), -1)\n",
        "\n",
        "            corrupted_images = add_noise(images)\n",
        "\n",
        "            images = images.to(device)\n",
        "            corrupted_images = corrupted_images.to(device)\n",
        "\n",
        "            # forward pass\n",
        "            predictions, predictions_mean, predictions_var = net.sample_predict(corrupted_images, Nsamples)\n",
        "            loss = criterion(predictions_mean, images)\n",
        "\n",
        "            # keep track of loss and accuracy\n",
        "            total_loss += loss.item() * images.size(0)\n",
        "\n",
        "  return total_loss/len(val_loader.dataset)"
      ],
      "metadata": {
        "id": "sNDtUJu_jF_l"
      },
      "execution_count": 9,
      "outputs": []
    },
    {
      "cell_type": "markdown",
      "source": [
        "### Training Procedure"
      ],
      "metadata": {
        "id": "A0ntVTJIrJ-Z"
      }
    },
    {
      "cell_type": "markdown",
      "source": [
        "##### DAE"
      ],
      "metadata": {
        "id": "1BnTStEhOBgG"
      }
    },
    {
      "cell_type": "code",
      "source": [
        "# To completely clean your tensorboard uncomment and run the following command.\n",
        "!rm -r runs\n",
        "#Set random seed\n",
        "torch.manual_seed(42)\n",
        "\n",
        "train_losses = []\n",
        "val_losses = []\n",
        "\n",
        "# Create a writer to write to Tensorboard\n",
        "writer = SummaryWriter()\n",
        "\n",
        "traditional_linear_model = LinearDAE().to(device)\n",
        "criterion = nn.MSELoss()\n",
        "learning_rate = 1e-3\n",
        "optimizer = torch.optim.Adam(traditional_linear_model.parameters(), lr=learning_rate)\n",
        "\n",
        "num_epochs = 1\n",
        "\n",
        "Nsamples = 10\n",
        "\n",
        "for epoch in tqdm(range(num_epochs)):  # loop over the dataset multiple times\n",
        "    # Train on data\n",
        "    train_loss = train(train_loader, traditional_linear_model, optimizer, criterion)\n",
        "\n",
        "    # Test on data\n",
        "    val_loss = validation(val_loader, traditional_linear_model, criterion, Nsamples)\n",
        "\n",
        "    # Log metrics to Tensorboard\n",
        "    writer.add_scalars(\"Loss\", {'Train': train_loss, 'Validation':val_loss}, epoch)\n",
        "\n",
        "    train_losses.append(train_loss)\n",
        "    val_losses.append(val_loss)\n",
        "\n",
        "print('Finished Training')\n",
        "\n",
        "#Close the writer\n",
        "writer.flush()\n",
        "writer.close()"
      ],
      "metadata": {
        "colab": {
          "base_uri": "https://localhost:8080/"
        },
        "id": "Z4_UPu_VODVb",
        "outputId": "d67f2d61-232e-4ddc-86fa-4c89fb059bb8"
      },
      "execution_count": 92,
      "outputs": [
        {
          "output_type": "stream",
          "name": "stderr",
          "text": [
            "100%|██████████| 1/1 [00:38<00:00, 38.17s/it]"
          ]
        },
        {
          "output_type": "stream",
          "name": "stdout",
          "text": [
            "Finished Training\n"
          ]
        },
        {
          "output_type": "stream",
          "name": "stderr",
          "text": [
            "\n"
          ]
        }
      ]
    },
    {
      "cell_type": "markdown",
      "source": [
        "##### BDAE"
      ],
      "metadata": {
        "id": "4RIUSecVN7hg"
      }
    },
    {
      "cell_type": "code",
      "source": [
        "# To completely clean your tensorboard uncomment and run the following command.\n",
        "!rm -r runs\n",
        "#Set random seed\n",
        "torch.manual_seed(42)\n",
        "\n",
        "train_losses = []\n",
        "val_losses = []\n",
        "\n",
        "# Create a writer to write to Tensorboard\n",
        "writer = SummaryWriter()\n",
        "\n",
        "bayesian_linear_model = LinearBDAE().to(device)\n",
        "criterion = nn.MSELoss()\n",
        "# learning_rate = 1e-3 #Should already be specified\n",
        "optimizer = torch.optim.Adam(bayesian_linear_model.parameters(), lr=learning_rate)\n",
        "\n",
        "# num_epochs = 1 #Should already be specified\n",
        "\n",
        "Nsamples = 10\n",
        "\n",
        "for epoch in tqdm(range(num_epochs)):  # loop over the dataset multiple times\n",
        "    # Train on data\n",
        "    train_loss = train(train_loader, bayesian_linear_model, optimizer, criterion)\n",
        "\n",
        "    # Test on data\n",
        "    val_loss = validation(val_loader, bayesian_linear_model, criterion, Nsamples)\n",
        "\n",
        "    # Log metrics to Tensorboard\n",
        "    writer.add_scalars(\"Loss\", {'Train': train_loss, 'Validation':val_loss}, epoch)\n",
        "\n",
        "    train_losses.append(train_loss)\n",
        "    val_losses.append(val_loss)\n",
        "\n",
        "print('Finished Training')\n",
        "\n",
        "#Close the writer\n",
        "writer.flush()\n",
        "writer.close()"
      ],
      "metadata": {
        "colab": {
          "base_uri": "https://localhost:8080/"
        },
        "id": "qIvQiQYYnNHS",
        "outputId": "30772395-b7ce-4974-84f6-d6305a9e86b7"
      },
      "execution_count": 11,
      "outputs": [
        {
          "output_type": "stream",
          "name": "stderr",
          "text": [
            "100%|██████████| 1/1 [00:34<00:00, 34.48s/it]"
          ]
        },
        {
          "output_type": "stream",
          "name": "stdout",
          "text": [
            "Finished Training\n"
          ]
        },
        {
          "output_type": "stream",
          "name": "stderr",
          "text": [
            "\n"
          ]
        }
      ]
    },
    {
      "cell_type": "markdown",
      "source": [
        "## Visualizations Linear"
      ],
      "metadata": {
        "id": "eFzIyAjr04kk"
      }
    },
    {
      "cell_type": "markdown",
      "source": [
        "### Clean images"
      ],
      "metadata": {
        "id": "J_M7GrgkObu9"
      }
    },
    {
      "cell_type": "code",
      "source": [
        "num_images = 4\n",
        "\n",
        "# Function to plot the images\n",
        "def plot_images(images, space=0.05, cmap='gray'):\n",
        "    plt.figure(figsize=(2, 8))\n",
        "    for i in range(num_images):\n",
        "        plt.subplot(4, 1, i + 1)\n",
        "        plt.imshow(images[i].numpy().squeeze(), cmap=cmap)\n",
        "        plt.axis('off')\n",
        "    plt.subplots_adjust(wspace=space, hspace=space)\n",
        "    plt.show()\n",
        "\n",
        "\n",
        "# Initialize images\n",
        "# Get a different set of 8 images and their labels from the test dataset\n",
        "start_index = 0  # Change this to select a different starting point\n",
        "images, labels = zip(*[(test_data[i][0], test_data[i][1]) for i in range(start_index, start_index + 64)])\n",
        "\n",
        "# Plot the images\n",
        "plot_images(images, 0.05)\n",
        "\n",
        "# # Plot corrupted images\n",
        "# torch_images = torch.stack(images)\n",
        "\n",
        "# noisy_images = add_noise(torch_images)\n",
        "# plot_images(noisy_images, 0.05)\n",
        "\n",
        "# # Plot DAE output\n",
        "\n",
        "# # Plot BDAE output\n",
        "\n",
        "# noisy_images_flattened = noisy_images.view(noisy_images.size(0), -1)\n",
        "# bayesian_linear_model.eval()\n",
        "# with torch.no_grad():\n",
        "#     _, predictions_mean, predictions_var = bayesian_linear_model.sample_predict(noisy_images_flattened, 10)\n",
        "\n",
        "# plot_images(predictions_mean.view(-1,28,28), 0.05)\n",
        "# plot_images(predictions_var.view(-1,28,28), 0.05, 'viridis')\n",
        "\n"
      ],
      "metadata": {
        "colab": {
          "base_uri": "https://localhost:8080/",
          "height": 652
        },
        "id": "yerbr5YlGhCh",
        "outputId": "c5901061-16fc-41f5-b4d3-d03d92974c8e"
      },
      "execution_count": 107,
      "outputs": [
        {
          "output_type": "display_data",
          "data": {
            "text/plain": [
              "<Figure size 200x800 with 4 Axes>"
            ],
            "image/png": "[encoded data removed]"
          },
          "metadata": {}
        }
      ]
    },
    {
      "cell_type": "markdown",
      "source": [
        "### Corrupted images"
      ],
      "metadata": {
        "id": "sCpiC76MOghr"
      }
    },
    {
      "cell_type": "code",
      "source": [
        "torch_images = torch.stack(images)\n",
        "\n",
        "noisy_images = add_noise(torch_images)\n",
        "plot_images(noisy_images, 0.05)"
      ],
      "metadata": {
        "colab": {
          "base_uri": "https://localhost:8080/",
          "height": 652
        },
        "id": "HclIkZsgH7Zg",
        "outputId": "83153dd3-dd0a-432e-9636-e5b1afa15047"
      },
      "execution_count": 108,
      "outputs": [
        {
          "output_type": "display_data",
          "data": {
            "text/plain": [
              "<Figure size 200x800 with 4 Axes>"
            ],
            "image/png": "[encoded data removed]"
          },
          "metadata": {}
        }
      ]
    },
    {
      "cell_type": "markdown",
      "source": [
        "### Predictions DAE"
      ],
      "metadata": {
        "id": "N3cbNUCGOj1r"
      }
    },
    {
      "cell_type": "code",
      "source": [
        "noisy_images_flattened = noisy_images.view(noisy_images.size(0), -1)\n",
        "bayesian_linear_model.eval()\n",
        "with torch.no_grad():\n",
        "    _, predictions_mean, predictions_var = traditional_linear_model.sample_predict(noisy_images_flattened, 10)\n",
        "\n",
        "plot_images(predictions_mean.view(-1,28,28), 0.05)"
      ],
      "metadata": {
        "colab": {
          "base_uri": "https://localhost:8080/",
          "height": 652
        },
        "id": "nLuW5lSJOjfA",
        "outputId": "34f59e41-3a6a-4d07-ec80-d3b881af2f36"
      },
      "execution_count": 109,
      "outputs": [
        {
          "output_type": "display_data",
          "data": {
            "text/plain": [
              "<Figure size 200x800 with 4 Axes>"
            ],
            "image/png": "[encoded data removed]"
          },
          "metadata": {}
        }
      ]
    },
    {
      "cell_type": "markdown",
      "source": [
        "### Mean BDAE"
      ],
      "metadata": {
        "id": "UQ6NNOWqOon1"
      }
    },
    {
      "cell_type": "code",
      "source": [
        "noisy_images_flattened = noisy_images.view(noisy_images.size(0), -1)\n",
        "bayesian_linear_model.eval()\n",
        "with torch.no_grad():\n",
        "    _, predictions_mean, predictions_var = bayesian_linear_model.sample_predict(noisy_images_flattened, 10)\n",
        "\n",
        "plot_images(predictions_mean.view(-1,28,28), 0.05)"
      ],
      "metadata": {
        "colab": {
          "base_uri": "https://localhost:8080/",
          "height": 652
        },
        "id": "qJ-9gOSfMJUm",
        "outputId": "06b82785-d526-4bff-f642-5183516006eb"
      },
      "execution_count": 110,
      "outputs": [
        {
          "output_type": "display_data",
          "data": {
            "text/plain": [
              "<Figure size 200x800 with 4 Axes>"
            ],
            "image/png": "[encoded data removed]"
          },
          "metadata": {}
        }
      ]
    },
    {
      "cell_type": "markdown",
      "source": [
        "### Variance BDAE"
      ],
      "metadata": {
        "id": "pZv5rx-TOqGR"
      }
    },
    {
      "cell_type": "code",
      "source": [
        "plot_images(predictions_var.view(-1,28,28), 0.05, 'viridis')"
      ],
      "metadata": {
        "colab": {
          "base_uri": "https://localhost:8080/",
          "height": 652
        },
        "id": "Q29jMcLbMLky",
        "outputId": "42c07a56-f04f-4675-dfc4-40c5686a53c5"
      },
      "execution_count": 111,
      "outputs": [
        {
          "output_type": "display_data",
          "data": {
            "text/plain": [
              "<Figure size 200x800 with 4 Axes>"
            ],
            "image/png": "[encoded data removed]"
          },
          "metadata": {}
        }
      ]
    }
  ]
}