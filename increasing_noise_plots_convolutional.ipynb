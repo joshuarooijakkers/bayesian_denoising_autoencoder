{
  "cells": [
    {
      "cell_type": "markdown",
      "metadata": {
        "id": "PlZSSNIGYzet"
      },
      "source": [
        "# Increasing noise BDAE (Convolutional)\n"
      ]
    },
    {
      "cell_type": "markdown",
      "metadata": {
        "id": "cF9oEeO_0iA3"
      },
      "source": [
        "## Data loading and processing"
      ]
    },
    {
      "cell_type": "code",
      "execution_count": 1,
      "metadata": {
        "id": "ZlhMeo9KNqcI"
      },
      "outputs": [],
      "source": [
        "import torch\n",
        "import torch.nn as nn\n",
        "import torch.nn.functional as F\n",
        "import torchvision.transforms.functional as TF\n",
        "from torchvision import datasets\n",
        "import torchvision.transforms as transforms\n",
        "from torch.utils.data import random_split, DataLoader\n",
        "from torch.utils.tensorboard import SummaryWriter\n",
        "from tqdm import tqdm\n",
        "!pip install -q tensorflow\n",
        "%load_ext tensorboard\n",
        "\n",
        "import matplotlib.pyplot as plt\n",
        "import seaborn as sns\n",
        "import numpy as np"
      ]
    },
    {
      "cell_type": "code",
      "execution_count": 2,
      "metadata": {
        "colab": {
          "base_uri": "https://localhost:8080/"
        },
        "id": "e45FnUe8STwL",
        "outputId": "3db81fa7-9185-415a-d399-dd8194a2f2b6"
      },
      "outputs": [
        {
          "output_type": "execute_result",
          "data": {
            "text/plain": [
              "device(type='cuda')"
            ]
          },
          "metadata": {},
          "execution_count": 2
        }
      ],
      "source": [
        "device = torch.device('cuda' if torch.cuda.is_available() else 'cpu')\n",
        "device"
      ]
    },
    {
      "cell_type": "code",
      "execution_count": 3,
      "metadata": {
        "colab": {
          "base_uri": "https://localhost:8080/"
        },
        "id": "6kgioEV_N5as",
        "outputId": "fae4ed54-2afa-4a8b-a5c3-ce7cab5df478"
      },
      "outputs": [
        {
          "output_type": "stream",
          "name": "stdout",
          "text": [
            "Downloading http://yann.lecun.com/exdb/mnist/train-images-idx3-ubyte.gz\n",
            "Failed to download (trying next):\n",
            "HTTP Error 403: Forbidden\n",
            "\n",
            "Downloading https://ossci-datasets.s3.amazonaws.com/mnist/train-images-idx3-ubyte.gz\n",
            "Downloading https://ossci-datasets.s3.amazonaws.com/mnist/train-images-idx3-ubyte.gz to /root/.pytorch/MNIST_data/MNIST/raw/train-images-idx3-ubyte.gz\n"
          ]
        },
        {
          "output_type": "stream",
          "name": "stderr",
          "text": [
            "100%|██████████| 9912422/9912422 [00:05<00:00, 1857243.77it/s]\n"
          ]
        },
        {
          "output_type": "stream",
          "name": "stdout",
          "text": [
            "Extracting /root/.pytorch/MNIST_data/MNIST/raw/train-images-idx3-ubyte.gz to /root/.pytorch/MNIST_data/MNIST/raw\n",
            "\n",
            "Downloading http://yann.lecun.com/exdb/mnist/train-labels-idx1-ubyte.gz\n",
            "Failed to download (trying next):\n",
            "HTTP Error 403: Forbidden\n",
            "\n",
            "Downloading https://ossci-datasets.s3.amazonaws.com/mnist/train-labels-idx1-ubyte.gz\n",
            "Downloading https://ossci-datasets.s3.amazonaws.com/mnist/train-labels-idx1-ubyte.gz to /root/.pytorch/MNIST_data/MNIST/raw/train-labels-idx1-ubyte.gz\n"
          ]
        },
        {
          "output_type": "stream",
          "name": "stderr",
          "text": [
            "100%|██████████| 28881/28881 [00:00<00:00, 377694.51it/s]\n"
          ]
        },
        {
          "output_type": "stream",
          "name": "stdout",
          "text": [
            "Extracting /root/.pytorch/MNIST_data/MNIST/raw/train-labels-idx1-ubyte.gz to /root/.pytorch/MNIST_data/MNIST/raw\n",
            "\n",
            "Downloading http://yann.lecun.com/exdb/mnist/t10k-images-idx3-ubyte.gz\n",
            "Failed to download (trying next):\n",
            "HTTP Error 403: Forbidden\n",
            "\n",
            "Downloading https://ossci-datasets.s3.amazonaws.com/mnist/t10k-images-idx3-ubyte.gz\n",
            "Downloading https://ossci-datasets.s3.amazonaws.com/mnist/t10k-images-idx3-ubyte.gz to /root/.pytorch/MNIST_data/MNIST/raw/t10k-images-idx3-ubyte.gz\n"
          ]
        },
        {
          "output_type": "stream",
          "name": "stderr",
          "text": [
            "100%|██████████| 1648877/1648877 [00:00<00:00, 3135743.36it/s]\n"
          ]
        },
        {
          "output_type": "stream",
          "name": "stdout",
          "text": [
            "Extracting /root/.pytorch/MNIST_data/MNIST/raw/t10k-images-idx3-ubyte.gz to /root/.pytorch/MNIST_data/MNIST/raw\n",
            "\n",
            "Downloading http://yann.lecun.com/exdb/mnist/t10k-labels-idx1-ubyte.gz\n",
            "Failed to download (trying next):\n",
            "HTTP Error 403: Forbidden\n",
            "\n",
            "Downloading https://ossci-datasets.s3.amazonaws.com/mnist/t10k-labels-idx1-ubyte.gz\n",
            "Downloading https://ossci-datasets.s3.amazonaws.com/mnist/t10k-labels-idx1-ubyte.gz to /root/.pytorch/MNIST_data/MNIST/raw/t10k-labels-idx1-ubyte.gz\n"
          ]
        },
        {
          "output_type": "stream",
          "name": "stderr",
          "text": [
            "100%|██████████| 4542/4542 [00:00<00:00, 10684536.61it/s]"
          ]
        },
        {
          "output_type": "stream",
          "name": "stdout",
          "text": [
            "Extracting /root/.pytorch/MNIST_data/MNIST/raw/t10k-labels-idx1-ubyte.gz to /root/.pytorch/MNIST_data/MNIST/raw\n",
            "\n"
          ]
        },
        {
          "output_type": "stream",
          "name": "stderr",
          "text": [
            "\n"
          ]
        }
      ],
      "source": [
        "# convert data to torch.FloatTensor\n",
        "transform = transforms.ToTensor()\n",
        "\n",
        "# load the training and test datasets\n",
        "trainval_data = datasets.MNIST(root='~/.pytorch/MNIST_data/', train=True,\n",
        "                                   download=True, transform=transform)\n",
        "test_data = datasets.MNIST(root='~/.pytorch/MNIST_data/', train=False,\n",
        "                                  download=True, transform=transform)"
      ]
    },
    {
      "cell_type": "code",
      "execution_count": 4,
      "metadata": {
        "id": "l8ynxzkkdt1p"
      },
      "outputs": [],
      "source": [
        "train_data, val_data = random_split(trainval_data, [50_000, 10_000])\n",
        "\n",
        "# how many samples per batch to load\n",
        "batch_size = 64\n",
        "\n",
        "# prepare data loaders\n",
        "train_loader = torch.utils.data.DataLoader(train_data, batch_size=batch_size, shuffle=True)\n",
        "val_loader = torch.utils.data.DataLoader(val_data, batch_size=batch_size, shuffle=False)\n",
        "test_loader = torch.utils.data.DataLoader(test_data, batch_size=batch_size, shuffle=False)"
      ]
    },
    {
      "cell_type": "code",
      "execution_count": 5,
      "metadata": {
        "colab": {
          "base_uri": "https://localhost:8080/",
          "height": 135
        },
        "id": "9gDobDSefgSe",
        "outputId": "977d6a1f-3e8b-46f0-aba3-08562064132c"
      },
      "outputs": [
        {
          "output_type": "display_data",
          "data": {
            "text/plain": [
              "<Figure size 1500x150 with 10 Axes>"
            ],
            "image/png": "[encoded data removed]"
          },
          "metadata": {}
        }
      ],
      "source": [
        "# Get a batch of training data\n",
        "data_iter = iter(train_loader)\n",
        "images, labels = next(data_iter)\n",
        "\n",
        "# Plot the first 10 images\n",
        "fig, axes = plt.subplots(1, 10, figsize=(15, 1.5))\n",
        "for i in range(10):\n",
        "    ax = axes[i]\n",
        "    ax.imshow(images[i].numpy().squeeze(), cmap='gray')\n",
        "    ax.axis('off')\n",
        "\n",
        "plt.show()"
      ]
    },
    {
      "cell_type": "markdown",
      "metadata": {
        "id": "_ZwS1LxU0qtB"
      },
      "source": [
        "## Autoencoder Architectures"
      ]
    },
    {
      "cell_type": "code",
      "execution_count": 6,
      "metadata": {
        "id": "ysrc2_7-8U__"
      },
      "outputs": [],
      "source": [
        "dropout_rate = 0.2\n",
        "\n",
        "def MC_dropout(act_vec, p=0.5, mask=True):\n",
        "  return F.dropout(act_vec, p=p, training=mask, inplace=False)\n",
        "\n",
        "class ConvolutionalBDAE(nn.Module):\n",
        "    def __init__(self):\n",
        "        super().__init__()\n",
        "\n",
        "        # Encoder layers\n",
        "        self.conv1 = nn.Conv2d(1, 64, 3, stride=2, padding=1)  # Increased number of output channels\n",
        "        self.conv2 = nn.Conv2d(64, 128, 3, stride=2, padding=1)  # Increased number of output channels\n",
        "        self.conv3 = nn.Conv2d(128, 256, 7)  # Increased number of output channels\n",
        "\n",
        "        # Decoder layers\n",
        "        self.deconv1 = nn.ConvTranspose2d(256, 128, 7)  # Increased number of input channels\n",
        "        self.deconv2 = nn.ConvTranspose2d(128, 64, 3, stride=2, padding=1, output_padding=1)  # Increased number of input channels\n",
        "        self.deconv3 = nn.ConvTranspose2d(64, 1, 3, stride=2, padding=1, output_padding=1)  # Increased number of input channels\n",
        "        self.sigmoid = nn.Sigmoid()\n",
        "\n",
        "    def forward(self, x, dropout_p=dropout_rate, apply_dropout=True):\n",
        "        # Encoder\n",
        "        x = F.relu(self.conv1(x))\n",
        "        x = F.relu(self.conv2(x))\n",
        "        x = F.relu(self.conv3(x))\n",
        "\n",
        "        # Decoder\n",
        "        x = F.relu(self.deconv1(x))\n",
        "        x = MC_dropout(x, p=dropout_p, mask=apply_dropout)\n",
        "        x = F.relu(self.deconv2(x))\n",
        "        x = MC_dropout(x, p=dropout_p, mask=apply_dropout)\n",
        "        x = self.sigmoid(self.deconv3(x))\n",
        "\n",
        "        return x\n",
        "\n",
        "    def sample_predict(self, x, Nsamples):\n",
        "      predictions = x.data.new(Nsamples, x.shape[0], 28*28)\n",
        "      for i in range(Nsamples):\n",
        "        y = self.forward(x)\n",
        "        predictions[i] = y.view(-1, 28*28)\n",
        "\n",
        "      predictions_mean = torch.mean(predictions, dim=0)\n",
        "      predictions_var = torch.var(predictions, dim=0)\n",
        "\n",
        "      predictions_mean = predictions_mean.view(-1, 1, 28, 28)\n",
        "      predictions_var = predictions_var.view(-1, 1, 28, 28)\n",
        "\n",
        "      return predictions, predictions_mean, predictions_var"
      ]
    },
    {
      "cell_type": "markdown",
      "metadata": {
        "id": "i-uvFRQO5dNT"
      },
      "source": [
        "## Noise schemes"
      ]
    },
    {
      "cell_type": "code",
      "execution_count": 7,
      "metadata": {
        "id": "klWJaaZ35gIN"
      },
      "outputs": [],
      "source": [
        "def add_gaussian_noise(images, noise_factor=0.5):\n",
        "  corrupted_images = images + noise_factor * torch.randn(*images.shape)\n",
        "  corrupted_images = np.clip(corrupted_images, 0., 1.)\n",
        "  return corrupted_images"
      ]
    },
    {
      "cell_type": "markdown",
      "metadata": {
        "id": "PMQHrE8y0uZK"
      },
      "source": [
        "## Training Process"
      ]
    },
    {
      "cell_type": "markdown",
      "metadata": {
        "id": "Om1oPzEDrIMa"
      },
      "source": [
        "### Training functions"
      ]
    },
    {
      "cell_type": "code",
      "execution_count": 8,
      "metadata": {
        "id": "tnpFp5G7ho7l"
      },
      "outputs": [],
      "source": [
        "def train(train_loader, net, optimizer, criterion, noise_factor):\n",
        "  total_loss = 0\n",
        "\n",
        "  for i, data in enumerate(train_loader):\n",
        "\n",
        "        images, _ = data\n",
        "        # images = images.view(images.size(0), -1)\n",
        "\n",
        "        # ADD NOISE PROCESS\n",
        "        corrupted_images = add_gaussian_noise(images, noise_factor)\n",
        "\n",
        "        images = images.to(device)\n",
        "        corrupted_images = corrupted_images.to(device)\n",
        "\n",
        "        # zero the parameter gradients\n",
        "        optimizer.zero_grad()\n",
        "\n",
        "        # forward + backward + optimize\n",
        "        outputs = net.forward(corrupted_images)\n",
        "\n",
        "        loss = criterion(outputs, images)\n",
        "\n",
        "        loss.backward()\n",
        "        optimizer.step()\n",
        "\n",
        "        # keep track of loss and accuracy\n",
        "        total_loss += loss.item() * images.size(0)\n",
        "\n",
        "  avg_loss = total_loss/len(train_loader.dataset)  # Compute average loss\n",
        "\n",
        "  return avg_loss"
      ]
    },
    {
      "cell_type": "code",
      "execution_count": 9,
      "metadata": {
        "id": "sNDtUJu_jF_l"
      },
      "outputs": [],
      "source": [
        "def validation(val_loader, net, criterion, Nsamples, noise_factor):\n",
        "  total_loss = 0\n",
        "\n",
        "  # Use torch.no_grad to skip gradient calculation, not needed for evaluation\n",
        "  with torch.no_grad():\n",
        "      # iterate through batches\n",
        "        for data in val_loader:\n",
        "            # get the inputs; data is a list of [inputs, labels]\n",
        "            images, _ = data\n",
        "            # images = images.view(images.size(0), -1)\n",
        "\n",
        "            corrupted_images = add_gaussian_noise(images, noise_factor)\n",
        "\n",
        "            images = images.to(device)\n",
        "            corrupted_images = corrupted_images.to(device)\n",
        "\n",
        "            # forward pass\n",
        "            predictions, predictions_mean, predictions_var = net.sample_predict(corrupted_images, Nsamples)\n",
        "            # print('predictions_mean:', predictions_mean.shape)\n",
        "            # outputs = net.forward(corrupted_images)\n",
        "            loss = criterion(predictions_mean, images) #changed from predictions_mean to outputs\n",
        "\n",
        "            # keep track of loss and accuracy\n",
        "            total_loss += loss.item() * images.size(0)\n",
        "\n",
        "  return total_loss/len(val_loader.dataset)"
      ]
    },
    {
      "cell_type": "markdown",
      "metadata": {
        "id": "A0ntVTJIrJ-Z"
      },
      "source": [
        "### Training Procedure"
      ]
    },
    {
      "cell_type": "markdown",
      "metadata": {
        "id": "rBXdkhshh1uV"
      },
      "source": [
        "##### Noise factor = 0.3"
      ]
    },
    {
      "cell_type": "code",
      "execution_count": 11,
      "metadata": {
        "colab": {
          "base_uri": "https://localhost:8080/"
        },
        "id": "O28XYLZUh1d6",
        "outputId": "0320ab0f-a1cd-492d-ec0d-85ec262676a9"
      },
      "outputs": [
        {
          "output_type": "stream",
          "name": "stderr",
          "text": [
            "100%|██████████| 10/10 [02:27<00:00, 14.79s/it]"
          ]
        },
        {
          "output_type": "stream",
          "name": "stdout",
          "text": [
            "Finished Training\n"
          ]
        },
        {
          "output_type": "stream",
          "name": "stderr",
          "text": [
            "\n"
          ]
        }
      ],
      "source": [
        "torch.manual_seed(42)\n",
        "\n",
        "convolutional_model_03 = ConvolutionalBDAE().to(device)\n",
        "criterion = nn.MSELoss()\n",
        "learning_rate = 1e-3\n",
        "optimizer = torch.optim.Adam(convolutional_model_03.parameters(), lr=learning_rate)\n",
        "\n",
        "noise_factor = 0.3\n",
        "\n",
        "num_epochs = 10\n",
        "\n",
        "Nsamples = 15\n",
        "\n",
        "for epoch in tqdm(range(num_epochs)):  # loop over the dataset multiple times\n",
        "    # Train on data\n",
        "    train_loss = train(train_loader, convolutional_model_03, optimizer, criterion, noise_factor)\n",
        "\n",
        "print('Finished Training')"
      ]
    },
    {
      "cell_type": "markdown",
      "metadata": {
        "id": "eFzIyAjr04kk"
      },
      "source": [
        "## Visualizations Linear"
      ]
    },
    {
      "cell_type": "markdown",
      "metadata": {
        "id": "J_M7GrgkObu9"
      },
      "source": [
        "### Clean images"
      ]
    },
    {
      "cell_type": "code",
      "execution_count": 17,
      "metadata": {
        "colab": {
          "base_uri": "https://localhost:8080/",
          "height": 406
        },
        "id": "_90jotry6aJ_",
        "outputId": "9097162d-6b28-4ec2-868d-74c482d67ac3"
      },
      "outputs": [
        {
          "output_type": "display_data",
          "data": {
            "text/plain": [
              "<Figure size 640x480 with 1 Axes>"
            ],
            "image/png": "[encoded data removed]"
          },
          "metadata": {}
        }
      ],
      "source": [
        "# Specify the index of the image you want to retrieve\n",
        "i = 124  # Change this index to get a different image\n",
        "\n",
        "# Retrieve the i-th image and its label\n",
        "image, _ = test_data[i]\n",
        "\n",
        "plt.imshow(image.squeeze(), cmap='gray')\n",
        "plt.axis('off')\n",
        "plt.show()"
      ]
    },
    {
      "cell_type": "code",
      "execution_count": 18,
      "metadata": {
        "colab": {
          "base_uri": "https://localhost:8080/",
          "height": 1000
        },
        "id": "zJaaRIt37Pfk",
        "outputId": "edc18a63-8d70-4cac-b12b-af979e9e0994"
      },
      "outputs": [
        {
          "output_type": "display_data",
          "data": {
            "text/plain": [
              "<Figure size 500x1000 with 4 Axes>"
            ],
            "image/png": "[encoded data removed]"
          },
          "metadata": {}
        }
      ],
      "source": [
        "# Define the noise levels\n",
        "noise_levels = [0.0, 0.3, 0.6, 0.9]\n",
        "# noise_levels = [0.0, 0.2, 0.4, 0.6]\n",
        "\n",
        "# Create a plot of 4 rows by 1 column\n",
        "fig, axs = plt.subplots(4, 1, figsize=(5, 10))\n",
        "\n",
        "noisy_images = []\n",
        "\n",
        "# Plot the images with different levels of Gaussian noise\n",
        "for idx, noise_level in enumerate(noise_levels):\n",
        "    noisy_image = add_gaussian_noise(image, noise_factor=noise_level)\n",
        "    # noisy_image = add_salt_pepper_noise(image, 0.1)\n",
        "    noisy_images.append(noisy_image)\n",
        "\n",
        "    axs[idx].imshow(noisy_image.squeeze(), cmap='gray')\n",
        "    axs[idx].set_title(f\"σ = {noise_level}\", y=-0.12)\n",
        "    axs[idx].axis('off')\n",
        "\n",
        "# Show the plot\n",
        "plt.tight_layout()\n",
        "plt.show()"
      ]
    },
    {
      "cell_type": "code",
      "execution_count": 19,
      "metadata": {
        "colab": {
          "base_uri": "https://localhost:8080/",
          "height": 1000
        },
        "id": "-ViO0nRU8m-d",
        "outputId": "e47e6073-c516-4d0c-af54-2a7af2e4a526"
      },
      "outputs": [
        {
          "output_type": "display_data",
          "data": {
            "text/plain": [
              "<Figure size 500x1000 with 4 Axes>"
            ],
            "image/png": "[encoded data removed]"
          },
          "metadata": {}
        }
      ],
      "source": [
        "# Define the noise levels and corresponding models\n",
        "models = [linear_model_03] * 4  # Replace with your actual models\n",
        "# models = [linear_model_00, linear_model_02, linear_model_04, linear_model_06]\n",
        "\n",
        "# Apply noise and denoise images\n",
        "denoised_means = []\n",
        "denoised_vars = []\n",
        "\n",
        "\n",
        "for corrupted_image, model in zip(noisy_images, models):\n",
        "    model.eval()\n",
        "    predictions, predictions_mean, predictions_var = model.sample_predict(corrupted_image.to(device), Nsamples)  # Assuming model takes a batch of images\n",
        "    denoised_means.append(predictions_mean.view(28,28).cpu().detach().numpy())\n",
        "    denoised_vars.append(predictions_var.view(28,28).cpu().detach().numpy())\n",
        "\n",
        "# Create a plot of 4 rows by 1 column for denoised images\n",
        "fig, axs = plt.subplots(4, 1, figsize=(5, 10))\n",
        "\n",
        "# Plot the denoised images\n",
        "for idx, denoised_image in enumerate(denoised_means):\n",
        "    axs[idx].imshow(denoised_image, cmap='gray', vmax=1)\n",
        "    axs[idx].set_title(f\"   \", y=-0.12)\n",
        "    axs[idx].axis('off')\n",
        "\n",
        "# Show the plot\n",
        "plt.tight_layout()\n",
        "plt.show()"
      ]
    },
    {
      "cell_type": "code",
      "execution_count": 21,
      "metadata": {
        "colab": {
          "base_uri": "https://localhost:8080/",
          "height": 1000
        },
        "id": "B-R7yFPr_g8h",
        "outputId": "bf5ccd34-37c6-414b-eb31-f59e4cbba30e"
      },
      "outputs": [
        {
          "output_type": "stream",
          "name": "stdout",
          "text": [
            "0.05116383\n",
            "0.032145083\n",
            "0.037488576\n",
            "0.022674423\n"
          ]
        },
        {
          "output_type": "display_data",
          "data": {
            "text/plain": [
              "<Figure size 500x1000 with 4 Axes>"
            ],
            "image/png": "[encoded data removed]"
          },
          "metadata": {}
        }
      ],
      "source": [
        "# Create a plot of 4 rows by 1 column for denoised images\n",
        "fig, axs = plt.subplots(4, 1, figsize=(5, 10))\n",
        "\n",
        "# Plot the denoised images\n",
        "for idx, denoised_image in enumerate(denoised_vars):\n",
        "\n",
        "    print(np.max(denoised_image))\n",
        "\n",
        "    mean_variance = np.mean(denoised_image)\n",
        "\n",
        "    axs[idx].imshow(denoised_image, cmap='viridis', vmax=0.05)\n",
        "    # axs[idx].text(0.95, 0.05, f'{mean_variance:.4f}', size=10, ha='right', va='bottom', color='white', transform=axs[idx].transAxes)\n",
        "    axs[idx].set_title(f\"   \", y=-0.12)\n",
        "    axs[idx].axis('off')\n",
        "\n",
        "# Show the plot\n",
        "plt.tight_layout()\n",
        "plt.show()"
      ]
    },
    {
      "cell_type": "code",
      "execution_count": 33,
      "metadata": {
        "colab": {
          "base_uri": "https://localhost:8080/",
          "height": 652
        },
        "id": "0e_GiycciMuw",
        "outputId": "f5990710-7295-4be2-c168-5acecca4e6ad"
      },
      "outputs": [
        {
          "output_type": "display_data",
          "data": {
            "text/plain": [
              "<Figure size 200x800 with 4 Axes>"
            ],
            "image/png": "[encoded data removed]"
          },
          "metadata": {}
        }
      ],
      "source": [
        "# Download and load the EMNIST dataset\n",
        "emnist_dataset = datasets.EMNIST(\n",
        "                root='./data',\n",
        "                download=True,\n",
        "                split='letters',\n",
        "                train=True,\n",
        "                transform=transforms.Compose([\n",
        "                    lambda img: transforms.functional.rotate(img, -90),\n",
        "                    lambda img: transforms.functional.hflip(img),\n",
        "                    transforms.ToTensor()\n",
        "                ])\n",
        "            )\n",
        "\n",
        "num_images = 4\n",
        "\n",
        "# Function to plot the images\n",
        "def plot_images(images, space=0.05, cmap='gray', vmax=None):\n",
        "    plt.figure(figsize=(2, 8))\n",
        "    for i in range(num_images):\n",
        "        plt.subplot(4, 1, i + 1)\n",
        "        plt.imshow(images[i].numpy().squeeze(), cmap=cmap, vmax=vmax)\n",
        "        plt.axis('off')\n",
        "    plt.subplots_adjust(wspace=space, hspace=space)\n",
        "    plt.show()\n",
        "\n",
        "\n",
        "# Initialize images\n",
        "# Get a different set of 8 images and their labels from the test dataset\n",
        "start_index = 5  # Change this to select a different starting point\n",
        "images, labels = zip(*[(emnist_dataset[i][0], emnist_dataset[i][1]) for i in range(start_index, start_index + 64)])\n",
        "\n",
        "# Plot the images\n",
        "plot_images(images, 0.05)"
      ]
    },
    {
      "cell_type": "code",
      "execution_count": 37,
      "metadata": {
        "colab": {
          "base_uri": "https://localhost:8080/",
          "height": 652
        },
        "id": "CD6FZDdvjbBP",
        "outputId": "82f0fedf-29ab-438e-8a85-50b41d313b33"
      },
      "outputs": [
        {
          "output_type": "display_data",
          "data": {
            "text/plain": [
              "<Figure size 200x800 with 4 Axes>"
            ],
            "image/png": "[encoded data removed]"
          },
          "metadata": {}
        }
      ],
      "source": [
        "torch_images = torch.stack(images)\n",
        "\n",
        "noisy_images = add_gaussian_noise(torch_images, 0.5)\n",
        "plot_images(noisy_images, 0.05, vmax=1)"
      ]
    },
    {
      "cell_type": "code",
      "execution_count": 39,
      "metadata": {
        "colab": {
          "base_uri": "https://localhost:8080/",
          "height": 652
        },
        "id": "CuH0MsBJjk-0",
        "outputId": "68e81498-a221-4b66-9784-a44357507fb6"
      },
      "outputs": [
        {
          "output_type": "display_data",
          "data": {
            "text/plain": [
              "<Figure size 200x800 with 4 Axes>"
            ],
            "image/png": "[encoded data removed]"
          },
          "metadata": {}
        }
      ],
      "source": [
        "# noisy_images_flattened = noisy_images.view(noisy_images.size(0), -1).to(device)\n",
        "linear_model_03.eval()\n",
        "with torch.no_grad():\n",
        "    _, predictions_mean, predictions_var = linear_model_03.sample_predict(noisy_images.to(device), Nsamples)\n",
        "\n",
        "plot_images(predictions_mean.view(-1,28,28).cpu(), 0.05, vmax=1)"
      ]
    },
    {
      "cell_type": "code",
      "execution_count": 40,
      "metadata": {
        "colab": {
          "base_uri": "https://localhost:8080/",
          "height": 670
        },
        "id": "PJ6FvonqjySi",
        "outputId": "630d6cee-81cc-496a-dd27-e4231a2d78fe"
      },
      "outputs": [
        {
          "output_type": "stream",
          "name": "stdout",
          "text": [
            "0.04154846\n"
          ]
        },
        {
          "output_type": "display_data",
          "data": {
            "text/plain": [
              "<Figure size 200x800 with 4 Axes>"
            ],
            "image/png": "[encoded data removed]"
          },
          "metadata": {}
        }
      ],
      "source": [
        "max_pixel = np.max(predictions_var.cpu().numpy()[:4])\n",
        "print(max_pixel)\n",
        "\n",
        "plot_images(predictions_var.view(-1,28,28).cpu(), 0.05, 'viridis', max_pixel)"
      ]
    }
  ],
  "metadata": {
    "colab": {
      "collapsed_sections": [
        "YuxuDJhy5tUt",
        "1BnTStEhOBgG",
        "4RIUSecVN7hg",
        "QTDicF1z4rIb",
        "cBvDP4H44vUE"
      ],
      "provenance": [],
      "gpuType": "T4"
    },
    "kernelspec": {
      "display_name": "Python 3",
      "name": "python3"
    },
    "language_info": {
      "name": "python"
    },
    "accelerator": "GPU"
  },
  "nbformat": 4,
  "nbformat_minor": 0
}