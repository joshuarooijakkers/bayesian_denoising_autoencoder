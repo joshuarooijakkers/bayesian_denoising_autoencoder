{
  "nbformat": 4,
  "nbformat_minor": 0,
  "metadata": {
    "colab": {
      "provenance": []
    },
    "kernelspec": {
      "name": "python3",
      "display_name": "Python 3"
    },
    "language_info": {
      "name": "python"
    }
  },
  "cells": [
    {
      "cell_type": "markdown",
      "source": [
        "# Bayesian DAE vs Traditional DAE (Linear)\n"
      ],
      "metadata": {
        "id": "PlZSSNIGYzet"
      }
    },
    {
      "cell_type": "markdown",
      "source": [
        "## Data loading and processing"
      ],
      "metadata": {
        "id": "cF9oEeO_0iA3"
      }
    },
    {
      "cell_type": "code",
      "source": [
        "import torch\n",
        "import torch.nn as nn\n",
        "import torch.nn.functional as F\n",
        "import torchvision.transforms.functional as TF\n",
        "from torchvision import datasets\n",
        "import torchvision.transforms as transforms\n",
        "from torch.utils.data import random_split, DataLoader\n",
        "from tqdm import tqdm\n",
        "\n",
        "import matplotlib.pyplot as plt\n",
        "import seaborn as sns\n",
        "import numpy as np"
      ],
      "metadata": {
        "id": "ZlhMeo9KNqcI"
      },
      "execution_count": 1,
      "outputs": []
    },
    {
      "cell_type": "code",
      "source": [
        "device = torch.device('cuda' if torch.cuda.is_available() else 'cpu')\n",
        "device"
      ],
      "metadata": {
        "colab": {
          "base_uri": "https://localhost:8080/"
        },
        "id": "e45FnUe8STwL",
        "outputId": "3071ad5e-4a20-4f4a-8bcf-5e0e34d66935"
      },
      "execution_count": 2,
      "outputs": [
        {
          "output_type": "execute_result",
          "data": {
            "text/plain": [
              "device(type='cpu')"
            ]
          },
          "metadata": {},
          "execution_count": 2
        }
      ]
    },
    {
      "cell_type": "code",
      "source": [
        "# convert data to torch.FloatTensor\n",
        "transform = transforms.ToTensor()\n",
        "\n",
        "# load the training and test datasets\n",
        "trainval_data = datasets.FashionMNIST(root='data', train=True,\n",
        "                                      download=True, transform=transform)\n",
        "test_data = datasets.FashionMNIST(root='data', train=False,\n",
        "                                     download=True, transform=transform)"
      ],
      "metadata": {
        "id": "6kgioEV_N5as",
        "colab": {
          "base_uri": "https://localhost:8080/"
        },
        "outputId": "09ade51e-ad52-4a65-cf70-9dc6d1c6917e"
      },
      "execution_count": 3,
      "outputs": [
        {
          "output_type": "stream",
          "name": "stdout",
          "text": [
            "Downloading http://fashion-mnist.s3-website.eu-central-1.amazonaws.com/train-images-idx3-ubyte.gz\n",
            "Downloading http://fashion-mnist.s3-website.eu-central-1.amazonaws.com/train-images-idx3-ubyte.gz to data/FashionMNIST/raw/train-images-idx3-ubyte.gz\n"
          ]
        },
        {
          "output_type": "stream",
          "name": "stderr",
          "text": [
            "100%|██████████| 26421880/26421880 [00:02<00:00, 12532452.78it/s]\n"
          ]
        },
        {
          "output_type": "stream",
          "name": "stdout",
          "text": [
            "Extracting data/FashionMNIST/raw/train-images-idx3-ubyte.gz to data/FashionMNIST/raw\n",
            "\n",
            "Downloading http://fashion-mnist.s3-website.eu-central-1.amazonaws.com/train-labels-idx1-ubyte.gz\n",
            "Downloading http://fashion-mnist.s3-website.eu-central-1.amazonaws.com/train-labels-idx1-ubyte.gz to data/FashionMNIST/raw/train-labels-idx1-ubyte.gz\n"
          ]
        },
        {
          "output_type": "stream",
          "name": "stderr",
          "text": [
            "100%|██████████| 29515/29515 [00:00<00:00, 209058.95it/s]\n"
          ]
        },
        {
          "output_type": "stream",
          "name": "stdout",
          "text": [
            "Extracting data/FashionMNIST/raw/train-labels-idx1-ubyte.gz to data/FashionMNIST/raw\n",
            "\n",
            "Downloading http://fashion-mnist.s3-website.eu-central-1.amazonaws.com/t10k-images-idx3-ubyte.gz\n",
            "Downloading http://fashion-mnist.s3-website.eu-central-1.amazonaws.com/t10k-images-idx3-ubyte.gz to data/FashionMNIST/raw/t10k-images-idx3-ubyte.gz\n"
          ]
        },
        {
          "output_type": "stream",
          "name": "stderr",
          "text": [
            "100%|██████████| 4422102/4422102 [00:02<00:00, 1742552.19it/s]\n"
          ]
        },
        {
          "output_type": "stream",
          "name": "stdout",
          "text": [
            "Extracting data/FashionMNIST/raw/t10k-images-idx3-ubyte.gz to data/FashionMNIST/raw\n",
            "\n",
            "Downloading http://fashion-mnist.s3-website.eu-central-1.amazonaws.com/t10k-labels-idx1-ubyte.gz\n",
            "Downloading http://fashion-mnist.s3-website.eu-central-1.amazonaws.com/t10k-labels-idx1-ubyte.gz to data/FashionMNIST/raw/t10k-labels-idx1-ubyte.gz\n"
          ]
        },
        {
          "output_type": "stream",
          "name": "stderr",
          "text": [
            "100%|██████████| 5148/5148 [00:00<00:00, 3834536.85it/s]\n"
          ]
        },
        {
          "output_type": "stream",
          "name": "stdout",
          "text": [
            "Extracting data/FashionMNIST/raw/t10k-labels-idx1-ubyte.gz to data/FashionMNIST/raw\n",
            "\n"
          ]
        }
      ]
    },
    {
      "cell_type": "code",
      "source": [
        "train_data, val_data = random_split(trainval_data, [50_000, 10_000])\n",
        "\n",
        "# how many samples per batch to load\n",
        "batch_size = 64\n",
        "\n",
        "# prepare data loaders\n",
        "train_loader = torch.utils.data.DataLoader(train_data, batch_size=batch_size, shuffle=True)\n",
        "val_loader = torch.utils.data.DataLoader(val_data, batch_size=batch_size, shuffle=False)\n",
        "test_loader = torch.utils.data.DataLoader(test_data, batch_size=batch_size, shuffle=False)"
      ],
      "metadata": {
        "id": "l8ynxzkkdt1p"
      },
      "execution_count": 4,
      "outputs": []
    },
    {
      "cell_type": "code",
      "source": [
        "# Get a batch of training data\n",
        "data_iter = iter(train_loader)\n",
        "images, labels = next(data_iter)\n",
        "\n",
        "# Plot the first 10 images\n",
        "fig, axes = plt.subplots(1, 10, figsize=(15, 1.5))\n",
        "for i in range(10):\n",
        "    ax = axes[i]\n",
        "    ax.imshow(images[i].numpy().squeeze(), cmap='gray')\n",
        "    ax.axis('off')\n",
        "\n",
        "plt.show()"
      ],
      "metadata": {
        "colab": {
          "base_uri": "https://localhost:8080/",
          "height": 135
        },
        "id": "9gDobDSefgSe",
        "outputId": "e281fa80-b19b-4ea4-df6f-9301866005f2"
      },
      "execution_count": 5,
      "outputs": [
        {
          "output_type": "display_data",
          "data": {
            "text/plain": [
              "<Figure size 1500x150 with 10 Axes>"
            ],
            "image/png": "[encoded data removed]"
          },
          "metadata": {}
        }
      ]
    },
    {
      "cell_type": "markdown",
      "source": [
        "## Autoencoder Architectures"
      ],
      "metadata": {
        "id": "_ZwS1LxU0qtB"
      }
    },
    {
      "cell_type": "code",
      "source": [
        "dropout_rate = 0.2\n",
        "\n",
        "def MC_dropout(act_vec, p=0.5, mask=True):\n",
        "  return F.dropout(act_vec, p=p, training=mask, inplace=False)\n",
        "\n",
        "class LinearBDAE(nn.Module):\n",
        "    def __init__(self):\n",
        "        super().__init__()\n",
        "        # Encoder layers\n",
        "        self.enc_fc1 = nn.Linear(28*28, 512)\n",
        "        self.enc_fc2 = nn.Linear(512, 256)\n",
        "        self.enc_fc3 = nn.Linear(256, 128)\n",
        "\n",
        "        # Decoder layers\n",
        "        self.dec_fc1 = nn.Linear(128, 256)\n",
        "        self.dec_fc2 = nn.Linear(256, 512)\n",
        "        self.dec_fc3 = nn.Linear(512, 28*28)\n",
        "\n",
        "    def forward(self, x, dropout_p=dropout_rate, apply_dropout=True):\n",
        "        # Encoder forward pass\n",
        "        x = F.relu(self.enc_fc1(x))\n",
        "        x = F.relu(self.enc_fc2(x))\n",
        "        x = F.relu(self.enc_fc3(x))\n",
        "\n",
        "        # Decoder forward pass with MC Dropout\n",
        "        x = F.relu(self.dec_fc1(x))\n",
        "        x = MC_dropout(x, p=dropout_p, mask=apply_dropout)\n",
        "        x = F.relu(self.dec_fc2(x))\n",
        "        x = MC_dropout(x, p=dropout_p, mask=apply_dropout)\n",
        "        x = torch.sigmoid(self.dec_fc3(x))\n",
        "        return x\n",
        "\n",
        "    def sample_predict(self, x, Nsamples):\n",
        "      predictions = x.data.new(Nsamples, x.shape[0], 28*28)\n",
        "      for i in range(Nsamples):\n",
        "        y = self.forward(x)\n",
        "        predictions[i] = y\n",
        "\n",
        "      predictions_mean = torch.mean(predictions, dim=0)\n",
        "      predictions_var = torch.var(predictions, dim=0)\n",
        "\n",
        "      return predictions, predictions_mean, predictions_var\n",
        "\n",
        "\n",
        "class LinearDAE(nn.Module):\n",
        "    def __init__(self):\n",
        "        super().__init__()\n",
        "        # Encoder layers\n",
        "        self.enc_fc1 = nn.Linear(28*28, 512)\n",
        "        self.enc_fc2 = nn.Linear(512, 256)\n",
        "        self.enc_fc3 = nn.Linear(256, 128)\n",
        "\n",
        "        # Decoder layers\n",
        "        self.dec_fc1 = nn.Linear(128, 256)\n",
        "        self.dec_fc2 = nn.Linear(256, 512)\n",
        "        self.dec_fc3 = nn.Linear(512, 28*28)\n",
        "\n",
        "    def forward(self, x, dropout_p=dropout_rate, apply_dropout=True):\n",
        "        # Encoder forward pass\n",
        "        x = F.relu(self.enc_fc1(x))\n",
        "        x = F.relu(self.enc_fc2(x))\n",
        "        x = F.relu(self.enc_fc3(x))\n",
        "\n",
        "        # Decoder forward pass with MC Dropout\n",
        "        x = F.relu(self.dec_fc1(x))\n",
        "        # x = MC_dropout(x, p=dropout_p, mask=apply_dropout)\n",
        "        x = F.relu(self.dec_fc2(x))\n",
        "        # x = MC_dropout(x, p=dropout_p, mask=apply_dropout)\n",
        "        x = torch.sigmoid(self.dec_fc3(x))\n",
        "        return x\n",
        "\n",
        "    def sample_predict(self, x, Nsamples):\n",
        "      predictions = x.data.new(Nsamples, x.shape[0], 28*28)\n",
        "      for i in range(Nsamples):\n",
        "        y = self.forward(x)\n",
        "        predictions[i] = y\n",
        "\n",
        "      predictions_mean = torch.mean(predictions, dim=0)\n",
        "      predictions_var = torch.var(predictions, dim=0)\n",
        "\n",
        "      return predictions, predictions_mean, predictions_var"
      ],
      "metadata": {
        "id": "ysrc2_7-8U__"
      },
      "execution_count": 6,
      "outputs": []
    },
    {
      "cell_type": "markdown",
      "source": [
        "## Noise schemes"
      ],
      "metadata": {
        "id": "i-uvFRQO5dNT"
      }
    },
    {
      "cell_type": "code",
      "source": [
        "def add_gaussian_noise(images, noise_factor=0.5):\n",
        "  corrupted_images = images + noise_factor * torch.randn(*images.shape)\n",
        "  corrupted_images = np.clip(corrupted_images, 0., 1.)\n",
        "  return corrupted_images"
      ],
      "metadata": {
        "id": "klWJaaZ35gIN"
      },
      "execution_count": 7,
      "outputs": []
    },
    {
      "cell_type": "markdown",
      "source": [
        "## Training Process"
      ],
      "metadata": {
        "id": "PMQHrE8y0uZK"
      }
    },
    {
      "cell_type": "markdown",
      "source": [
        "### Training functions"
      ],
      "metadata": {
        "id": "Om1oPzEDrIMa"
      }
    },
    {
      "cell_type": "code",
      "source": [
        "def train(train_loader, net, optimizer, criterion, noise_factor):\n",
        "  total_loss = 0\n",
        "\n",
        "  for i, data in enumerate(train_loader):\n",
        "\n",
        "        images, _ = data\n",
        "        images = images.view(images.size(0), -1)\n",
        "\n",
        "        # ADD NOISE PROCESS\n",
        "        corrupted_images = add_gaussian_noise(images, noise_factor=noise_factor)\n",
        "\n",
        "        images = images.to(device)\n",
        "        corrupted_images = corrupted_images.to(device)\n",
        "\n",
        "        # zero the parameter gradients\n",
        "        optimizer.zero_grad()\n",
        "\n",
        "        # forward + backward + optimize\n",
        "        outputs = net.forward(corrupted_images)\n",
        "\n",
        "        loss = criterion(outputs, images)\n",
        "\n",
        "        loss.backward()\n",
        "        optimizer.step()\n",
        "\n",
        "        # keep track of loss and accuracy\n",
        "        total_loss += loss.item() * images.size(0)\n",
        "\n",
        "  avg_loss = total_loss/len(train_loader.dataset)  # Compute average loss\n",
        "\n",
        "  return avg_loss"
      ],
      "metadata": {
        "id": "tnpFp5G7ho7l"
      },
      "execution_count": 8,
      "outputs": []
    },
    {
      "cell_type": "code",
      "source": [
        "def validation(val_loader, net, criterion, Nsamples, noise_factor):\n",
        "  total_loss = 0\n",
        "\n",
        "  # Use torch.no_grad to skip gradient calculation, not needed for evaluation\n",
        "  with torch.no_grad():\n",
        "      # iterate through batches\n",
        "        for data in val_loader:\n",
        "            # get the inputs; data is a list of [inputs, labels]\n",
        "            images, _ = data\n",
        "            # images = images.to(device)\n",
        "            images = images.view(images.size(0), -1)\n",
        "\n",
        "            corrupted_images = add_gaussian_noise(images, noise_factor=noise_factor)\n",
        "\n",
        "            images = images.to(device)\n",
        "            corrupted_images = corrupted_images.to(device)\n",
        "\n",
        "            # forward pass\n",
        "            predictions, predictions_mean, predictions_var = net.sample_predict(corrupted_images, Nsamples)\n",
        "            loss = criterion(predictions_mean, images)\n",
        "\n",
        "            # keep track of loss and accuracy\n",
        "            total_loss += loss.item() * images.size(0)\n",
        "\n",
        "  return total_loss/len(val_loader.dataset)"
      ],
      "metadata": {
        "id": "sNDtUJu_jF_l"
      },
      "execution_count": 9,
      "outputs": []
    },
    {
      "cell_type": "markdown",
      "source": [
        "### Training Procedure"
      ],
      "metadata": {
        "id": "A0ntVTJIrJ-Z"
      }
    },
    {
      "cell_type": "markdown",
      "source": [
        "##### DAE"
      ],
      "metadata": {
        "id": "1BnTStEhOBgG"
      }
    },
    {
      "cell_type": "code",
      "source": [
        "#Set random seed\n",
        "torch.manual_seed(42)\n",
        "\n",
        "traditional_linear_model = LinearDAE().to(device)\n",
        "criterion = nn.MSELoss()\n",
        "learning_rate = 1e-3\n",
        "optimizer = torch.optim.Adam(traditional_linear_model.parameters(), lr=learning_rate)\n",
        "\n",
        "noise_factor = 0.3\n",
        "\n",
        "num_epochs = 5\n",
        "\n",
        "Nsamples = 10\n",
        "\n",
        "for epoch in tqdm(range(num_epochs)):  # loop over the dataset multiple times\n",
        "    # Train on data\n",
        "    train_loss = train(train_loader, traditional_linear_model, optimizer, criterion, noise_factor)\n",
        "\n",
        "print('Finished Training')\n"
      ],
      "metadata": {
        "colab": {
          "base_uri": "https://localhost:8080/"
        },
        "id": "Z4_UPu_VODVb",
        "outputId": "fca3046e-302a-4334-d47b-d71038d3c162"
      },
      "execution_count": 10,
      "outputs": [
        {
          "output_type": "stream",
          "name": "stderr",
          "text": [
            "100%|██████████| 5/5 [02:38<00:00, 31.78s/it]"
          ]
        },
        {
          "output_type": "stream",
          "name": "stdout",
          "text": [
            "Finished Training\n"
          ]
        },
        {
          "output_type": "stream",
          "name": "stderr",
          "text": [
            "\n"
          ]
        }
      ]
    },
    {
      "cell_type": "markdown",
      "source": [
        "##### BDAE"
      ],
      "metadata": {
        "id": "4RIUSecVN7hg"
      }
    },
    {
      "cell_type": "code",
      "source": [
        "bayesian_linear_model = LinearBDAE().to(device)\n",
        "criterion = nn.MSELoss()\n",
        "# learning_rate = 1e-3 #Should already be specified\n",
        "optimizer = torch.optim.Adam(bayesian_linear_model.parameters(), lr=learning_rate)\n",
        "\n",
        "# num_epochs = 1 #Should already be specified\n",
        "\n",
        "Nsamples = 10\n",
        "\n",
        "for epoch in tqdm(range(num_epochs)):  # loop over the dataset multiple times\n",
        "    # Train on data\n",
        "    train_loss = train(train_loader, bayesian_linear_model, optimizer, criterion, noise_factor)\n",
        "\n",
        "print('Finished Training')"
      ],
      "metadata": {
        "colab": {
          "base_uri": "https://localhost:8080/"
        },
        "id": "qIvQiQYYnNHS",
        "outputId": "90af8bfa-3755-4cd3-c739-a89062c9607f"
      },
      "execution_count": 11,
      "outputs": [
        {
          "output_type": "stream",
          "name": "stderr",
          "text": [
            "100%|██████████| 5/5 [02:36<00:00, 31.31s/it]"
          ]
        },
        {
          "output_type": "stream",
          "name": "stdout",
          "text": [
            "Finished Training\n"
          ]
        },
        {
          "output_type": "stream",
          "name": "stderr",
          "text": [
            "\n"
          ]
        }
      ]
    },
    {
      "cell_type": "markdown",
      "source": [
        "## Visualizations Linear"
      ],
      "metadata": {
        "id": "eFzIyAjr04kk"
      }
    },
    {
      "cell_type": "markdown",
      "source": [
        "### Clean images"
      ],
      "metadata": {
        "id": "J_M7GrgkObu9"
      }
    },
    {
      "cell_type": "code",
      "source": [
        "num_images = 4\n",
        "\n",
        "# Function to plot the images\n",
        "def plot_images(images, space=0.05, cmap='gray', vmax=None):\n",
        "    plt.figure(figsize=(2, 8))\n",
        "    for i in range(num_images):\n",
        "        plt.subplot(4, 1, i + 1)\n",
        "        plt.imshow(images[i].numpy().squeeze(), cmap=cmap, vmax=vmax)\n",
        "        plt.axis('off')\n",
        "    plt.subplots_adjust(wspace=space, hspace=space)\n",
        "    plt.show()\n",
        "\n",
        "\n",
        "# Initialize images\n",
        "# Get a different set of 8 images and their labels from the test dataset\n",
        "start_index = 5  # Change this to select a different starting point\n",
        "images, labels = zip(*[(test_data[i][0], test_data[i][1]) for i in range(start_index, start_index + 64)])\n",
        "\n",
        "# Plot the images\n",
        "plot_images(images, 0.05, vmax=1)"
      ],
      "metadata": {
        "colab": {
          "base_uri": "https://localhost:8080/",
          "height": 652
        },
        "id": "yerbr5YlGhCh",
        "outputId": "23542f0e-eafa-4229-c557-64934c50d7c8"
      },
      "execution_count": 16,
      "outputs": [
        {
          "output_type": "display_data",
          "data": {
            "text/plain": [
              "<Figure size 200x800 with 4 Axes>"
            ],
            "image/png": "[encoded data removed]"
          },
          "metadata": {}
        }
      ]
    },
    {
      "cell_type": "markdown",
      "source": [
        "### Corrupted images"
      ],
      "metadata": {
        "id": "sCpiC76MOghr"
      }
    },
    {
      "cell_type": "code",
      "source": [
        "torch_images = torch.stack(images)\n",
        "\n",
        "noisy_images = add_gaussian_noise(torch_images, noise_factor)\n",
        "plot_images(noisy_images, 0.05)"
      ],
      "metadata": {
        "colab": {
          "base_uri": "https://localhost:8080/",
          "height": 652
        },
        "id": "HclIkZsgH7Zg",
        "outputId": "623fc6ac-b81d-49b7-e8d9-647ce4946e52"
      },
      "execution_count": 17,
      "outputs": [
        {
          "output_type": "display_data",
          "data": {
            "text/plain": [
              "<Figure size 200x800 with 4 Axes>"
            ],
            "image/png": "[encoded data removed]"
          },
          "metadata": {}
        }
      ]
    },
    {
      "cell_type": "markdown",
      "source": [
        "### Predictions DAE"
      ],
      "metadata": {
        "id": "N3cbNUCGOj1r"
      }
    },
    {
      "cell_type": "code",
      "source": [
        "noisy_images_flattened = noisy_images.view(noisy_images.size(0), -1).to(device)\n",
        "traditional_convolutional_model.eval()\n",
        "with torch.no_grad():\n",
        "    _, predictions_mean, predictions_var = traditional_convolutional_model.sample_predict(noisy_images_flattened, 10)\n",
        "\n",
        "plot_images(predictions_mean.view(-1,28,28).cpu(), 0.05, vmax=1)"
      ],
      "metadata": {
        "colab": {
          "base_uri": "https://localhost:8080/",
          "height": 652
        },
        "id": "nLuW5lSJOjfA",
        "outputId": "92c5c01c-6f56-42e9-edfd-25c6c174ef72"
      },
      "execution_count": 18,
      "outputs": [
        {
          "output_type": "display_data",
          "data": {
            "text/plain": [
              "<Figure size 200x800 with 4 Axes>"
            ],
            "image/png": "[encoded data removed]"
          },
          "metadata": {}
        }
      ]
    },
    {
      "cell_type": "markdown",
      "source": [
        "### Mean BDAE"
      ],
      "metadata": {
        "id": "UQ6NNOWqOon1"
      }
    },
    {
      "cell_type": "code",
      "source": [
        "noisy_images_flattened = noisy_images.view(noisy_images.size(0), -1).to(device)\n",
        "bayesian_linear_model.eval()\n",
        "with torch.no_grad():\n",
        "    _, predictions_mean, predictions_var = bayesian_linear_model.sample_predict(noisy_images_flattened, 10)\n",
        "\n",
        "plot_images(predictions_mean.view(-1,28,28).cpu(), 0.05)"
      ],
      "metadata": {
        "colab": {
          "base_uri": "https://localhost:8080/",
          "height": 652
        },
        "id": "qJ-9gOSfMJUm",
        "outputId": "b63c2c77-44a1-4b54-faa3-c0bba3b66ec3"
      },
      "execution_count": 19,
      "outputs": [
        {
          "output_type": "display_data",
          "data": {
            "text/plain": [
              "<Figure size 200x800 with 4 Axes>"
            ],
            "image/png": "[encoded data removed]"
          },
          "metadata": {}
        }
      ]
    },
    {
      "cell_type": "markdown",
      "source": [
        "### Variance BDAE"
      ],
      "metadata": {
        "id": "pZv5rx-TOqGR"
      }
    },
    {
      "cell_type": "code",
      "source": [
        "max_pixel = np.max(predictions_var.cpu().numpy()[:4])\n",
        "print(max_pixel)\n",
        "\n",
        "plot_images(predictions_var.view(-1,28,28).cpu(), 0.05, 'viridis', vmax=None)\n",
        "\n",
        "# plt.figure(figsize=(2, 8))\n",
        "# for i in range(num_images):\n",
        "#     plt.subplot(4, 1, i + 1)\n",
        "#     plt.imshow(predictions_var[i].cpu().numpy().squeeze(), cmap='viridis', vmax=0.12)\n",
        "#     plt.axis('off')\n",
        "# # plt.subplots_adjust(wspace=space, hspace=space)\n",
        "# plt.show()"
      ],
      "metadata": {
        "colab": {
          "base_uri": "https://localhost:8080/",
          "height": 670
        },
        "id": "Q29jMcLbMLky",
        "outputId": "d3c90fe7-aefe-497a-83c2-bc991d8eadee"
      },
      "execution_count": 22,
      "outputs": [
        {
          "output_type": "stream",
          "name": "stdout",
          "text": [
            "0.07121571\n"
          ]
        },
        {
          "output_type": "display_data",
          "data": {
            "text/plain": [
              "<Figure size 200x800 with 4 Axes>"
            ],
            "image/png": "[encoded data removed]"
          },
          "metadata": {}
        }
      ]
    }
  ]
}